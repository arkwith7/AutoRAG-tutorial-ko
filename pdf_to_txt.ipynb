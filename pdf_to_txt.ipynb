{
 "cells": [
  {
   "cell_type": "code",
   "execution_count": 1,
   "metadata": {},
   "outputs": [],
   "source": [
    "import os\n",
    "import json\n",
    "import re\n",
    "import tempfile\n",
    "from pdf2image import convert_from_path\n",
    "import img2pdf\n",
    "import fitz\n",
    "from PIL import Image\n",
    "import io\n",
    "import pandas as pd\n",
    "import time\n",
    "from langchain_upstage import UpstageLayoutAnalysisLoader\n",
    "# from rainbow_html_transformer_old import HTMLToTextWithMarkdownTables\n",
    "from rainbow_html_transformer import HTMLToTextWithIndentation\n",
    "from tqdm import tqdm"
   ]
  },
  {
   "cell_type": "code",
   "execution_count": 2,
   "metadata": {},
   "outputs": [],
   "source": [
    "def get_pdf_pages(pdf_path):\n",
    "    doc = fitz.open(pdf_path)\n",
    "    return len(doc)"
   ]
  },
  {
   "cell_type": "code",
   "execution_count": 3,
   "metadata": {},
   "outputs": [],
   "source": [
    "def extract_text_with_ocr(pdf_path, max_pages=3):\n",
    "    extracted_text = []\n",
    "    html_transformer = HTMLToTextWithIndentation()\n",
    "    \n",
    "    try:\n",
    "        images = convert_from_path(pdf_path, first_page=1, last_page=max_pages)\n",
    "        \n",
    "        print(f\"Processing {len(images)} pages...\")\n",
    "        for i, img in enumerate(tqdm(images, desc=\"Processing pages\", unit=\"page\")):\n",
    "            with tempfile.NamedTemporaryFile(delete=False, suffix='.png') as temp_file:\n",
    "                img.save(temp_file, format=\"PNG\")\n",
    "                temp_file_path = temp_file.name\n",
    "            \n",
    "            try:\n",
    "                loader = UpstageLayoutAnalysisLoader(\n",
    "                    file_path=temp_file_path,\n",
    "                    use_ocr=True\n",
    "                )\n",
    "                documents = loader.load()\n",
    "                \n",
    "                if not documents:\n",
    "                    print(f\"Warning: No content extracted from page {i+1}\")\n",
    "                    continue\n",
    "\n",
    "                page_content = \"\"\n",
    "                for doc in documents:\n",
    "                    if doc is None or not doc.page_content:\n",
    "                        print(f\"Warning: Empty document encountered for page {i+1}\")\n",
    "                        continue\n",
    "                    transformed_doc = html_transformer.transform_document(doc)\n",
    "                    page_content += transformed_doc.page_content\n",
    "\n",
    "                # 페이지 내용 정리\n",
    "                page_content = page_content.strip()\n",
    "                if page_content:\n",
    "                    page_content += f\"\\n\\n--- End of Page {i+1} ---\\n\\n\"\n",
    "                    extracted_text.append(page_content)\n",
    "                else:\n",
    "                    print(f\"Warning: No content extracted from page {i+1}\")\n",
    "            except Exception as e:\n",
    "                print(f\"Error processing page {i+1}: {e}\")\n",
    "            finally:\n",
    "                os.unlink(temp_file_path)\n",
    "    \n",
    "    except Exception as e:\n",
    "        print(f\"Error processing {pdf_path} with OCR: {e}\")\n",
    "    \n",
    "    if not extracted_text:\n",
    "        print(\"Warning: No text was extracted from the document.\")\n",
    "    \n",
    "    return ''.join(extracted_text)"
   ]
  },
  {
   "cell_type": "code",
   "execution_count": 4,
   "metadata": {},
   "outputs": [
    {
     "name": "stdout",
     "output_type": "stream",
     "text": [
      "Processing file : IRP자산관리_약관(기업형)_20240401_P24.pdf\n",
      "Processing 24 pages...\n"
     ]
    },
    {
     "name": "stderr",
     "output_type": "stream",
     "text": [
      "Processing pages: 100%|██████████| 24/24 [01:23<00:00,  3.48s/page]"
     ]
    },
    {
     "name": "stdout",
     "output_type": "stream",
     "text": [
      "OCR text saved to: ./processed_txt/IRP자산관리_약관(기업형)_20240401_P24.txt\n",
      "Extracted text:\n",
      "무배당 신한개인형퇴직연금 자산관리보험\n",
      "      약관\n",
      "  (기업형)\n",
      "\n",
      "--- End of Page 1 ---\n",
      "\n",
      "무배당 신한개인형퇴직연금 자산관리보험 약관\n",
      "        (기업형)\n",
      "    제1조 (약관의 목적)\n",
      "    이 약관의 목적은 근로자퇴직급여보장법(이 약관에서 \"법\"이라 합니다) 제25조에 의\n",
      "    하여 개인형퇴직연금(기업형)제도(이 약관에서 \"이 제도\"라 합니다)를 설정한 가입자\n",
      "    와 퇴직연금사업자인 신한라이프생명보험주식회사(이 약관에서 \"회사\"라 합니다)가\n",
      "    이 제도의 자산관리업무 수행을 위하여 개인형퇴직연금(기업형) 자산관리(보험)계약\n",
      "    (이 약관에서 \"이 계약\"이라 합니다)을 체결함에 있어 세부사항을 정함에 있습니다.\n",
      "    제2조 (용어의 정의)\n",
      "    ① 이 약관에서 사용하는 용어의 정의는 다음과 같습니다.\n",
      "    1. \"사용자\"란「근로기준법」 제2조 제1항 제2호에 따른 사용자를 말합니다.\n",
      "    2. \"가입자\"라 함은 법 제25조 제2항에 의해 ...\n"
     ]
    },
    {
     "name": "stderr",
     "output_type": "stream",
     "text": [
      "\n"
     ]
    }
   ],
   "source": [
    "# 사용 예:\n",
    "# Layout Analysis API의 최대 페이지 제한인 100페이지 이상은 처리 불가\n",
    "folder_path = \"./raw_docs\"\n",
    "output_folder_path = \"./processed_txt\"\n",
    "# pdf_file_name = \"판매약관_ThePride신한참좋은치아보험PlusⅡ(무배당, 갱신형)_20240401_P252.pdf\"\n",
    "# pdf_file_name = \"SHL0165_The안심VIP저축보험Ⅱ(무배당)_P116.pdf\"\n",
    "# pdf_file_name = \"DB자산관리_약관_20240401_P22.pdf\"\n",
    "pdf_file_name = \"IRP자산관리_약관(기업형)_20240401_P24.pdf\"\n",
    "print(f\"Processing file : {pdf_file_name}\")\n",
    "pdf_path = os.path.join(folder_path, pdf_file_name)\n",
    "\n",
    "max_pages = get_pdf_pages(pdf_path)\n",
    "ocr_text = extract_text_with_ocr(pdf_path, max_pages)\n",
    "\n",
    "# 텍스트 파일로 저장\n",
    "output_file_name = os.path.splitext(pdf_file_name)[0] + \".txt\"\n",
    "output_path = os.path.join(output_folder_path, output_file_name)\n",
    "\n",
    "with open(output_path, 'w', encoding='utf-8') as f:\n",
    "    f.write(ocr_text)\n",
    "\n",
    "print(f\"OCR text saved to: {output_path}\")\n",
    "\n",
    "# 저장된 텍스트 출력 (선택사항)\n",
    "print(\"Extracted text:\")\n",
    "print(ocr_text[:500] + \"...\")  # 처음 500자만 출력"
   ]
  }
 ],
 "metadata": {
  "kernelspec": {
   "display_name": "venv",
   "language": "python",
   "name": "python3"
  },
  "language_info": {
   "codemirror_mode": {
    "name": "ipython",
    "version": 3
   },
   "file_extension": ".py",
   "mimetype": "text/x-python",
   "name": "python",
   "nbconvert_exporter": "python",
   "pygments_lexer": "ipython3",
   "version": "3.11.1"
  }
 },
 "nbformat": 4,
 "nbformat_minor": 2
}
