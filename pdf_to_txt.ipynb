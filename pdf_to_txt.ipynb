{
 "cells": [
  {
   "cell_type": "code",
   "execution_count": 1,
   "metadata": {},
   "outputs": [],
   "source": [
    "import os\n",
    "import json\n",
    "import re\n",
    "import tempfile\n",
    "from pdf2image import convert_from_path\n",
    "import img2pdf\n",
    "import fitz\n",
    "from PIL import Image\n",
    "import io\n",
    "import pandas as pd\n",
    "import time\n",
    "from langchain_upstage import UpstageLayoutAnalysisLoader\n",
    "from rainbow_html_transformer import HTMLToTextWithMarkdownTables\n",
    "from tqdm import tqdm"
   ]
  },
  {
   "cell_type": "code",
   "execution_count": 2,
   "metadata": {},
   "outputs": [],
   "source": [
    "def get_pdf_pages(pdf_path):\n",
    "    doc = fitz.open(pdf_path)\n",
    "    return len(doc)"
   ]
  },
  {
   "cell_type": "code",
   "execution_count": 3,
   "metadata": {},
   "outputs": [],
   "source": [
    "def extract_text_with_ocr(pdf_path, max_pages=3):\n",
    "    extracted_text = []\n",
    "    try:\n",
    "        # PDF를 이미지로 변환\n",
    "        images = convert_from_path(pdf_path, first_page=1, last_page=max_pages)\n",
    "        \n",
    "        print(f\"Processing {len(images)} pages...\")\n",
    "        for i, img in enumerate(tqdm(images, desc=\"Processing pages\", unit=\"page\")):\n",
    "            with tempfile.NamedTemporaryFile(delete=False, suffix='.png') as temp_file:\n",
    "                img.save(temp_file, format=\"PNG\")\n",
    "                temp_file_path = temp_file.name\n",
    "            \n",
    "            try:\n",
    "                loader = UpstageLayoutAnalysisLoader(\n",
    "                    file_path=temp_file_path,\n",
    "                    use_ocr=True\n",
    "                )\n",
    "                documents = loader.load()\n",
    "                \n",
    "                html_transformer = HTMLToTextWithMarkdownTables()\n",
    "                for doc in documents:\n",
    "                    # HTML 태그 제거\n",
    "                    transformed_doc = html_transformer.transform_documents([doc])[0]\n",
    "                    extracted_text.append(transformed_doc.page_content)\n",
    "            finally:\n",
    "                os.unlink(temp_file_path)\n",
    "    \n",
    "    except Exception as e:\n",
    "        print(f\"Error processing {pdf_path} with OCR: {e}\")\n",
    "    \n",
    "    return ' '.join(extracted_text)"
   ]
  },
  {
   "cell_type": "code",
   "execution_count": 4,
   "metadata": {},
   "outputs": [
    {
     "name": "stdout",
     "output_type": "stream",
     "text": [
      "Processing file : 판매약관_ThePride신한참좋은치아보험PlusⅡ(무배당, 갱신형)_20240401_P252.pdf\n"
     ]
    }
   ],
   "source": [
    "# 사용 예:\n",
    "# Layout Analysis API의 최대 페이지 제한인 100페이지 이상은 처리 불가\n",
    "folder_path = \"./raw_docs\"\n",
    "output_folder_path = \"./processed_txt\"\n",
    "pdf_file_name = \"판매약관_ThePride신한참좋은치아보험PlusⅡ(무배당, 갱신형)_20240401_P252.pdf\"\n",
    "\n",
    "print(f\"Processing file : {pdf_file_name}\")\n",
    "pdf_path = os.path.join(folder_path, pdf_file_name)\n",
    "\n",
    "max_pages = get_pdf_pages(pdf_path)\n",
    "ocr_text = extract_text_with_ocr(pdf_path, max_pages)\n",
    "\n",
    "# 텍스트 파일로 저장\n",
    "output_file_name = os.path.splitext(pdf_file_name)[0] + \".txt\"\n",
    "output_path = os.path.join(output_folder_path, output_file_name)\n",
    "\n",
    "with open(output_path, 'w', encoding='utf-8') as f:\n",
    "    f.write(ocr_text)\n",
    "\n",
    "print(f\"OCR text saved to: {output_path}\")\n",
    "\n",
    "# 저장된 텍스트 출력 (선택사항)\n",
    "print(\"Extracted text:\")\n",
    "print(ocr_text[:500] + \"...\")  # 처음 500자만 출력"
   ]
  }
 ],
 "metadata": {
  "kernelspec": {
   "display_name": "venv",
   "language": "python",
   "name": "python3"
  },
  "language_info": {
   "codemirror_mode": {
    "name": "ipython",
    "version": 3
   },
   "file_extension": ".py",
   "mimetype": "text/x-python",
   "name": "python",
   "nbconvert_exporter": "python",
   "pygments_lexer": "ipython3",
   "version": "3.11.1"
  }
 },
 "nbformat": 4,
 "nbformat_minor": 2
}
