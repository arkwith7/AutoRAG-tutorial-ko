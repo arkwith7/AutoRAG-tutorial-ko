{
 "cells": [
  {
   "cell_type": "code",
   "execution_count": 1,
   "metadata": {},
   "outputs": [],
   "source": [
    "# 필요한 임포트와 기본 설정입니다:\n",
    "from selenium import webdriver\n",
    "from selenium.webdriver.chrome.service import Service\n",
    "from selenium.webdriver.chrome.options import Options\n",
    "from selenium.webdriver.common.by import By\n",
    "from selenium.webdriver.support.ui import WebDriverWait\n",
    "from selenium.webdriver.support import expected_conditions as EC\n",
    "from selenium.common.exceptions import TimeoutException\n",
    "from webdriver_manager.chrome import ChromeDriverManager\n",
    "import pandas as pd\n",
    "import time\n",
    "import requests\n",
    "import re\n",
    "from urllib.parse import urljoin, parse_qsl, unquote, urlparse\n",
    "import os\n",
    "import logging\n",
    "from datetime import datetime\n",
    "import threading\n",
    "from contextlib import contextmanager\n",
    "\n",
    "# 디렉토리 설정\n",
    "PDF_DIR = \"data/pdf_docs\"\n",
    "LOG_DIR = \"data/logs\"\n",
    "\n",
    "# 디렉토리 생성\n",
    "os.makedirs(PDF_DIR, exist_ok=True)\n",
    "os.makedirs(LOG_DIR, exist_ok=True)\n",
    "\n",
    "# 로그 설정\n",
    "log_file = os.path.join(LOG_DIR, f\"pdf_download_{datetime.now().strftime('%Y%m%d_%H%M%S')}.log\")\n",
    "logging.basicConfig(\n",
    "    level=logging.INFO,\n",
    "    format='%(asctime)s - %(levelname)s - %(message)s',\n",
    "    handlers=[\n",
    "        logging.FileHandler(log_file, encoding='utf-8'),\n",
    "        logging.StreamHandler()\n",
    "    ]\n",
    ")"
   ]
  },
  {
   "cell_type": "code",
   "execution_count": 2,
   "metadata": {},
   "outputs": [],
   "source": [
    "# WebDriver 인스턴스를 관리하는 싱글톤 클래스\n",
    "class ChromeDriverWrapper:\n",
    "    \"\"\"Chrome WebDriver를 관리하는 싱글톤 클래스\"\"\"\n",
    "    _instance = None\n",
    "    _driver = None\n",
    "    _lock = threading.Lock()\n",
    "\n",
    "    def __init__(self):\n",
    "        self._last_activity = datetime.now()\n",
    "        self._is_busy = False\n",
    "        self._cleanup_timer = None\n",
    "        self._setup_cleanup_timer()\n",
    "    \n",
    "    def __del__(self):\n",
    "        \"\"\"소멸자에서 타이머와 드라이버 정리\"\"\"\n",
    "        self._cleanup_timer.cancel() if self._cleanup_timer else None\n",
    "        self.quit_driver()\n",
    "    \n",
    "    def _setup_cleanup_timer(self):\n",
    "        \"\"\"자동 정리를 위한 타이머 설정\"\"\"\n",
    "        self._cleanup_timer = threading.Timer(300.0, self._cleanup_inactive_driver)\n",
    "        self._cleanup_timer.daemon = True\n",
    "        self._cleanup_timer.start()\n",
    "    \n",
    "    @classmethod\n",
    "    def get_instance(cls):\n",
    "        if cls._instance is None:\n",
    "            with cls._lock:\n",
    "                if cls._instance is None:\n",
    "                    cls._instance = cls()\n",
    "        return cls._instance\n",
    "    \n",
    "    def _create_chrome_options(self):\n",
    "        \"\"\"Chrome 옵션 설정\"\"\"\n",
    "        chrome_options = Options()\n",
    "        \n",
    "        # 리눅스 환경 특화 설정\n",
    "        chrome_options.add_argument('--headless=new')  # 새로운 헤드리스 모드\n",
    "        chrome_options.add_argument('--no-sandbox')\n",
    "        chrome_options.add_argument('--disable-dev-shm-usage')\n",
    "        chrome_options.add_argument('--disable-gpu')\n",
    "        \n",
    "        # 성능 및 안정성 향상을 위한 설정\n",
    "        chrome_options.add_argument('--disable-extensions')\n",
    "        chrome_options.add_argument('--disable-setuid-sandbox')\n",
    "        chrome_options.add_argument('--no-first-run')\n",
    "        chrome_options.add_argument('--no-default-browser-check')\n",
    "        chrome_options.add_argument('--disable-infobars')\n",
    "        chrome_options.add_argument('--disable-notifications')\n",
    "        \n",
    "        # 메모리 관리 설정\n",
    "        chrome_options.add_argument('--disable-features=TranslateUI')\n",
    "        chrome_options.add_argument('--disable-features=site-per-process')\n",
    "        chrome_options.add_argument('--disable-features=IsolateOrigins')\n",
    "        chrome_options.add_argument('--disable-site-isolation-trials')\n",
    "        \n",
    "        # 창 크기 및 디스플레이 설정\n",
    "        chrome_options.add_argument('--window-size=1920,1080')\n",
    "        chrome_options.add_argument('--start-maximized')\n",
    "        chrome_options.add_argument('--force-device-scale-factor=1')\n",
    "        \n",
    "        # 자동화 감지 방지\n",
    "        chrome_options.add_argument('--disable-blink-features=AutomationControlled')\n",
    "        chrome_options.add_experimental_option('excludeSwitches', ['enable-automation'])\n",
    "        chrome_options.add_experimental_option('useAutomationExtension', False)\n",
    "        \n",
    "        # PDF 다운로드 설정\n",
    "        prefs = {\n",
    "            \"download.default_directory\": os.path.abspath(PDF_DIR),\n",
    "            \"download.prompt_for_download\": False,\n",
    "            \"download.directory_upgrade\": True,\n",
    "            \"plugins.always_open_pdf_externally\": True,\n",
    "            \"safebrowsing.enabled\": True,\n",
    "            \"profile.default_content_settings.popups\": 0,\n",
    "            # 추가 성능 설정\n",
    "            \"profile.managed_default_content_settings.images\": 2,  # 이미지 로딩 비활성화\n",
    "            \"profile.default_content_setting_values.notifications\": 2,\n",
    "            \"profile.managed_default_content_settings.stylesheets\": 2,\n",
    "            \"profile.managed_default_content_settings.cookies\": 1,\n",
    "            \"profile.managed_default_content_settings.javascript\": 1,\n",
    "            \"profile.managed_default_content_settings.plugins\": 1,\n",
    "            \"profile.managed_default_content_settings.popups\": 2,\n",
    "            \"profile.managed_default_content_settings.geolocation\": 2,\n",
    "            \"profile.managed_default_content_settings.media_stream\": 2,\n",
    "        }\n",
    "        chrome_options.add_experimental_option(\"prefs\", prefs)\n",
    "        \n",
    "        return chrome_options\n",
    "    \n",
    "    def _create_new_driver(self):\n",
    "        \"\"\"새로운 드라이버 인스턴스 생성\"\"\"\n",
    "        if self._driver:\n",
    "            self.quit_driver()\n",
    "            \n",
    "        try:\n",
    "            chrome_options = self._create_chrome_options()\n",
    "            \n",
    "            # 서비스 설정\n",
    "            service = Service(\n",
    "                ChromeDriverManager().install(),\n",
    "                log_path=os.path.join(LOG_DIR, 'chromedriver.log')\n",
    "            )\n",
    "            \n",
    "            # 드라이버 생성 시도\n",
    "            for attempt in range(3):\n",
    "                try:\n",
    "                    self._driver = webdriver.Chrome(\n",
    "                        service=service,\n",
    "                        options=chrome_options\n",
    "                    )\n",
    "                    \n",
    "                    # 페이지 로드 타임아웃 설정\n",
    "                    self._driver.set_page_load_timeout(30)\n",
    "                    \n",
    "                    # 암시적 대기 설정\n",
    "                    self._driver.implicitly_wait(10)\n",
    "                    \n",
    "                    # 창 크기 설정\n",
    "                    self._driver.set_window_size(1920, 1080)\n",
    "                    \n",
    "                    logging.info(\"Chrome 드라이버 생성 성공\")\n",
    "                    break\n",
    "                    \n",
    "                except Exception as e:\n",
    "                    logging.error(f\"드라이버 생성 시도 {attempt + 1} 실패: {str(e)}\")\n",
    "                    if attempt == 2:  # 마지막 시도\n",
    "                        raise\n",
    "                    time.sleep(2)  # 재시도 전 대기\n",
    "                    \n",
    "            self._last_activity = datetime.now()\n",
    "            \n",
    "        except Exception as e:\n",
    "            logging.error(f\"Chrome 드라이버 생성 실패: {str(e)}\")\n",
    "            raise\n",
    "    \n",
    "    def _is_driver_responsive(self):\n",
    "        \"\"\"드라이버가 응답하는지 확인\"\"\"\n",
    "        if not self._driver:\n",
    "            return False\n",
    "        try:\n",
    "            self._driver.current_url\n",
    "            return True\n",
    "        except:\n",
    "            return False\n",
    "    \n",
    "    def get_driver(self):\n",
    "        \"\"\"드라이버 인스턴스 반환\"\"\"\n",
    "        with self._lock:\n",
    "            if self._driver is None or not self._is_driver_responsive():\n",
    "                self._create_new_driver()\n",
    "            self._last_activity = datetime.now()\n",
    "            return self._driver\n",
    "    \n",
    "    def _cleanup_inactive_driver(self):\n",
    "        \"\"\"비활성 드라이버 정리\"\"\"\n",
    "        with self._lock:\n",
    "            if self._driver and (datetime.now() - self._last_activity).seconds > 300:\n",
    "                self.quit_driver()\n",
    "        self._setup_cleanup_timer()\n",
    "    \n",
    "    def quit_driver(self):\n",
    "        \"\"\"드라이버 종료\"\"\"\n",
    "        if self._driver:\n",
    "            try:\n",
    "                self._driver.quit()\n",
    "            except Exception as e:\n",
    "                logging.error(f\"드라이버 종료 중 오류: {str(e)}\")\n",
    "            finally:\n",
    "                self._driver = None\n",
    "    \n",
    "    @contextmanager\n",
    "    def acquire_driver(self):\n",
    "        \"\"\"드라이버 사용을 위한 컨텍스트 매니저\"\"\"\n",
    "        driver = self.get_driver()\n",
    "        self._is_busy = True\n",
    "        try:\n",
    "            yield driver\n",
    "        finally:\n",
    "            self._is_busy = False\n",
    "            self._last_activity = datetime.now()"
   ]
  },
  {
   "cell_type": "code",
   "execution_count": 3,
   "metadata": {},
   "outputs": [],
   "source": [
    "\n",
    "def get_pdf_view_url(driver, cell):\n",
    "    \"\"\"PDF 링크를 클릭하고 URL을 반환하는 함수\"\"\"\n",
    "    main_window = None\n",
    "    try:\n",
    "        # a 태그 존재 여부 확인\n",
    "        if not cell.find_elements(By.TAG_NAME, 'a'):\n",
    "            print(\"PDF 뷰어 링크(a태그)가 없는 셀입니다.\")\n",
    "            return 'X'\n",
    "            \n",
    "        # PDF 링크 찾기 및 클릭\n",
    "        try:\n",
    "            pdf_link = cell.find_element(By.CSS_SELECTOR, \"a.btn-file.icon-pdf\")\n",
    "            main_window = driver.current_window_handle\n",
    "            driver.execute_script(\"arguments[0].click();\", pdf_link)\n",
    "            time.sleep(1)\n",
    "            \n",
    "            if len(driver.window_handles) > 1:\n",
    "                driver.switch_to.window(driver.window_handles[-1])\n",
    "                url = driver.current_url\n",
    "                driver.close()\n",
    "                driver.switch_to.window(main_window)\n",
    "                if url and url != \"about:blank\":\n",
    "                    print(f\"PDF 뷰어 URL: {url}\")\n",
    "                    logging.info(f\"PDF 뷰어 URL: {url}\")\n",
    "                return url\n",
    "            return 'X'\n",
    "            \n",
    "        except Exception as e:\n",
    "            logging.error(f\"PDF 뷰어 링크 처리 중 오류: {str(e)}\")\n",
    "            return 'X'\n",
    "            \n",
    "    except Exception as e:\n",
    "        logging.error(f\"PDF 뷰어 URL 획득 중 오류: {str(e)}\")\n",
    "        return 'X'\n",
    "    finally:\n",
    "        # 창 전환 중 오류 발생한 경우를 대비한 처리\n",
    "        if main_window:\n",
    "            try:\n",
    "                driver.switch_to.window(main_window)\n",
    "            except Exception as e:\n",
    "                logging.error(f\"PDF 뷰어에서 메인 창 복귀 중 오류: {str(e)}\")\n",
    "\n",
    "   \n",
    "def get_pdf_download_url(viewer_url):\n",
    "    \"\"\"\n",
    "    PDF 뷰어 URL에서 실제 PDF 파일의 다운로드 URL을 추출하는 함수\n",
    "    \n",
    "    인수:\n",
    "        viewer_url (str): PDF 뷰어 URL 문자열\n",
    "    \n",
    "    반환값:\n",
    "        str or None: PDF 다운로드 URL, 실패시 None\n",
    "    \"\"\"\n",
    "    if not viewer_url or viewer_url == 'X':\n",
    "        return None\n",
    "    \n",
    "    driver_wrapper = ChromeDriverWrapper.get_instance()\n",
    "    driver = driver_wrapper.get_driver()\n",
    "    \n",
    "    try:\n",
    "        wait = WebDriverWait(driver, 10)\n",
    "        \n",
    "        # 이전 페이지 리소스 정리\n",
    "        try:\n",
    "            driver.execute_script(\"window.stop();\")\n",
    "        except:\n",
    "            pass\n",
    "            \n",
    "        driver.get(viewer_url)\n",
    "        \n",
    "        # URL 타입 1: CustomerPage_Unit.jsp\n",
    "        if 'CustomerPage_Unit.jsp' in viewer_url:\n",
    "            iframe = wait.until(EC.presence_of_element_located((By.ID, 'viewerFrame')))\n",
    "            src = iframe.get_attribute('src')\n",
    "            \n",
    "            if src:\n",
    "                iframe_url = urljoin('https://pcms.samsunglife.com', src)\n",
    "                driver.get(iframe_url)\n",
    "                \n",
    "                page_source = driver.page_source\n",
    "                patterns = [\n",
    "                    r'\"filepath\"\\s*:\\s*[\\'\"](.+?\\.pdf)[\\'\"]',\n",
    "                    r'\"downloadURL\"\\s*:\\s*[\\'\"](.+?\\.pdf)[\\'\"]'\n",
    "                ]\n",
    "                \n",
    "                for pattern in patterns:\n",
    "                    match = re.search(pattern, page_source)\n",
    "                    if match:\n",
    "                        pdf_path = match.group(1)\n",
    "                        return urljoin('https://pcms.samsunglife.com', pdf_path)\n",
    "                \n",
    "        # URL 타입 2: CustomerPage_Corp.jsp\n",
    "        elif 'CustomerPage_Corp.jsp' in viewer_url:\n",
    "            page_source = driver.page_source\n",
    "            patterns = [\n",
    "                r'\"filepath\"\\s*:\\s*[\\'\"](.+?\\.pdf)[\\'\"]',\n",
    "                r'\"downloadURL\"\\s*:\\s*[\\'\"](.+?\\.pdf)[\\'\"]'\n",
    "            ]\n",
    "            \n",
    "            for pattern in patterns:\n",
    "                match = re.search(pattern, page_source)\n",
    "                if match:\n",
    "                    pdf_path = match.group(1)\n",
    "                    return urljoin('https://pcms.samsunglife.com', unquote(pdf_path))\n",
    "            \n",
    "            params = dict(parse_qsl(urlparse(viewer_url).query))\n",
    "            if 'path' in params and 'fname' in params:\n",
    "                path = unquote(params['path'])\n",
    "                fname = unquote(params['fname'])\n",
    "                return urljoin('https://pcms.samsunglife.com', f\"{path}{fname}\")\n",
    "        \n",
    "        return None\n",
    "            \n",
    "    except Exception as e:\n",
    "        logging.error(f\"URL 처리 중 오류 발생: {viewer_url}, 오류: {str(e)}\")\n",
    "        # 오류 발생 시 드라이버 재시작\n",
    "        driver_wrapper.quit_driver()\n",
    "        return None\n",
    "            \n",
    "\n",
    "def create_filename_from_url(viewer_url, doc_type_name):\n",
    "    \"\"\"\n",
    "    다양한 URL 패턴에서 파일명을 생성하는 함수\n",
    "    \n",
    "    Args:\n",
    "        viewer_url (str): PDF 문서 브라우져 뷰어를 위한 URL\n",
    "        doc_type_name (str): 문서 종류명 (예: 요약서, 방법서, 약관)\n",
    "    \n",
    "    Returns:\n",
    "        str: 생성된 파일명 또는 None\n",
    "    \"\"\"\n",
    "    if viewer_url == 'X' or not viewer_url or not isinstance(viewer_url, str):\n",
    "        logging.warning(f\"유효하지 않은 URL: {viewer_url}\")\n",
    "        return None\n",
    "        \n",
    "    try:\n",
    "        # URL 파싱\n",
    "        if 'pcms.samsunglife.com' not in viewer_url:\n",
    "            logging.warning(\"삼성생명 도메인이 아닙니다\")\n",
    "            return None\n",
    "            \n",
    "        # URL 타입 1: CustomerPage_Unit.jsp 스타일\n",
    "        if 'CustomerPage_Unit.jsp' in viewer_url:\n",
    "            params = dict(param.split('=') for param in viewer_url.split('?')[1].split('&'))\n",
    "            if all(k in params for k in ['goodsCode', 'docType', 'saleDate']):\n",
    "                return f\"{params['goodsCode']}_{params['docType']}_{params['saleDate']}_{doc_type_name}.pdf\"\n",
    "                \n",
    "        # URL 타입 2: CustomerPage_Corp.jsp 스타일\n",
    "        elif 'CustomerPage_Corp.jsp' in viewer_url and 'path=' in viewer_url and 'fname=' in viewer_url:\n",
    "            params = dict(param.split('=') for param in viewer_url.split('?')[1].split('&'))\n",
    "            \n",
    "            # path에서 날짜 정보 추출\n",
    "            path_param = params.get('path', '')\n",
    "            path_parts = path_param.split('/')\n",
    "            if len(path_parts) >= 5:\n",
    "                year = path_parts[-4]\n",
    "                month_day = path_parts[-3]\n",
    "                sale_date = f\"{year}{month_day}\"\n",
    "                doc_type = path_parts[-2]  # 701 또는 801\n",
    "                \n",
    "                # 1순위: fname에서 상품코드 추출\n",
    "                fname_param = params.get('fname', '')\n",
    "                product_code = fname_param.split('-')[0]\n",
    "                \n",
    "                # 상품코드가 의미있는 값인 경우 (숫자로만 구성되지 않았거나, 길이가 짧은 경우)\n",
    "                if not (product_code.isdigit() and len(product_code) >= 10):\n",
    "                    return f\"{product_code}_{doc_type}_{sale_date}_{doc_type_name}.pdf\"\n",
    "                    \n",
    "                # 2순위: title 파라미터가 있는 경우\n",
    "                if 'title' in params and params['title'].strip():\n",
    "                    product_name = params['title'].strip()\n",
    "                    return f\"{product_name}_{doc_type}_{sale_date}_{doc_type_name}.pdf\"\n",
    "                    \n",
    "                # 3순위: 현재 시간의 타임스탬프 사용\n",
    "                from datetime import datetime\n",
    "                timestamp = datetime.now().strftime('%Y%m%d%H%M%S')\n",
    "                return f\"{timestamp}_{doc_type}_{sale_date}_{doc_type_name}.pdf\"\n",
    "            \n",
    "        # URL 타입 3: 기타 패턴\n",
    "        else:\n",
    "            if '/uploadDir/doc/' in viewer_url:\n",
    "                parts = viewer_url.split('/uploadDir/doc/')[1].split('/')\n",
    "                if len(parts) >= 5:\n",
    "                    year = parts[0]\n",
    "                    month_day = parts[1]\n",
    "                    goods_code = parts[2]\n",
    "                    doc_type = parts[3]\n",
    "                    return f\"{goods_code}_{doc_type}_{year}{month_day}_{doc_type_name}.pdf\"\n",
    "                    \n",
    "        logging.warning(f\"지원되지 않는 URL 형식: {viewer_url}\")\n",
    "        return None\n",
    "        \n",
    "    except Exception as e:\n",
    "        logging.error(f\"파일명 생성 중 오류 발생: {str(e)}, URL: {viewer_url}\")\n",
    "        # 오류 발생 시 타임스탬프로 파일명 생성\n",
    "        try:\n",
    "            from datetime import datetime\n",
    "            timestamp = datetime.now().strftime('%Y%m%d%H%M%S')\n",
    "            return f\"{timestamp}_ERROR_{doc_type_name}.pdf\"\n",
    "        except:\n",
    "            return None\n",
    "            \n",
    "def download_pdf(viewer_url, file_name, doc_type_name, save_dir):\n",
    "    \"\"\"\n",
    "    PDF 뷰어 URL에서 실제 PDF를 다운로드하여 저장하는 함수\n",
    "    \n",
    "    Args:\n",
    "        viewer_url (str): PDF 뷰어 URL\n",
    "        file_name (str): 저장할 파일명\n",
    "        doc_type_name (str): 문서 유형 (예: \"요약서\", \"약관\")\n",
    "        save_dir (str): 저장할 디렉토리 경로\n",
    "    \"\"\"\n",
    "    thread_local = threading.local()\n",
    "    \n",
    "    if not hasattr(thread_local, 'session'):\n",
    "        thread_local.session = requests.Session()\n",
    "\n",
    "    if not viewer_url or not file_name:\n",
    "        logging.error(f\"{doc_type_name} - 유효하지 않은 URL 또는 파일명\")\n",
    "        return\n",
    "        \n",
    "    # 파일 존재 여부 확인\n",
    "    file_path = os.path.join(save_dir, file_name)\n",
    "    if os.path.exists(file_path):\n",
    "        file_size = os.path.getsize(file_path)\n",
    "        if file_size > 0:\n",
    "            logging.info(f\"{doc_type_name} - 파일이 이미 존재합니다: {file_name}\")\n",
    "            return\n",
    "        else:\n",
    "            # 크기가 0인 파일은 삭제하고 다시 다운로드\n",
    "            os.remove(file_path)\n",
    "            logging.info(f\"{doc_type_name} - 빈 파일이 존재하여 삭제 후 다시 다운로드합니다: {file_name}\")\n",
    "        \n",
    "    try:\n",
    "        # 실제 PDF 다운로드 URL 획득\n",
    "        pdf_url = get_pdf_download_url(viewer_url)\n",
    "        if not pdf_url:\n",
    "            logging.error(f\"{doc_type_name} 다운로드 PDF URL 획득 실패\")\n",
    "            return\n",
    "            \n",
    "        session = requests.Session()\n",
    "        headers = {\n",
    "            'Accept': 'application/pdf,application/x-pdf,application/octet-stream',\n",
    "            'Accept-Language': 'ko-KR,ko;q=0.9',\n",
    "            'Connection': 'keep-alive',\n",
    "            'User-Agent': 'Mozilla/5.0 (Windows NT 10.0; Win64; x64) Chrome/131.0.0.0 Safari/537.36',\n",
    "            'Referer': viewer_url\n",
    "        }\n",
    "        \n",
    "        # PDF 파일 다운로드 시도\n",
    "        response = thread_local.session.get(pdf_url, headers=headers, stream=True, timeout=30)\n",
    "        response.raise_for_status()\n",
    "        \n",
    "        # Content-Type 확인\n",
    "        content_type = response.headers.get('Content-Type', '').lower()\n",
    "        if not any(ct in content_type for ct in ['application/pdf', 'application/octet-stream']):\n",
    "            logging.error(f\"{doc_type_name} - 잘못된 Content-Type: {content_type}\")\n",
    "            return\n",
    "            \n",
    "        # 파일 저장\n",
    "        file_path = os.path.join(save_dir, file_name)\n",
    "        total_size = int(response.headers.get('content-length', 0))\n",
    "        \n",
    "        with open(file_path, 'wb') as f:\n",
    "            if total_size == 0:\n",
    "                f.write(response.content)\n",
    "            else:\n",
    "                downloaded = 0\n",
    "                for chunk in response.iter_content(chunk_size=8192):\n",
    "                    if chunk:\n",
    "                        f.write(chunk)\n",
    "                        downloaded += len(chunk)\n",
    "                        # 다운로드 진행률 표시\n",
    "                        progress = (downloaded / total_size) * 100\n",
    "                        if progress % 20 == 0:  # 20% 단위로 로그 출력\n",
    "                            logging.info(f\"{doc_type_name} 다운로드 진행률: {progress:.1f}%\")\n",
    "                            \n",
    "        # 파일 크기 확인\n",
    "        if os.path.getsize(file_path) > 0:\n",
    "            logging.info(f\"{doc_type_name} 다운로드 성공: {file_name}\")\n",
    "        else:\n",
    "            logging.error(f\"{doc_type_name} 다운로드 실패: 파일 크기가 0\")\n",
    "            os.remove(file_path)  # 빈 파일 삭제\n",
    "            \n",
    "    except requests.exceptions.RequestException as e:\n",
    "        logging.error(f\"{doc_type_name} 다운로드 중 네트워크 오류: {str(e)}\")\n",
    "    except Exception as e:\n",
    "        logging.error(f\"{doc_type_name} 다운로드 중 오류 발생: {str(e)}\")\n",
    "    finally:\n",
    "        if hasattr(thread_local, 'session'):\n",
    "            thread_local.session.close()\n",
    "            "
   ]
  },
  {
   "cell_type": "code",
   "execution_count": 4,
   "metadata": {},
   "outputs": [],
   "source": [
    "def scrape_samsung_life_products():\n",
    "    \"\"\"삼성생명 상품 정보 스크래핑 메인 함수\"\"\"\n",
    "    driver_wrapper = ChromeDriverWrapper.get_instance()\n",
    "    \n",
    "    with driver_wrapper.acquire_driver() as driver:\n",
    "        data0 = []\n",
    "        wait = WebDriverWait(driver, 30)\n",
    "\n",
    "        try:\n",
    "            driver.get(\"https://www.samsunglife.com/individual/products/disclosure/sales/PDO-PRPRI010110M\")\n",
    "            logging.info(\"삼성생명 공시실 상품공시 웹사이트에 접속했습니다.\")\n",
    "            \n",
    "            wait.until(EC.presence_of_element_located((By.CLASS_NAME, \"tabs-group\")))\n",
    "            time.sleep(5)\n",
    "\n",
    "            # tabs_to_process = ['판매상품', '판매중지상품']\n",
    "            # tab_content_map = {\n",
    "            #     '판매상품': 'content1',\n",
    "            #     '판매중지상품': 'content2'\n",
    "            # }\n",
    "            tabs_to_process = ['판매상품']\n",
    "            tab_content_map = {\n",
    "                '판매상품': 'content1'\n",
    "            }\n",
    "\n",
    "            for tab_name in tabs_to_process:\n",
    "                logging.info(f\"\\n{tab_name} 탭 처리 시작...\")\n",
    "                \n",
    "                try:\n",
    "                    tab = wait.until(EC.element_to_be_clickable((\n",
    "                        By.XPATH, \n",
    "                        f\"//ul[@class='tabs-group']/li/a[normalize-space()='{tab_name}']\"\n",
    "                    )))\n",
    "                    driver.execute_script(\"arguments[0].click();\", tab)\n",
    "                    time.sleep(1)\n",
    "\n",
    "                    content_id = tab_content_map[tab_name]\n",
    "                    \n",
    "                    while True:  # 페이지 순환\n",
    "                        try:\n",
    "                            tbody_xpath = f\"//div[@id='{content_id}']//tbody[@class='line']\"\n",
    "                            tbody = wait.until(EC.presence_of_element_located((By.XPATH, tbody_xpath)))\n",
    "                            rows = tbody.find_elements(By.TAG_NAME, 'tr')\n",
    "                            logging.info(f\"현재 페이지에서 {len(rows)}개의 행을 찾았습니다.\")\n",
    "\n",
    "                            for row in rows:\n",
    "                                try:\n",
    "                                    cells = row.find_elements(By.TAG_NAME, 'td')\n",
    "                                    min_cells = 7 if tab_name == \"판매상품\" else 6\n",
    "                                    if len(cells) < min_cells:\n",
    "                                        logging.warning(f\"셀 개수 부족: {len(cells)}\")\n",
    "                                        continue\n",
    "\n",
    "                                    record_num = cells[0].text.strip()\n",
    "                                    \n",
    "                                    # 판매상품 탭의 경우 데이터 수집\n",
    "                                    if tab_name == \"판매상품\":\n",
    "                                        summary_url = get_pdf_view_url(driver, cells[4])\n",
    "                                        file_name_summary = 'X'\n",
    "                                        if summary_url != 'X':\n",
    "                                            file_name_summary = create_filename_from_url(summary_url, \"요약서\")\n",
    "                                            download_pdf(summary_url, file_name_summary, \"요약서\", PDF_DIR)\n",
    "\n",
    "                                        method_url = get_pdf_view_url(driver, cells[5])\n",
    "                                        file_name_method = 'X'\n",
    "                                        if method_url != 'X':\n",
    "                                            file_name_method = create_filename_from_url(method_url, \"방법서\")\n",
    "                                            download_pdf(method_url, file_name_method, \"방법서\", PDF_DIR)\n",
    "\n",
    "                                        terms_url = get_pdf_view_url(driver, cells[6])\n",
    "                                        file_name_terms = 'X'\n",
    "                                        if terms_url != 'X':\n",
    "                                            file_name_terms = create_filename_from_url(terms_url, \"약관\")\n",
    "                                            download_pdf(terms_url, file_name_terms, \"약관\", PDF_DIR)\n",
    "                                        \n",
    "                                        current_record = [\n",
    "                                            record_num,\n",
    "                                            \"삼성생명\",\n",
    "                                            \"판매중\",\n",
    "                                            cells[1].text.strip(),\n",
    "                                            cells[2].find_element(By.CSS_SELECTOR, '.title-link, a').text.strip(),\n",
    "                                            cells[3].text.strip(),\n",
    "                                            file_name_summary,\n",
    "                                            file_name_method,\n",
    "                                            file_name_terms\n",
    "                                        ]\n",
    "                                    else:\n",
    "                                        # 판매중지상품 탭의 경우\n",
    "                                        method_url = get_pdf_view_url(driver, cells[4])\n",
    "                                        file_name_method = 'X'\n",
    "                                        if method_url != 'X':\n",
    "                                            file_name_method = create_filename_from_url(method_url, \"방법서\")\n",
    "                                            download_pdf(method_url, file_name_method, \"방법서\", PDF_DIR)\n",
    "\n",
    "                                        terms_url = get_pdf_view_url(driver, cells[5])\n",
    "                                        file_name_terms = 'X'\n",
    "                                        if terms_url != 'X':\n",
    "                                            file_name_terms = create_filename_from_url(terms_url, \"약관\")\n",
    "                                            download_pdf(terms_url, file_name_terms, \"약관\", PDF_DIR)\n",
    "\n",
    "                                        current_record = [\n",
    "                                            record_num,\n",
    "                                            \"삼성생명\",\n",
    "                                            \"판매중지\",\n",
    "                                            cells[1].text.strip(),\n",
    "                                            cells[2].find_element(By.CSS_SELECTOR, '.title-link, a').text.strip(),\n",
    "                                            cells[3].text.strip(),\n",
    "                                            'X',  # 요약서 항상 'X'\n",
    "                                            file_name_method,\n",
    "                                            file_name_terms\n",
    "                                        ]\n",
    "                                    \n",
    "                                    data0.append(current_record)\n",
    "\n",
    "                                except Exception as e:\n",
    "                                    logging.error(f\"행 처리 중 오류: {str(e)}\")\n",
    "                                    continue\n",
    "\n",
    "                            # 페이지네이션 처리 로직\n",
    "                            pagination = wait.until(EC.presence_of_element_located((\n",
    "                                By.XPATH, f\"//div[@id='{content_id}']//div[@class='pagination-number']\"\n",
    "                            )))\n",
    "                            \n",
    "                            current_page = int(pagination.find_element(\n",
    "                                By.CSS_SELECTOR, \"li.current button\").text.split()[0].strip())\n",
    "                            logging.info(f\"현재 페이지: {current_page} 페이지 수집완료...\")\n",
    "\n",
    "                            # 마지막 페이지 확인\n",
    "                            is_last_set = check_last_page(driver, content_id, wait)\n",
    "                            \n",
    "                            if is_last_set:\n",
    "                                logging.info(f\"{tab_name} 탭의 모든 데이터 수집 완료\")\n",
    "                                time.sleep(2)\n",
    "                                break\n",
    "\n",
    "                            # 다음 페이지 이동 처리\n",
    "                            if not move_to_next_page(driver, content_id, current_page, is_last_set, wait):\n",
    "                                break\n",
    "\n",
    "                        except Exception as e:\n",
    "                            logging.error(f\"페이지 처리 중 오류: {str(e)}\")\n",
    "                            if is_last_set:\n",
    "                                break\n",
    "                            continue\n",
    "\n",
    "                except Exception as e:\n",
    "                    logging.error(f\"탭 처리 중 오류: {str(e)}\")\n",
    "                    continue\n",
    "\n",
    "                logging.info(f\"\\n=== {tab_name} 탭 처리 완료 ===\")\n",
    "                logging.info(f\"수집된 데이터 수: {len(data0)}\")\n",
    "                \n",
    "                if tab_name != tabs_to_process[-1]:\n",
    "                    next_tab = tabs_to_process[tabs_to_process.index(tab_name) + 1]\n",
    "                    logging.info(f\"다음 탭 '{next_tab}' 처리 시작...\\n\")\n",
    "                    time.sleep(3)\n",
    "\n",
    "            return pd.DataFrame(data0, columns=[\n",
    "                \"품번\", \"판매사\", \"판매구분\", \"분류\", \"상품명\", \n",
    "                \"판매기간\", \"요약서\", \"방법서\", \"약관\"\n",
    "            ])\n",
    "\n",
    "        except Exception as e:\n",
    "            logging.error(f\"크롤링 중 오류 발생: {str(e)}\")\n",
    "            raise\n",
    "\n",
    "def check_last_page(driver, content_id, wait):\n",
    "    \"\"\"마지막 페이지 여부 확인\"\"\"\n",
    "    try:\n",
    "        last_set_button = wait.until(\n",
    "            EC.presence_of_element_located((\n",
    "                By.XPATH,\n",
    "                f\"//div[@id='{content_id}']//button[@class='btn-paging-last']\"\n",
    "            ))\n",
    "        )\n",
    "        return last_set_button.get_attribute('disabled') is not None\n",
    "    except Exception:\n",
    "        return False\n",
    "\n",
    "def move_to_next_page(driver, content_id, current_page, is_last_set, wait):\n",
    "    \"\"\"다음 페이지로 이동\"\"\"\n",
    "    try:\n",
    "        if current_page % 10 == 0:\n",
    "            if is_last_set:\n",
    "                return False\n",
    "                    \n",
    "            next_set_button = wait.until(\n",
    "                EC.presence_of_element_located((\n",
    "                    By.XPATH,\n",
    "                    f\"//div[@id='{content_id}']//button[@class='btn-paging-next']\"\n",
    "                ))\n",
    "            )\n",
    "            driver.execute_script(\"arguments[0].click();\", next_set_button)\n",
    "            time.sleep(2)\n",
    "                \n",
    "            first_page_of_set = ((current_page // 10) * 10) + 1\n",
    "            first_page_xpath = f\"//div[@id='{content_id}']//div[@class='pagination-number']//li/button[text()='{first_page_of_set}']\"\n",
    "            first_page_button = wait.until(EC.presence_of_element_located((By.XPATH, first_page_xpath)))\n",
    "            driver.execute_script(\"arguments[0].click();\", first_page_button)\n",
    "            time.sleep(2)\n",
    "        else:\n",
    "            next_page = current_page + 1\n",
    "            next_button_xpath = f\"//div[@id='{content_id}']//div[@class='pagination-number']//li[not(@class='current')]/button[text()='{next_page}']\"\n",
    "            next_button = wait.until(EC.presence_of_element_located((By.XPATH, next_button_xpath)))\n",
    "            driver.execute_script(\"arguments[0].click();\", next_button)\n",
    "            time.sleep(2)\n",
    "            \n",
    "        return True\n",
    "            \n",
    "    except TimeoutException:\n",
    "        return False\n",
    "    except Exception as e:\n",
    "        logging.error(f\"페이지 이동 중 오류: {str(e)}\")\n",
    "        return False"
   ]
  },
  {
   "cell_type": "code",
   "execution_count": 5,
   "metadata": {},
   "outputs": [
    {
     "name": "stderr",
     "output_type": "stream",
     "text": [
      "2024-12-12 20:54:49,841 - INFO - 디렉토리 생성/확인 완료: data/pdf_docs\n",
      "2024-12-12 20:54:49,843 - INFO - 디렉토리 생성/확인 완료: data/logs\n",
      "2024-12-12 20:54:49,844 - INFO - 프로그램 시작\n",
      "2024-12-12 20:54:49 - MainThread - INFO - <module> - 프로그램 시작\n",
      "2024-12-12 20:54:49,846 - INFO - 시도 1/3: Chrome 드라이버 래퍼 초기화 성공\n",
      "2024-12-12 20:54:49 - MainThread - INFO - main - 시도 1/3: Chrome 드라이버 래퍼 초기화 성공\n",
      "2024-12-12 20:54:49,848 - INFO - ====== WebDriver manager ======\n",
      "2024-12-12 20:54:49 - MainThread - INFO - log - ====== WebDriver manager ======\n",
      "2024-12-12 20:54:49,993 - INFO - Get LATEST chromedriver version for google-chrome\n",
      "2024-12-12 20:54:49 - MainThread - INFO - log - Get LATEST chromedriver version for google-chrome\n",
      "2024-12-12 20:54:50,462 - INFO - Get LATEST chromedriver version for google-chrome\n",
      "2024-12-12 20:54:50 - MainThread - INFO - log - Get LATEST chromedriver version for google-chrome\n",
      "2024-12-12 20:54:50,871 - INFO - Driver [/home/arkwith/.wdm/drivers/chromedriver/linux64/131.0.6778.108/chromedriver-linux64/chromedriver] found in cache\n",
      "2024-12-12 20:54:50 - MainThread - INFO - log - Driver [/home/arkwith/.wdm/drivers/chromedriver/linux64/131.0.6778.108/chromedriver-linux64/chromedriver] found in cache\n",
      "2024-12-12 20:54:51,168 - INFO - Chrome 드라이버 생성 성공\n",
      "2024-12-12 20:54:51 - MainThread - INFO - _create_new_driver - Chrome 드라이버 생성 성공\n",
      "2024-12-12 20:54:51,169 - INFO - Chrome 드라이버 획득 성공\n",
      "2024-12-12 20:54:51 - MainThread - INFO - main - Chrome 드라이버 획득 성공\n",
      "2024-12-12 20:54:52,401 - INFO - 삼성생명 공시실 상품공시 웹사이트에 접속했습니다.\n",
      "2024-12-12 20:54:52 - MainThread - INFO - scrape_samsung_life_products - 삼성생명 공시실 상품공시 웹사이트에 접속했습니다.\n",
      "2024-12-12 20:54:58,172 - INFO - \n",
      "판매상품 탭 처리 시작...\n",
      "2024-12-12 20:54:58 - MainThread - INFO - scrape_samsung_life_products - \n",
      "판매상품 탭 처리 시작...\n",
      "2024-12-12 20:54:59,277 - INFO - 현재 페이지에서 10개의 행을 찾았습니다.\n",
      "2024-12-12 20:54:59 - MainThread - INFO - scrape_samsung_life_products - 현재 페이지에서 10개의 행을 찾았습니다.\n"
     ]
    },
    {
     "name": "stdout",
     "output_type": "stream",
     "text": [
      "PDF 뷰어 링크(a태그)가 없는 셀입니다.\n"
     ]
    },
    {
     "name": "stderr",
     "output_type": "stream",
     "text": [
      "2024-12-12 20:55:10,458 - INFO - PDF 뷰어 URL: https://pcms.samsunglife.com/partnerpage/CustomerPage_Unit.jsp?goodsCode=LP0345010&docType=401&saleDate=20240401&pageGubun=prdt\n",
      "2024-12-12 20:55:10 - MainThread - INFO - get_pdf_view_url - PDF 뷰어 URL: https://pcms.samsunglife.com/partnerpage/CustomerPage_Unit.jsp?goodsCode=LP0345010&docType=401&saleDate=20240401&pageGubun=prdt\n",
      "2024-12-12 20:55:10,463 - INFO - 방법서 - 파일이 이미 존재합니다: LP0345010_401_20240401_방법서.pdf\n",
      "2024-12-12 20:55:10 - MainThread - INFO - download_pdf - 방법서 - 파일이 이미 존재합니다: LP0345010_401_20240401_방법서.pdf\n"
     ]
    },
    {
     "name": "stdout",
     "output_type": "stream",
     "text": [
      "PDF 뷰어 URL: https://pcms.samsunglife.com/partnerpage/CustomerPage_Unit.jsp?goodsCode=LP0345010&docType=401&saleDate=20240401&pageGubun=prdt\n"
     ]
    },
    {
     "name": "stderr",
     "output_type": "stream",
     "text": [
      "2024-12-12 20:55:11,801 - INFO - PDF 뷰어 URL: https://pcms.samsunglife.com/partnerpage/CustomerPage_Unit.jsp?goodsCode=LP0345010&docType=301&saleDate=20240401&pageGubun=prdt\n",
      "2024-12-12 20:55:11 - MainThread - INFO - get_pdf_view_url - PDF 뷰어 URL: https://pcms.samsunglife.com/partnerpage/CustomerPage_Unit.jsp?goodsCode=LP0345010&docType=301&saleDate=20240401&pageGubun=prdt\n",
      "2024-12-12 20:55:11,807 - INFO - 약관 - 파일이 이미 존재합니다: LP0345010_301_20240401_약관.pdf\n",
      "2024-12-12 20:55:11 - MainThread - INFO - download_pdf - 약관 - 파일이 이미 존재합니다: LP0345010_301_20240401_약관.pdf\n"
     ]
    },
    {
     "name": "stdout",
     "output_type": "stream",
     "text": [
      "PDF 뷰어 URL: https://pcms.samsunglife.com/partnerpage/CustomerPage_Unit.jsp?goodsCode=LP0345010&docType=301&saleDate=20240401&pageGubun=prdt\n",
      "PDF 뷰어 링크(a태그)가 없는 셀입니다.\n"
     ]
    },
    {
     "name": "stderr",
     "output_type": "stream",
     "text": [
      "2024-12-12 20:55:23,064 - INFO - PDF 뷰어 URL: https://pcms.samsunglife.com/partnerpage/CustomerPage_Unit.jsp?goodsCode=LP0345009&docType=401&saleDate=20240101&pageGubun=prdt\n",
      "2024-12-12 20:55:23 - MainThread - INFO - get_pdf_view_url - PDF 뷰어 URL: https://pcms.samsunglife.com/partnerpage/CustomerPage_Unit.jsp?goodsCode=LP0345009&docType=401&saleDate=20240101&pageGubun=prdt\n",
      "2024-12-12 20:55:23,067 - INFO - 방법서 - 파일이 이미 존재합니다: LP0345009_401_20240101_방법서.pdf\n",
      "2024-12-12 20:55:23 - MainThread - INFO - download_pdf - 방법서 - 파일이 이미 존재합니다: LP0345009_401_20240101_방법서.pdf\n"
     ]
    },
    {
     "name": "stdout",
     "output_type": "stream",
     "text": [
      "PDF 뷰어 URL: https://pcms.samsunglife.com/partnerpage/CustomerPage_Unit.jsp?goodsCode=LP0345009&docType=401&saleDate=20240101&pageGubun=prdt\n"
     ]
    },
    {
     "name": "stderr",
     "output_type": "stream",
     "text": [
      "2024-12-12 20:55:24,278 - INFO - PDF 뷰어 URL: https://pcms.samsunglife.com/partnerpage/CustomerPage_Unit.jsp?goodsCode=LP0345009&docType=301&saleDate=20240101&pageGubun=prdt\n",
      "2024-12-12 20:55:24 - MainThread - INFO - get_pdf_view_url - PDF 뷰어 URL: https://pcms.samsunglife.com/partnerpage/CustomerPage_Unit.jsp?goodsCode=LP0345009&docType=301&saleDate=20240101&pageGubun=prdt\n",
      "2024-12-12 20:55:24,281 - INFO - 약관 - 파일이 이미 존재합니다: LP0345009_301_20240101_약관.pdf\n",
      "2024-12-12 20:55:24 - MainThread - INFO - download_pdf - 약관 - 파일이 이미 존재합니다: LP0345009_301_20240101_약관.pdf\n"
     ]
    },
    {
     "name": "stdout",
     "output_type": "stream",
     "text": [
      "PDF 뷰어 URL: https://pcms.samsunglife.com/partnerpage/CustomerPage_Unit.jsp?goodsCode=LP0345009&docType=301&saleDate=20240101&pageGubun=prdt\n",
      "PDF 뷰어 링크(a태그)가 없는 셀입니다.\n"
     ]
    },
    {
     "name": "stderr",
     "output_type": "stream",
     "text": [
      "2024-12-12 20:55:35,486 - INFO - PDF 뷰어 URL: https://pcms.samsunglife.com/partnerpage/CustomerPage_Unit.jsp?goodsCode=LP0345009&docType=401&saleDate=20230101&pageGubun=prdt\n",
      "2024-12-12 20:55:35 - MainThread - INFO - get_pdf_view_url - PDF 뷰어 URL: https://pcms.samsunglife.com/partnerpage/CustomerPage_Unit.jsp?goodsCode=LP0345009&docType=401&saleDate=20230101&pageGubun=prdt\n",
      "2024-12-12 20:55:35,491 - INFO - 방법서 - 파일이 이미 존재합니다: LP0345009_401_20230101_방법서.pdf\n",
      "2024-12-12 20:55:35 - MainThread - INFO - download_pdf - 방법서 - 파일이 이미 존재합니다: LP0345009_401_20230101_방법서.pdf\n"
     ]
    },
    {
     "name": "stdout",
     "output_type": "stream",
     "text": [
      "PDF 뷰어 URL: https://pcms.samsunglife.com/partnerpage/CustomerPage_Unit.jsp?goodsCode=LP0345009&docType=401&saleDate=20230101&pageGubun=prdt\n"
     ]
    },
    {
     "name": "stderr",
     "output_type": "stream",
     "text": [
      "2024-12-12 20:55:36,624 - INFO - PDF 뷰어 URL: https://pcms.samsunglife.com/partnerpage/CustomerPage_Unit.jsp?goodsCode=LP0345009&docType=301&saleDate=20230101&pageGubun=prdt\n",
      "2024-12-12 20:55:36 - MainThread - INFO - get_pdf_view_url - PDF 뷰어 URL: https://pcms.samsunglife.com/partnerpage/CustomerPage_Unit.jsp?goodsCode=LP0345009&docType=301&saleDate=20230101&pageGubun=prdt\n",
      "2024-12-12 20:55:36,628 - INFO - 약관 - 파일이 이미 존재합니다: LP0345009_301_20230101_약관.pdf\n",
      "2024-12-12 20:55:36 - MainThread - INFO - download_pdf - 약관 - 파일이 이미 존재합니다: LP0345009_301_20230101_약관.pdf\n"
     ]
    },
    {
     "name": "stdout",
     "output_type": "stream",
     "text": [
      "PDF 뷰어 URL: https://pcms.samsunglife.com/partnerpage/CustomerPage_Unit.jsp?goodsCode=LP0345009&docType=301&saleDate=20230101&pageGubun=prdt\n",
      "PDF 뷰어 링크(a태그)가 없는 셀입니다.\n"
     ]
    },
    {
     "name": "stderr",
     "output_type": "stream",
     "text": [
      "2024-12-12 20:55:47,865 - INFO - PDF 뷰어 URL: https://pcms.samsunglife.com/partnerpage/CustomerPage_Unit.jsp?goodsCode=LP0345009&docType=401&saleDate=20220401&pageGubun=prdt\n",
      "2024-12-12 20:55:47 - MainThread - INFO - get_pdf_view_url - PDF 뷰어 URL: https://pcms.samsunglife.com/partnerpage/CustomerPage_Unit.jsp?goodsCode=LP0345009&docType=401&saleDate=20220401&pageGubun=prdt\n",
      "2024-12-12 20:55:47,869 - INFO - 방법서 - 파일이 이미 존재합니다: LP0345009_401_20220401_방법서.pdf\n",
      "2024-12-12 20:55:47 - MainThread - INFO - download_pdf - 방법서 - 파일이 이미 존재합니다: LP0345009_401_20220401_방법서.pdf\n"
     ]
    },
    {
     "name": "stdout",
     "output_type": "stream",
     "text": [
      "PDF 뷰어 URL: https://pcms.samsunglife.com/partnerpage/CustomerPage_Unit.jsp?goodsCode=LP0345009&docType=401&saleDate=20220401&pageGubun=prdt\n"
     ]
    },
    {
     "name": "stderr",
     "output_type": "stream",
     "text": [
      "2024-12-12 20:55:49,098 - INFO - PDF 뷰어 URL: https://pcms.samsunglife.com/partnerpage/CustomerPage_Unit.jsp?goodsCode=LP0345009&docType=301&saleDate=20220401&pageGubun=prdt\n",
      "2024-12-12 20:55:49 - MainThread - INFO - get_pdf_view_url - PDF 뷰어 URL: https://pcms.samsunglife.com/partnerpage/CustomerPage_Unit.jsp?goodsCode=LP0345009&docType=301&saleDate=20220401&pageGubun=prdt\n",
      "2024-12-12 20:55:49,101 - INFO - 약관 - 파일이 이미 존재합니다: LP0345009_301_20220401_약관.pdf\n",
      "2024-12-12 20:55:49 - MainThread - INFO - download_pdf - 약관 - 파일이 이미 존재합니다: LP0345009_301_20220401_약관.pdf\n"
     ]
    },
    {
     "name": "stdout",
     "output_type": "stream",
     "text": [
      "PDF 뷰어 URL: https://pcms.samsunglife.com/partnerpage/CustomerPage_Unit.jsp?goodsCode=LP0345009&docType=301&saleDate=20220401&pageGubun=prdt\n",
      "PDF 뷰어 링크(a태그)가 없는 셀입니다.\n"
     ]
    },
    {
     "name": "stderr",
     "output_type": "stream",
     "text": [
      "2024-12-12 20:56:00,337 - INFO - PDF 뷰어 URL: https://pcms.samsunglife.com/partnerpage/CustomerPage_Unit.jsp?goodsCode=LP0345009&docType=401&saleDate=20220101&pageGubun=prdt\n",
      "2024-12-12 20:56:00 - MainThread - INFO - get_pdf_view_url - PDF 뷰어 URL: https://pcms.samsunglife.com/partnerpage/CustomerPage_Unit.jsp?goodsCode=LP0345009&docType=401&saleDate=20220101&pageGubun=prdt\n",
      "2024-12-12 20:56:00,343 - INFO - 방법서 - 파일이 이미 존재합니다: LP0345009_401_20220101_방법서.pdf\n",
      "2024-12-12 20:56:00 - MainThread - INFO - download_pdf - 방법서 - 파일이 이미 존재합니다: LP0345009_401_20220101_방법서.pdf\n"
     ]
    },
    {
     "name": "stdout",
     "output_type": "stream",
     "text": [
      "PDF 뷰어 URL: https://pcms.samsunglife.com/partnerpage/CustomerPage_Unit.jsp?goodsCode=LP0345009&docType=401&saleDate=20220101&pageGubun=prdt\n"
     ]
    },
    {
     "name": "stderr",
     "output_type": "stream",
     "text": [
      "2024-12-12 20:56:01,513 - INFO - PDF 뷰어 URL: https://pcms.samsunglife.com/partnerpage/CustomerPage_Unit.jsp?goodsCode=LP0345009&docType=301&saleDate=20220101&pageGubun=prdt\n",
      "2024-12-12 20:56:01 - MainThread - INFO - get_pdf_view_url - PDF 뷰어 URL: https://pcms.samsunglife.com/partnerpage/CustomerPage_Unit.jsp?goodsCode=LP0345009&docType=301&saleDate=20220101&pageGubun=prdt\n",
      "2024-12-12 20:56:01,517 - INFO - 약관 - 파일이 이미 존재합니다: LP0345009_301_20220101_약관.pdf\n",
      "2024-12-12 20:56:01 - MainThread - INFO - download_pdf - 약관 - 파일이 이미 존재합니다: LP0345009_301_20220101_약관.pdf\n"
     ]
    },
    {
     "name": "stdout",
     "output_type": "stream",
     "text": [
      "PDF 뷰어 URL: https://pcms.samsunglife.com/partnerpage/CustomerPage_Unit.jsp?goodsCode=LP0345009&docType=301&saleDate=20220101&pageGubun=prdt\n",
      "PDF 뷰어 링크(a태그)가 없는 셀입니다.\n"
     ]
    },
    {
     "name": "stderr",
     "output_type": "stream",
     "text": [
      "2024-12-12 20:56:12,714 - INFO - PDF 뷰어 URL: https://pcms.samsunglife.com/partnerpage/CustomerPage_Unit.jsp?goodsCode=LP0345009&docType=401&saleDate=20210801&pageGubun=prdt\n",
      "2024-12-12 20:56:12 - MainThread - INFO - get_pdf_view_url - PDF 뷰어 URL: https://pcms.samsunglife.com/partnerpage/CustomerPage_Unit.jsp?goodsCode=LP0345009&docType=401&saleDate=20210801&pageGubun=prdt\n",
      "2024-12-12 20:56:12,718 - INFO - 방법서 - 파일이 이미 존재합니다: LP0345009_401_20210801_방법서.pdf\n",
      "2024-12-12 20:56:12 - MainThread - INFO - download_pdf - 방법서 - 파일이 이미 존재합니다: LP0345009_401_20210801_방법서.pdf\n"
     ]
    },
    {
     "name": "stdout",
     "output_type": "stream",
     "text": [
      "PDF 뷰어 URL: https://pcms.samsunglife.com/partnerpage/CustomerPage_Unit.jsp?goodsCode=LP0345009&docType=401&saleDate=20210801&pageGubun=prdt\n"
     ]
    },
    {
     "name": "stderr",
     "output_type": "stream",
     "text": [
      "2024-12-12 20:56:13,936 - INFO - PDF 뷰어 URL: https://pcms.samsunglife.com/partnerpage/CustomerPage_Unit.jsp?goodsCode=LP0345009&docType=301&saleDate=20210801&pageGubun=prdt\n",
      "2024-12-12 20:56:13 - MainThread - INFO - get_pdf_view_url - PDF 뷰어 URL: https://pcms.samsunglife.com/partnerpage/CustomerPage_Unit.jsp?goodsCode=LP0345009&docType=301&saleDate=20210801&pageGubun=prdt\n",
      "2024-12-12 20:56:13,943 - INFO - 약관 - 파일이 이미 존재합니다: LP0345009_301_20210801_약관.pdf\n",
      "2024-12-12 20:56:13 - MainThread - INFO - download_pdf - 약관 - 파일이 이미 존재합니다: LP0345009_301_20210801_약관.pdf\n"
     ]
    },
    {
     "name": "stdout",
     "output_type": "stream",
     "text": [
      "PDF 뷰어 URL: https://pcms.samsunglife.com/partnerpage/CustomerPage_Unit.jsp?goodsCode=LP0345009&docType=301&saleDate=20210801&pageGubun=prdt\n",
      "PDF 뷰어 링크(a태그)가 없는 셀입니다.\n"
     ]
    },
    {
     "name": "stderr",
     "output_type": "stream",
     "text": [
      "2024-12-12 20:56:25,180 - INFO - PDF 뷰어 URL: https://pcms.samsunglife.com/partnerpage/CustomerPage_Unit.jsp?goodsCode=LP0345009&docType=401&saleDate=20210101&pageGubun=prdt\n",
      "2024-12-12 20:56:25 - MainThread - INFO - get_pdf_view_url - PDF 뷰어 URL: https://pcms.samsunglife.com/partnerpage/CustomerPage_Unit.jsp?goodsCode=LP0345009&docType=401&saleDate=20210101&pageGubun=prdt\n",
      "2024-12-12 20:56:25,183 - INFO - 방법서 - 파일이 이미 존재합니다: LP0345009_401_20210101_방법서.pdf\n",
      "2024-12-12 20:56:25 - MainThread - INFO - download_pdf - 방법서 - 파일이 이미 존재합니다: LP0345009_401_20210101_방법서.pdf\n"
     ]
    },
    {
     "name": "stdout",
     "output_type": "stream",
     "text": [
      "PDF 뷰어 URL: https://pcms.samsunglife.com/partnerpage/CustomerPage_Unit.jsp?goodsCode=LP0345009&docType=401&saleDate=20210101&pageGubun=prdt\n"
     ]
    },
    {
     "name": "stderr",
     "output_type": "stream",
     "text": [
      "2024-12-12 20:56:26,317 - INFO - PDF 뷰어 URL: https://pcms.samsunglife.com/partnerpage/CustomerPage_Unit.jsp?goodsCode=LP0345009&docType=301&saleDate=20210101&pageGubun=prdt\n",
      "2024-12-12 20:56:26 - MainThread - INFO - get_pdf_view_url - PDF 뷰어 URL: https://pcms.samsunglife.com/partnerpage/CustomerPage_Unit.jsp?goodsCode=LP0345009&docType=301&saleDate=20210101&pageGubun=prdt\n",
      "2024-12-12 20:56:26,323 - INFO - 약관 - 파일이 이미 존재합니다: LP0345009_301_20210101_약관.pdf\n",
      "2024-12-12 20:56:26 - MainThread - INFO - download_pdf - 약관 - 파일이 이미 존재합니다: LP0345009_301_20210101_약관.pdf\n"
     ]
    },
    {
     "name": "stdout",
     "output_type": "stream",
     "text": [
      "PDF 뷰어 URL: https://pcms.samsunglife.com/partnerpage/CustomerPage_Unit.jsp?goodsCode=LP0345009&docType=301&saleDate=20210101&pageGubun=prdt\n",
      "PDF 뷰어 링크(a태그)가 없는 셀입니다.\n"
     ]
    },
    {
     "name": "stderr",
     "output_type": "stream",
     "text": [
      "2024-12-12 20:56:37,539 - INFO - PDF 뷰어 URL: https://pcms.samsunglife.com/partnerpage/CustomerPage_Unit.jsp?goodsCode=LP0345009&docType=401&saleDate=20200401&pageGubun=prdt\n",
      "2024-12-12 20:56:37 - MainThread - INFO - get_pdf_view_url - PDF 뷰어 URL: https://pcms.samsunglife.com/partnerpage/CustomerPage_Unit.jsp?goodsCode=LP0345009&docType=401&saleDate=20200401&pageGubun=prdt\n",
      "2024-12-12 20:56:37,544 - INFO - 방법서 - 파일이 이미 존재합니다: LP0345009_401_20200401_방법서.pdf\n",
      "2024-12-12 20:56:37 - MainThread - INFO - download_pdf - 방법서 - 파일이 이미 존재합니다: LP0345009_401_20200401_방법서.pdf\n"
     ]
    },
    {
     "name": "stdout",
     "output_type": "stream",
     "text": [
      "PDF 뷰어 URL: https://pcms.samsunglife.com/partnerpage/CustomerPage_Unit.jsp?goodsCode=LP0345009&docType=401&saleDate=20200401&pageGubun=prdt\n"
     ]
    },
    {
     "name": "stderr",
     "output_type": "stream",
     "text": [
      "2024-12-12 20:56:38,778 - INFO - PDF 뷰어 URL: https://pcms.samsunglife.com/partnerpage/CustomerPage_Unit.jsp?goodsCode=LP0345009&docType=301&saleDate=20200401&pageGubun=prdt\n",
      "2024-12-12 20:56:38 - MainThread - INFO - get_pdf_view_url - PDF 뷰어 URL: https://pcms.samsunglife.com/partnerpage/CustomerPage_Unit.jsp?goodsCode=LP0345009&docType=301&saleDate=20200401&pageGubun=prdt\n",
      "2024-12-12 20:56:38,781 - INFO - 약관 - 파일이 이미 존재합니다: LP0345009_301_20200401_약관.pdf\n",
      "2024-12-12 20:56:38 - MainThread - INFO - download_pdf - 약관 - 파일이 이미 존재합니다: LP0345009_301_20200401_약관.pdf\n"
     ]
    },
    {
     "name": "stdout",
     "output_type": "stream",
     "text": [
      "PDF 뷰어 URL: https://pcms.samsunglife.com/partnerpage/CustomerPage_Unit.jsp?goodsCode=LP0345009&docType=301&saleDate=20200401&pageGubun=prdt\n",
      "PDF 뷰어 링크(a태그)가 없는 셀입니다.\n"
     ]
    },
    {
     "name": "stderr",
     "output_type": "stream",
     "text": [
      "2024-12-12 20:56:49,983 - INFO - PDF 뷰어 URL: https://pcms.samsunglife.com/partnerpage/CustomerPage_Corp.jsp?title=%ED%87%B4%EC%A7%81%EB%B3%B4%ED%97%98&path=/uploadDir/corp/2016/0627/701/&fname=1466757894708-701-.pdf&pageGubun=prdt\n",
      "2024-12-12 20:56:49 - MainThread - INFO - get_pdf_view_url - PDF 뷰어 URL: https://pcms.samsunglife.com/partnerpage/CustomerPage_Corp.jsp?title=%ED%87%B4%EC%A7%81%EB%B3%B4%ED%97%98&path=/uploadDir/corp/2016/0627/701/&fname=1466757894708-701-.pdf&pageGubun=prdt\n",
      "2024-12-12 20:56:49,989 - INFO - 방법서 - 파일이 이미 존재합니다: %ED%87%B4%EC%A7%81%EB%B3%B4%ED%97%98_701_20160627_방법서.pdf\n",
      "2024-12-12 20:56:49 - MainThread - INFO - download_pdf - 방법서 - 파일이 이미 존재합니다: %ED%87%B4%EC%A7%81%EB%B3%B4%ED%97%98_701_20160627_방법서.pdf\n"
     ]
    },
    {
     "name": "stdout",
     "output_type": "stream",
     "text": [
      "PDF 뷰어 URL: https://pcms.samsunglife.com/partnerpage/CustomerPage_Corp.jsp?title=%ED%87%B4%EC%A7%81%EB%B3%B4%ED%97%98&path=/uploadDir/corp/2016/0627/701/&fname=1466757894708-701-.pdf&pageGubun=prdt\n"
     ]
    },
    {
     "name": "stderr",
     "output_type": "stream",
     "text": [
      "2024-12-12 20:56:51,126 - INFO - PDF 뷰어 URL: https://pcms.samsunglife.com/partnerpage/CustomerPage_Corp.jsp?title=%ED%87%B4%EC%A7%81%EB%B3%B4%ED%97%98&path=/uploadDir/corp/2016/0627/801/&fname=1466757894708-801-.pdf&pageGubun=prdt\n",
      "2024-12-12 20:56:51 - MainThread - INFO - get_pdf_view_url - PDF 뷰어 URL: https://pcms.samsunglife.com/partnerpage/CustomerPage_Corp.jsp?title=%ED%87%B4%EC%A7%81%EB%B3%B4%ED%97%98&path=/uploadDir/corp/2016/0627/801/&fname=1466757894708-801-.pdf&pageGubun=prdt\n",
      "2024-12-12 20:56:51,129 - INFO - 약관 - 파일이 이미 존재합니다: %ED%87%B4%EC%A7%81%EB%B3%B4%ED%97%98_801_20160627_약관.pdf\n",
      "2024-12-12 20:56:51 - MainThread - INFO - download_pdf - 약관 - 파일이 이미 존재합니다: %ED%87%B4%EC%A7%81%EB%B3%B4%ED%97%98_801_20160627_약관.pdf\n"
     ]
    },
    {
     "name": "stdout",
     "output_type": "stream",
     "text": [
      "PDF 뷰어 URL: https://pcms.samsunglife.com/partnerpage/CustomerPage_Corp.jsp?title=%ED%87%B4%EC%A7%81%EB%B3%B4%ED%97%98&path=/uploadDir/corp/2016/0627/801/&fname=1466757894708-801-.pdf&pageGubun=prdt\n",
      "PDF 뷰어 링크(a태그)가 없는 셀입니다.\n"
     ]
    },
    {
     "name": "stderr",
     "output_type": "stream",
     "text": [
      "2024-12-12 20:57:02,356 - INFO - PDF 뷰어 URL: https://pcms.samsunglife.com/partnerpage/CustomerPage_Unit.jsp?goodsCode=LP0344010&docType=401&saleDate=20240401&pageGubun=prdt\n",
      "2024-12-12 20:57:02 - MainThread - INFO - get_pdf_view_url - PDF 뷰어 URL: https://pcms.samsunglife.com/partnerpage/CustomerPage_Unit.jsp?goodsCode=LP0344010&docType=401&saleDate=20240401&pageGubun=prdt\n",
      "2024-12-12 20:57:02,360 - INFO - 방법서 - 파일이 이미 존재합니다: LP0344010_401_20240401_방법서.pdf\n",
      "2024-12-12 20:57:02 - MainThread - INFO - download_pdf - 방법서 - 파일이 이미 존재합니다: LP0344010_401_20240401_방법서.pdf\n"
     ]
    },
    {
     "name": "stdout",
     "output_type": "stream",
     "text": [
      "PDF 뷰어 URL: https://pcms.samsunglife.com/partnerpage/CustomerPage_Unit.jsp?goodsCode=LP0344010&docType=401&saleDate=20240401&pageGubun=prdt\n"
     ]
    },
    {
     "name": "stderr",
     "output_type": "stream",
     "text": [
      "2024-12-12 20:57:03,496 - INFO - PDF 뷰어 URL: https://pcms.samsunglife.com/partnerpage/CustomerPage_Unit.jsp?goodsCode=LP0344010&docType=301&saleDate=20240401&pageGubun=prdt\n",
      "2024-12-12 20:57:03 - MainThread - INFO - get_pdf_view_url - PDF 뷰어 URL: https://pcms.samsunglife.com/partnerpage/CustomerPage_Unit.jsp?goodsCode=LP0344010&docType=301&saleDate=20240401&pageGubun=prdt\n",
      "2024-12-12 20:57:03,501 - INFO - 약관 - 파일이 이미 존재합니다: LP0344010_301_20240401_약관.pdf\n",
      "2024-12-12 20:57:03 - MainThread - INFO - download_pdf - 약관 - 파일이 이미 존재합니다: LP0344010_301_20240401_약관.pdf\n",
      "2024-12-12 20:57:03,574 - INFO - 현재 페이지: 1 페이지 수집완료...\n",
      "2024-12-12 20:57:03 - MainThread - INFO - scrape_samsung_life_products - 현재 페이지: 1 페이지 수집완료...\n"
     ]
    },
    {
     "name": "stdout",
     "output_type": "stream",
     "text": [
      "PDF 뷰어 URL: https://pcms.samsunglife.com/partnerpage/CustomerPage_Unit.jsp?goodsCode=LP0344010&docType=301&saleDate=20240401&pageGubun=prdt\n"
     ]
    },
    {
     "name": "stderr",
     "output_type": "stream",
     "text": [
      "2024-12-12 20:57:05,665 - INFO - 현재 페이지에서 10개의 행을 찾았습니다.\n",
      "2024-12-12 20:57:05 - MainThread - INFO - scrape_samsung_life_products - 현재 페이지에서 10개의 행을 찾았습니다.\n"
     ]
    },
    {
     "name": "stdout",
     "output_type": "stream",
     "text": [
      "PDF 뷰어 링크(a태그)가 없는 셀입니다.\n"
     ]
    },
    {
     "name": "stderr",
     "output_type": "stream",
     "text": [
      "2024-12-12 20:57:16,842 - INFO - PDF 뷰어 URL: https://pcms.samsunglife.com/partnerpage/CustomerPage_Unit.jsp?goodsCode=LP0344009&docType=401&saleDate=20240101&pageGubun=prdt\n",
      "2024-12-12 20:57:16 - MainThread - INFO - get_pdf_view_url - PDF 뷰어 URL: https://pcms.samsunglife.com/partnerpage/CustomerPage_Unit.jsp?goodsCode=LP0344009&docType=401&saleDate=20240101&pageGubun=prdt\n",
      "2024-12-12 20:57:16,846 - INFO - 방법서 - 파일이 이미 존재합니다: LP0344009_401_20240101_방법서.pdf\n",
      "2024-12-12 20:57:16 - MainThread - INFO - download_pdf - 방법서 - 파일이 이미 존재합니다: LP0344009_401_20240101_방법서.pdf\n"
     ]
    },
    {
     "name": "stdout",
     "output_type": "stream",
     "text": [
      "PDF 뷰어 URL: https://pcms.samsunglife.com/partnerpage/CustomerPage_Unit.jsp?goodsCode=LP0344009&docType=401&saleDate=20240101&pageGubun=prdt\n"
     ]
    },
    {
     "name": "stderr",
     "output_type": "stream",
     "text": [
      "2024-12-12 20:57:17,987 - INFO - PDF 뷰어 URL: https://pcms.samsunglife.com/partnerpage/CustomerPage_Unit.jsp?goodsCode=LP0344009&docType=301&saleDate=20240101&pageGubun=prdt\n",
      "2024-12-12 20:57:17 - MainThread - INFO - get_pdf_view_url - PDF 뷰어 URL: https://pcms.samsunglife.com/partnerpage/CustomerPage_Unit.jsp?goodsCode=LP0344009&docType=301&saleDate=20240101&pageGubun=prdt\n",
      "2024-12-12 20:57:17,991 - INFO - 약관 - 파일이 이미 존재합니다: LP0344009_301_20240101_약관.pdf\n",
      "2024-12-12 20:57:17 - MainThread - INFO - download_pdf - 약관 - 파일이 이미 존재합니다: LP0344009_301_20240101_약관.pdf\n"
     ]
    },
    {
     "name": "stdout",
     "output_type": "stream",
     "text": [
      "PDF 뷰어 URL: https://pcms.samsunglife.com/partnerpage/CustomerPage_Unit.jsp?goodsCode=LP0344009&docType=301&saleDate=20240101&pageGubun=prdt\n",
      "PDF 뷰어 링크(a태그)가 없는 셀입니다.\n"
     ]
    },
    {
     "name": "stderr",
     "output_type": "stream",
     "text": [
      "2024-12-12 20:57:29,188 - INFO - PDF 뷰어 URL: https://pcms.samsunglife.com/partnerpage/CustomerPage_Unit.jsp?goodsCode=LP0344009&docType=401&saleDate=20230101&pageGubun=prdt\n",
      "2024-12-12 20:57:29 - MainThread - INFO - get_pdf_view_url - PDF 뷰어 URL: https://pcms.samsunglife.com/partnerpage/CustomerPage_Unit.jsp?goodsCode=LP0344009&docType=401&saleDate=20230101&pageGubun=prdt\n",
      "2024-12-12 20:57:29,192 - INFO - 방법서 - 파일이 이미 존재합니다: LP0344009_401_20230101_방법서.pdf\n",
      "2024-12-12 20:57:29 - MainThread - INFO - download_pdf - 방법서 - 파일이 이미 존재합니다: LP0344009_401_20230101_방법서.pdf\n"
     ]
    },
    {
     "name": "stdout",
     "output_type": "stream",
     "text": [
      "PDF 뷰어 URL: https://pcms.samsunglife.com/partnerpage/CustomerPage_Unit.jsp?goodsCode=LP0344009&docType=401&saleDate=20230101&pageGubun=prdt\n"
     ]
    },
    {
     "name": "stderr",
     "output_type": "stream",
     "text": [
      "2024-12-12 20:57:30,384 - INFO - PDF 뷰어 URL: https://pcms.samsunglife.com/partnerpage/CustomerPage_Unit.jsp?goodsCode=LP0344009&docType=301&saleDate=20230101&pageGubun=prdt\n",
      "2024-12-12 20:57:30 - MainThread - INFO - get_pdf_view_url - PDF 뷰어 URL: https://pcms.samsunglife.com/partnerpage/CustomerPage_Unit.jsp?goodsCode=LP0344009&docType=301&saleDate=20230101&pageGubun=prdt\n",
      "2024-12-12 20:57:30,389 - INFO - 약관 - 파일이 이미 존재합니다: LP0344009_301_20230101_약관.pdf\n",
      "2024-12-12 20:57:30 - MainThread - INFO - download_pdf - 약관 - 파일이 이미 존재합니다: LP0344009_301_20230101_약관.pdf\n"
     ]
    },
    {
     "name": "stdout",
     "output_type": "stream",
     "text": [
      "PDF 뷰어 URL: https://pcms.samsunglife.com/partnerpage/CustomerPage_Unit.jsp?goodsCode=LP0344009&docType=301&saleDate=20230101&pageGubun=prdt\n",
      "PDF 뷰어 링크(a태그)가 없는 셀입니다.\n"
     ]
    },
    {
     "name": "stderr",
     "output_type": "stream",
     "text": [
      "2024-12-12 20:57:41,619 - INFO - PDF 뷰어 URL: https://pcms.samsunglife.com/partnerpage/CustomerPage_Unit.jsp?goodsCode=LP0344009&docType=401&saleDate=20220401&pageGubun=prdt\n",
      "2024-12-12 20:57:41 - MainThread - INFO - get_pdf_view_url - PDF 뷰어 URL: https://pcms.samsunglife.com/partnerpage/CustomerPage_Unit.jsp?goodsCode=LP0344009&docType=401&saleDate=20220401&pageGubun=prdt\n",
      "2024-12-12 20:57:41,624 - INFO - 방법서 - 파일이 이미 존재합니다: LP0344009_401_20220401_방법서.pdf\n",
      "2024-12-12 20:57:41 - MainThread - INFO - download_pdf - 방법서 - 파일이 이미 존재합니다: LP0344009_401_20220401_방법서.pdf\n"
     ]
    },
    {
     "name": "stdout",
     "output_type": "stream",
     "text": [
      "PDF 뷰어 URL: https://pcms.samsunglife.com/partnerpage/CustomerPage_Unit.jsp?goodsCode=LP0344009&docType=401&saleDate=20220401&pageGubun=prdt\n"
     ]
    },
    {
     "name": "stderr",
     "output_type": "stream",
     "text": [
      "2024-12-12 20:57:42,836 - INFO - PDF 뷰어 URL: https://pcms.samsunglife.com/partnerpage/CustomerPage_Unit.jsp?goodsCode=LP0344009&docType=301&saleDate=20220401&pageGubun=prdt\n",
      "2024-12-12 20:57:42 - MainThread - INFO - get_pdf_view_url - PDF 뷰어 URL: https://pcms.samsunglife.com/partnerpage/CustomerPage_Unit.jsp?goodsCode=LP0344009&docType=301&saleDate=20220401&pageGubun=prdt\n",
      "2024-12-12 20:57:42,840 - INFO - 약관 - 파일이 이미 존재합니다: LP0344009_301_20220401_약관.pdf\n",
      "2024-12-12 20:57:42 - MainThread - INFO - download_pdf - 약관 - 파일이 이미 존재합니다: LP0344009_301_20220401_약관.pdf\n"
     ]
    },
    {
     "name": "stdout",
     "output_type": "stream",
     "text": [
      "PDF 뷰어 URL: https://pcms.samsunglife.com/partnerpage/CustomerPage_Unit.jsp?goodsCode=LP0344009&docType=301&saleDate=20220401&pageGubun=prdt\n",
      "PDF 뷰어 링크(a태그)가 없는 셀입니다.\n"
     ]
    },
    {
     "name": "stderr",
     "output_type": "stream",
     "text": [
      "2024-12-12 20:57:54,054 - INFO - PDF 뷰어 URL: https://pcms.samsunglife.com/partnerpage/CustomerPage_Unit.jsp?goodsCode=LP0344009&docType=401&saleDate=20220101&pageGubun=prdt\n",
      "2024-12-12 20:57:54 - MainThread - INFO - get_pdf_view_url - PDF 뷰어 URL: https://pcms.samsunglife.com/partnerpage/CustomerPage_Unit.jsp?goodsCode=LP0344009&docType=401&saleDate=20220101&pageGubun=prdt\n",
      "2024-12-12 20:57:54,058 - INFO - 방법서 - 파일이 이미 존재합니다: LP0344009_401_20220101_방법서.pdf\n",
      "2024-12-12 20:57:54 - MainThread - INFO - download_pdf - 방법서 - 파일이 이미 존재합니다: LP0344009_401_20220101_방법서.pdf\n"
     ]
    },
    {
     "name": "stdout",
     "output_type": "stream",
     "text": [
      "PDF 뷰어 URL: https://pcms.samsunglife.com/partnerpage/CustomerPage_Unit.jsp?goodsCode=LP0344009&docType=401&saleDate=20220101&pageGubun=prdt\n"
     ]
    },
    {
     "name": "stderr",
     "output_type": "stream",
     "text": [
      "2024-12-12 20:57:55,283 - INFO - PDF 뷰어 URL: https://pcms.samsunglife.com/partnerpage/CustomerPage_Unit.jsp?goodsCode=LP0344009&docType=301&saleDate=20220101&pageGubun=prdt\n",
      "2024-12-12 20:57:55 - MainThread - INFO - get_pdf_view_url - PDF 뷰어 URL: https://pcms.samsunglife.com/partnerpage/CustomerPage_Unit.jsp?goodsCode=LP0344009&docType=301&saleDate=20220101&pageGubun=prdt\n",
      "2024-12-12 20:57:55,287 - INFO - 약관 - 파일이 이미 존재합니다: LP0344009_301_20220101_약관.pdf\n",
      "2024-12-12 20:57:55 - MainThread - INFO - download_pdf - 약관 - 파일이 이미 존재합니다: LP0344009_301_20220101_약관.pdf\n"
     ]
    },
    {
     "name": "stdout",
     "output_type": "stream",
     "text": [
      "PDF 뷰어 URL: https://pcms.samsunglife.com/partnerpage/CustomerPage_Unit.jsp?goodsCode=LP0344009&docType=301&saleDate=20220101&pageGubun=prdt\n",
      "PDF 뷰어 링크(a태그)가 없는 셀입니다.\n"
     ]
    },
    {
     "name": "stderr",
     "output_type": "stream",
     "text": [
      "2024-12-12 20:58:06,477 - INFO - PDF 뷰어 URL: https://pcms.samsunglife.com/partnerpage/CustomerPage_Unit.jsp?goodsCode=LP0344009&docType=401&saleDate=20210801&pageGubun=prdt\n",
      "2024-12-12 20:58:06 - MainThread - INFO - get_pdf_view_url - PDF 뷰어 URL: https://pcms.samsunglife.com/partnerpage/CustomerPage_Unit.jsp?goodsCode=LP0344009&docType=401&saleDate=20210801&pageGubun=prdt\n",
      "2024-12-12 20:58:06,484 - INFO - 방법서 - 파일이 이미 존재합니다: LP0344009_401_20210801_방법서.pdf\n",
      "2024-12-12 20:58:06 - MainThread - INFO - download_pdf - 방법서 - 파일이 이미 존재합니다: LP0344009_401_20210801_방법서.pdf\n"
     ]
    },
    {
     "name": "stdout",
     "output_type": "stream",
     "text": [
      "PDF 뷰어 URL: https://pcms.samsunglife.com/partnerpage/CustomerPage_Unit.jsp?goodsCode=LP0344009&docType=401&saleDate=20210801&pageGubun=prdt\n"
     ]
    },
    {
     "name": "stderr",
     "output_type": "stream",
     "text": [
      "2024-12-12 20:58:07,626 - INFO - PDF 뷰어 URL: https://pcms.samsunglife.com/partnerpage/CustomerPage_Unit.jsp?goodsCode=LP0344009&docType=301&saleDate=20210801&pageGubun=prdt\n",
      "2024-12-12 20:58:07 - MainThread - INFO - get_pdf_view_url - PDF 뷰어 URL: https://pcms.samsunglife.com/partnerpage/CustomerPage_Unit.jsp?goodsCode=LP0344009&docType=301&saleDate=20210801&pageGubun=prdt\n",
      "2024-12-12 20:58:07,631 - INFO - 약관 - 파일이 이미 존재합니다: LP0344009_301_20210801_약관.pdf\n",
      "2024-12-12 20:58:07 - MainThread - INFO - download_pdf - 약관 - 파일이 이미 존재합니다: LP0344009_301_20210801_약관.pdf\n"
     ]
    },
    {
     "name": "stdout",
     "output_type": "stream",
     "text": [
      "PDF 뷰어 URL: https://pcms.samsunglife.com/partnerpage/CustomerPage_Unit.jsp?goodsCode=LP0344009&docType=301&saleDate=20210801&pageGubun=prdt\n",
      "PDF 뷰어 링크(a태그)가 없는 셀입니다.\n"
     ]
    },
    {
     "name": "stderr",
     "output_type": "stream",
     "text": [
      "2024-12-12 20:58:18,851 - INFO - PDF 뷰어 URL: https://pcms.samsunglife.com/partnerpage/CustomerPage_Unit.jsp?goodsCode=LP0344009&docType=401&saleDate=20210101&pageGubun=prdt\n",
      "2024-12-12 20:58:18 - MainThread - INFO - get_pdf_view_url - PDF 뷰어 URL: https://pcms.samsunglife.com/partnerpage/CustomerPage_Unit.jsp?goodsCode=LP0344009&docType=401&saleDate=20210101&pageGubun=prdt\n",
      "2024-12-12 20:58:18,856 - INFO - 방법서 - 파일이 이미 존재합니다: LP0344009_401_20210101_방법서.pdf\n",
      "2024-12-12 20:58:18 - MainThread - INFO - download_pdf - 방법서 - 파일이 이미 존재합니다: LP0344009_401_20210101_방법서.pdf\n"
     ]
    },
    {
     "name": "stdout",
     "output_type": "stream",
     "text": [
      "PDF 뷰어 URL: https://pcms.samsunglife.com/partnerpage/CustomerPage_Unit.jsp?goodsCode=LP0344009&docType=401&saleDate=20210101&pageGubun=prdt\n"
     ]
    },
    {
     "name": "stderr",
     "output_type": "stream",
     "text": [
      "2024-12-12 20:58:20,081 - INFO - PDF 뷰어 URL: https://pcms.samsunglife.com/partnerpage/CustomerPage_Unit.jsp?goodsCode=LP0344009&docType=301&saleDate=20210101&pageGubun=prdt\n",
      "2024-12-12 20:58:20 - MainThread - INFO - get_pdf_view_url - PDF 뷰어 URL: https://pcms.samsunglife.com/partnerpage/CustomerPage_Unit.jsp?goodsCode=LP0344009&docType=301&saleDate=20210101&pageGubun=prdt\n",
      "2024-12-12 20:58:20,085 - INFO - 약관 - 파일이 이미 존재합니다: LP0344009_301_20210101_약관.pdf\n",
      "2024-12-12 20:58:20 - MainThread - INFO - download_pdf - 약관 - 파일이 이미 존재합니다: LP0344009_301_20210101_약관.pdf\n"
     ]
    },
    {
     "name": "stdout",
     "output_type": "stream",
     "text": [
      "PDF 뷰어 URL: https://pcms.samsunglife.com/partnerpage/CustomerPage_Unit.jsp?goodsCode=LP0344009&docType=301&saleDate=20210101&pageGubun=prdt\n",
      "PDF 뷰어 링크(a태그)가 없는 셀입니다.\n"
     ]
    },
    {
     "name": "stderr",
     "output_type": "stream",
     "text": [
      "2024-12-12 20:58:31,269 - INFO - PDF 뷰어 URL: https://pcms.samsunglife.com/partnerpage/CustomerPage_Unit.jsp?goodsCode=LP0344009&docType=401&saleDate=20200401&pageGubun=prdt\n",
      "2024-12-12 20:58:31 - MainThread - INFO - get_pdf_view_url - PDF 뷰어 URL: https://pcms.samsunglife.com/partnerpage/CustomerPage_Unit.jsp?goodsCode=LP0344009&docType=401&saleDate=20200401&pageGubun=prdt\n",
      "2024-12-12 20:58:31,272 - INFO - 방법서 - 파일이 이미 존재합니다: LP0344009_401_20200401_방법서.pdf\n",
      "2024-12-12 20:58:31 - MainThread - INFO - download_pdf - 방법서 - 파일이 이미 존재합니다: LP0344009_401_20200401_방법서.pdf\n"
     ]
    },
    {
     "name": "stdout",
     "output_type": "stream",
     "text": [
      "PDF 뷰어 URL: https://pcms.samsunglife.com/partnerpage/CustomerPage_Unit.jsp?goodsCode=LP0344009&docType=401&saleDate=20200401&pageGubun=prdt\n"
     ]
    },
    {
     "name": "stderr",
     "output_type": "stream",
     "text": [
      "2024-12-12 20:58:32,409 - INFO - PDF 뷰어 URL: https://pcms.samsunglife.com/partnerpage/CustomerPage_Unit.jsp?goodsCode=LP0344009&docType=301&saleDate=20200401&pageGubun=prdt\n",
      "2024-12-12 20:58:32 - MainThread - INFO - get_pdf_view_url - PDF 뷰어 URL: https://pcms.samsunglife.com/partnerpage/CustomerPage_Unit.jsp?goodsCode=LP0344009&docType=301&saleDate=20200401&pageGubun=prdt\n",
      "2024-12-12 20:58:32,413 - INFO - 약관 - 파일이 이미 존재합니다: LP0344009_301_20200401_약관.pdf\n",
      "2024-12-12 20:58:32 - MainThread - INFO - download_pdf - 약관 - 파일이 이미 존재합니다: LP0344009_301_20200401_약관.pdf\n"
     ]
    },
    {
     "name": "stdout",
     "output_type": "stream",
     "text": [
      "PDF 뷰어 URL: https://pcms.samsunglife.com/partnerpage/CustomerPage_Unit.jsp?goodsCode=LP0344009&docType=301&saleDate=20200401&pageGubun=prdt\n",
      "PDF 뷰어 링크(a태그)가 없는 셀입니다.\n"
     ]
    },
    {
     "name": "stderr",
     "output_type": "stream",
     "text": [
      "2024-12-12 20:58:43,635 - INFO - PDF 뷰어 URL: https://pcms.samsunglife.com/partnerpage/CustomerPage_Unit.jsp?goodsCode=LP7002001&docType=401&saleDate=20200624&pageGubun=prdt\n",
      "2024-12-12 20:58:43 - MainThread - INFO - get_pdf_view_url - PDF 뷰어 URL: https://pcms.samsunglife.com/partnerpage/CustomerPage_Unit.jsp?goodsCode=LP7002001&docType=401&saleDate=20200624&pageGubun=prdt\n",
      "2024-12-12 20:58:43,638 - INFO - 방법서 - 파일이 이미 존재합니다: LP7002001_401_20200624_방법서.pdf\n",
      "2024-12-12 20:58:43 - MainThread - INFO - download_pdf - 방법서 - 파일이 이미 존재합니다: LP7002001_401_20200624_방법서.pdf\n"
     ]
    },
    {
     "name": "stdout",
     "output_type": "stream",
     "text": [
      "PDF 뷰어 URL: https://pcms.samsunglife.com/partnerpage/CustomerPage_Unit.jsp?goodsCode=LP7002001&docType=401&saleDate=20200624&pageGubun=prdt\n"
     ]
    },
    {
     "name": "stderr",
     "output_type": "stream",
     "text": [
      "2024-12-12 20:58:44,782 - INFO - PDF 뷰어 URL: https://pcms.samsunglife.com/partnerpage/CustomerPage_Unit.jsp?goodsCode=LP7002001&docType=301&saleDate=20200624&pageGubun=prdt\n",
      "2024-12-12 20:58:44 - MainThread - INFO - get_pdf_view_url - PDF 뷰어 URL: https://pcms.samsunglife.com/partnerpage/CustomerPage_Unit.jsp?goodsCode=LP7002001&docType=301&saleDate=20200624&pageGubun=prdt\n",
      "2024-12-12 20:58:44,787 - INFO - 약관 - 파일이 이미 존재합니다: LP7002001_301_20200624_약관.pdf\n",
      "2024-12-12 20:58:44 - MainThread - INFO - download_pdf - 약관 - 파일이 이미 존재합니다: LP7002001_301_20200624_약관.pdf\n"
     ]
    },
    {
     "name": "stdout",
     "output_type": "stream",
     "text": [
      "PDF 뷰어 URL: https://pcms.samsunglife.com/partnerpage/CustomerPage_Unit.jsp?goodsCode=LP7002001&docType=301&saleDate=20200624&pageGubun=prdt\n",
      "PDF 뷰어 링크(a태그)가 없는 셀입니다.\n"
     ]
    },
    {
     "name": "stderr",
     "output_type": "stream",
     "text": [
      "2024-12-12 20:58:56,004 - INFO - PDF 뷰어 URL: https://pcms.samsunglife.com/partnerpage/CustomerPage_Unit.jsp?goodsCode=LP0107016&docType=401&saleDate=20240101&pageGubun=prdt\n",
      "2024-12-12 20:58:56 - MainThread - INFO - get_pdf_view_url - PDF 뷰어 URL: https://pcms.samsunglife.com/partnerpage/CustomerPage_Unit.jsp?goodsCode=LP0107016&docType=401&saleDate=20240101&pageGubun=prdt\n",
      "2024-12-12 20:58:56,009 - INFO - 방법서 - 파일이 이미 존재합니다: LP0107016_401_20240101_방법서.pdf\n",
      "2024-12-12 20:58:56 - MainThread - INFO - download_pdf - 방법서 - 파일이 이미 존재합니다: LP0107016_401_20240101_방법서.pdf\n"
     ]
    },
    {
     "name": "stdout",
     "output_type": "stream",
     "text": [
      "PDF 뷰어 URL: https://pcms.samsunglife.com/partnerpage/CustomerPage_Unit.jsp?goodsCode=LP0107016&docType=401&saleDate=20240101&pageGubun=prdt\n"
     ]
    },
    {
     "name": "stderr",
     "output_type": "stream",
     "text": [
      "2024-12-12 20:58:57,230 - INFO - PDF 뷰어 URL: https://pcms.samsunglife.com/partnerpage/CustomerPage_Unit.jsp?goodsCode=LP0107016&docType=301&saleDate=20240101&pageGubun=prdt\n",
      "2024-12-12 20:58:57 - MainThread - INFO - get_pdf_view_url - PDF 뷰어 URL: https://pcms.samsunglife.com/partnerpage/CustomerPage_Unit.jsp?goodsCode=LP0107016&docType=301&saleDate=20240101&pageGubun=prdt\n",
      "2024-12-12 20:58:57,235 - INFO - 약관 - 파일이 이미 존재합니다: LP0107016_301_20240101_약관.pdf\n",
      "2024-12-12 20:58:57 - MainThread - INFO - download_pdf - 약관 - 파일이 이미 존재합니다: LP0107016_301_20240101_약관.pdf\n"
     ]
    },
    {
     "name": "stdout",
     "output_type": "stream",
     "text": [
      "PDF 뷰어 URL: https://pcms.samsunglife.com/partnerpage/CustomerPage_Unit.jsp?goodsCode=LP0107016&docType=301&saleDate=20240101&pageGubun=prdt\n",
      "PDF 뷰어 링크(a태그)가 없는 셀입니다.\n"
     ]
    },
    {
     "name": "stderr",
     "output_type": "stream",
     "text": [
      "2024-12-12 20:59:08,451 - INFO - PDF 뷰어 URL: https://pcms.samsunglife.com/partnerpage/CustomerPage_Unit.jsp?goodsCode=LP0107015&docType=401&saleDate=20230101&pageGubun=prdt\n",
      "2024-12-12 20:59:08 - MainThread - INFO - get_pdf_view_url - PDF 뷰어 URL: https://pcms.samsunglife.com/partnerpage/CustomerPage_Unit.jsp?goodsCode=LP0107015&docType=401&saleDate=20230101&pageGubun=prdt\n",
      "2024-12-12 20:59:08,455 - INFO - 방법서 - 파일이 이미 존재합니다: LP0107015_401_20230101_방법서.pdf\n",
      "2024-12-12 20:59:08 - MainThread - INFO - download_pdf - 방법서 - 파일이 이미 존재합니다: LP0107015_401_20230101_방법서.pdf\n"
     ]
    },
    {
     "name": "stdout",
     "output_type": "stream",
     "text": [
      "PDF 뷰어 URL: https://pcms.samsunglife.com/partnerpage/CustomerPage_Unit.jsp?goodsCode=LP0107015&docType=401&saleDate=20230101&pageGubun=prdt\n"
     ]
    },
    {
     "name": "stderr",
     "output_type": "stream",
     "text": [
      "2024-12-12 20:59:09,597 - INFO - PDF 뷰어 URL: https://pcms.samsunglife.com/partnerpage/CustomerPage_Unit.jsp?goodsCode=LP0107015&docType=301&saleDate=20230101&pageGubun=prdt\n",
      "2024-12-12 20:59:09 - MainThread - INFO - get_pdf_view_url - PDF 뷰어 URL: https://pcms.samsunglife.com/partnerpage/CustomerPage_Unit.jsp?goodsCode=LP0107015&docType=301&saleDate=20230101&pageGubun=prdt\n",
      "2024-12-12 20:59:09,601 - INFO - 약관 - 파일이 이미 존재합니다: LP0107015_301_20230101_약관.pdf\n",
      "2024-12-12 20:59:09 - MainThread - INFO - download_pdf - 약관 - 파일이 이미 존재합니다: LP0107015_301_20230101_약관.pdf\n",
      "2024-12-12 20:59:09,672 - INFO - 현재 페이지: 2 페이지 수집완료...\n",
      "2024-12-12 20:59:09 - MainThread - INFO - scrape_samsung_life_products - 현재 페이지: 2 페이지 수집완료...\n"
     ]
    },
    {
     "name": "stdout",
     "output_type": "stream",
     "text": [
      "PDF 뷰어 URL: https://pcms.samsunglife.com/partnerpage/CustomerPage_Unit.jsp?goodsCode=LP0107015&docType=301&saleDate=20230101&pageGubun=prdt\n"
     ]
    },
    {
     "name": "stderr",
     "output_type": "stream",
     "text": [
      "2024-12-12 20:59:11,760 - INFO - 현재 페이지에서 10개의 행을 찾았습니다.\n",
      "2024-12-12 20:59:11 - MainThread - INFO - scrape_samsung_life_products - 현재 페이지에서 10개의 행을 찾았습니다.\n"
     ]
    },
    {
     "name": "stdout",
     "output_type": "stream",
     "text": [
      "PDF 뷰어 링크(a태그)가 없는 셀입니다.\n"
     ]
    },
    {
     "name": "stderr",
     "output_type": "stream",
     "text": [
      "2024-12-12 20:59:22,945 - INFO - PDF 뷰어 URL: https://pcms.samsunglife.com/partnerpage/CustomerPage_Unit.jsp?goodsCode=LP0391009&docType=401&saleDate=20240101&pageGubun=prdt\n",
      "2024-12-12 20:59:22 - MainThread - INFO - get_pdf_view_url - PDF 뷰어 URL: https://pcms.samsunglife.com/partnerpage/CustomerPage_Unit.jsp?goodsCode=LP0391009&docType=401&saleDate=20240101&pageGubun=prdt\n",
      "2024-12-12 20:59:22,949 - INFO - 방법서 - 파일이 이미 존재합니다: LP0391009_401_20240101_방법서.pdf\n",
      "2024-12-12 20:59:22 - MainThread - INFO - download_pdf - 방법서 - 파일이 이미 존재합니다: LP0391009_401_20240101_방법서.pdf\n"
     ]
    },
    {
     "name": "stdout",
     "output_type": "stream",
     "text": [
      "PDF 뷰어 URL: https://pcms.samsunglife.com/partnerpage/CustomerPage_Unit.jsp?goodsCode=LP0391009&docType=401&saleDate=20240101&pageGubun=prdt\n"
     ]
    },
    {
     "name": "stderr",
     "output_type": "stream",
     "text": [
      "2024-12-12 20:59:24,150 - INFO - PDF 뷰어 URL: https://pcms.samsunglife.com/partnerpage/CustomerPage_Unit.jsp?goodsCode=LP0391009&docType=301&saleDate=20240101&pageGubun=prdt\n",
      "2024-12-12 20:59:24 - MainThread - INFO - get_pdf_view_url - PDF 뷰어 URL: https://pcms.samsunglife.com/partnerpage/CustomerPage_Unit.jsp?goodsCode=LP0391009&docType=301&saleDate=20240101&pageGubun=prdt\n",
      "2024-12-12 20:59:24,154 - INFO - 약관 - 파일이 이미 존재합니다: LP0391009_301_20240101_약관.pdf\n",
      "2024-12-12 20:59:24 - MainThread - INFO - download_pdf - 약관 - 파일이 이미 존재합니다: LP0391009_301_20240101_약관.pdf\n"
     ]
    },
    {
     "name": "stdout",
     "output_type": "stream",
     "text": [
      "PDF 뷰어 URL: https://pcms.samsunglife.com/partnerpage/CustomerPage_Unit.jsp?goodsCode=LP0391009&docType=301&saleDate=20240101&pageGubun=prdt\n",
      "PDF 뷰어 링크(a태그)가 없는 셀입니다.\n"
     ]
    },
    {
     "name": "stderr",
     "output_type": "stream",
     "text": [
      "2024-12-12 20:59:35,393 - INFO - PDF 뷰어 URL: https://pcms.samsunglife.com/partnerpage/CustomerPage_Unit.jsp?goodsCode=LP0391008&docType=401&saleDate=20230101&pageGubun=prdt\n",
      "2024-12-12 20:59:35 - MainThread - INFO - get_pdf_view_url - PDF 뷰어 URL: https://pcms.samsunglife.com/partnerpage/CustomerPage_Unit.jsp?goodsCode=LP0391008&docType=401&saleDate=20230101&pageGubun=prdt\n",
      "2024-12-12 20:59:35,397 - INFO - 방법서 - 파일이 이미 존재합니다: LP0391008_401_20230101_방법서.pdf\n",
      "2024-12-12 20:59:35 - MainThread - INFO - download_pdf - 방법서 - 파일이 이미 존재합니다: LP0391008_401_20230101_방법서.pdf\n"
     ]
    },
    {
     "name": "stdout",
     "output_type": "stream",
     "text": [
      "PDF 뷰어 URL: https://pcms.samsunglife.com/partnerpage/CustomerPage_Unit.jsp?goodsCode=LP0391008&docType=401&saleDate=20230101&pageGubun=prdt\n"
     ]
    },
    {
     "name": "stderr",
     "output_type": "stream",
     "text": [
      "2024-12-12 20:59:36,562 - INFO - PDF 뷰어 URL: https://pcms.samsunglife.com/partnerpage/CustomerPage_Unit.jsp?goodsCode=LP0391008&docType=301&saleDate=20230101&pageGubun=prdt\n",
      "2024-12-12 20:59:36 - MainThread - INFO - get_pdf_view_url - PDF 뷰어 URL: https://pcms.samsunglife.com/partnerpage/CustomerPage_Unit.jsp?goodsCode=LP0391008&docType=301&saleDate=20230101&pageGubun=prdt\n",
      "2024-12-12 20:59:36,566 - INFO - 약관 - 파일이 이미 존재합니다: LP0391008_301_20230101_약관.pdf\n",
      "2024-12-12 20:59:36 - MainThread - INFO - download_pdf - 약관 - 파일이 이미 존재합니다: LP0391008_301_20230101_약관.pdf\n"
     ]
    },
    {
     "name": "stdout",
     "output_type": "stream",
     "text": [
      "PDF 뷰어 URL: https://pcms.samsunglife.com/partnerpage/CustomerPage_Unit.jsp?goodsCode=LP0391008&docType=301&saleDate=20230101&pageGubun=prdt\n",
      "PDF 뷰어 링크(a태그)가 없는 셀입니다.\n"
     ]
    },
    {
     "name": "stderr",
     "output_type": "stream",
     "text": [
      "2024-12-12 20:59:47,755 - INFO - PDF 뷰어 URL: https://pcms.samsunglife.com/partnerpage/CustomerPage_Unit.jsp?goodsCode=LP0392009&docType=401&saleDate=20240101&pageGubun=prdt\n",
      "2024-12-12 20:59:47 - MainThread - INFO - get_pdf_view_url - PDF 뷰어 URL: https://pcms.samsunglife.com/partnerpage/CustomerPage_Unit.jsp?goodsCode=LP0392009&docType=401&saleDate=20240101&pageGubun=prdt\n",
      "2024-12-12 20:59:47,761 - INFO - 방법서 - 파일이 이미 존재합니다: LP0392009_401_20240101_방법서.pdf\n",
      "2024-12-12 20:59:47 - MainThread - INFO - download_pdf - 방법서 - 파일이 이미 존재합니다: LP0392009_401_20240101_방법서.pdf\n"
     ]
    },
    {
     "name": "stdout",
     "output_type": "stream",
     "text": [
      "PDF 뷰어 URL: https://pcms.samsunglife.com/partnerpage/CustomerPage_Unit.jsp?goodsCode=LP0392009&docType=401&saleDate=20240101&pageGubun=prdt\n"
     ]
    },
    {
     "name": "stderr",
     "output_type": "stream",
     "text": [
      "2024-12-12 20:59:48,912 - INFO - PDF 뷰어 URL: https://pcms.samsunglife.com/partnerpage/CustomerPage_Unit.jsp?goodsCode=LP0392009&docType=301&saleDate=20240101&pageGubun=prdt\n",
      "2024-12-12 20:59:48 - MainThread - INFO - get_pdf_view_url - PDF 뷰어 URL: https://pcms.samsunglife.com/partnerpage/CustomerPage_Unit.jsp?goodsCode=LP0392009&docType=301&saleDate=20240101&pageGubun=prdt\n",
      "2024-12-12 20:59:48,917 - INFO - 약관 - 파일이 이미 존재합니다: LP0392009_301_20240101_약관.pdf\n",
      "2024-12-12 20:59:48 - MainThread - INFO - download_pdf - 약관 - 파일이 이미 존재합니다: LP0392009_301_20240101_약관.pdf\n"
     ]
    },
    {
     "name": "stdout",
     "output_type": "stream",
     "text": [
      "PDF 뷰어 URL: https://pcms.samsunglife.com/partnerpage/CustomerPage_Unit.jsp?goodsCode=LP0392009&docType=301&saleDate=20240101&pageGubun=prdt\n",
      "PDF 뷰어 링크(a태그)가 없는 셀입니다.\n"
     ]
    },
    {
     "name": "stderr",
     "output_type": "stream",
     "text": [
      "2024-12-12 21:00:00,116 - INFO - PDF 뷰어 URL: https://pcms.samsunglife.com/partnerpage/CustomerPage_Unit.jsp?goodsCode=LP0392008&docType=401&saleDate=20230101&pageGubun=prdt\n",
      "2024-12-12 21:00:00 - MainThread - INFO - get_pdf_view_url - PDF 뷰어 URL: https://pcms.samsunglife.com/partnerpage/CustomerPage_Unit.jsp?goodsCode=LP0392008&docType=401&saleDate=20230101&pageGubun=prdt\n",
      "2024-12-12 21:00:00,120 - INFO - 방법서 - 파일이 이미 존재합니다: LP0392008_401_20230101_방법서.pdf\n",
      "2024-12-12 21:00:00 - MainThread - INFO - download_pdf - 방법서 - 파일이 이미 존재합니다: LP0392008_401_20230101_방법서.pdf\n"
     ]
    },
    {
     "name": "stdout",
     "output_type": "stream",
     "text": [
      "PDF 뷰어 URL: https://pcms.samsunglife.com/partnerpage/CustomerPage_Unit.jsp?goodsCode=LP0392008&docType=401&saleDate=20230101&pageGubun=prdt\n"
     ]
    },
    {
     "name": "stderr",
     "output_type": "stream",
     "text": [
      "2024-12-12 21:00:01,256 - INFO - PDF 뷰어 URL: https://pcms.samsunglife.com/partnerpage/CustomerPage_Unit.jsp?goodsCode=LP0392008&docType=301&saleDate=20230101&pageGubun=prdt\n",
      "2024-12-12 21:00:01 - MainThread - INFO - get_pdf_view_url - PDF 뷰어 URL: https://pcms.samsunglife.com/partnerpage/CustomerPage_Unit.jsp?goodsCode=LP0392008&docType=301&saleDate=20230101&pageGubun=prdt\n",
      "2024-12-12 21:00:01,262 - INFO - 약관 - 파일이 이미 존재합니다: LP0392008_301_20230101_약관.pdf\n",
      "2024-12-12 21:00:01 - MainThread - INFO - download_pdf - 약관 - 파일이 이미 존재합니다: LP0392008_301_20230101_약관.pdf\n"
     ]
    },
    {
     "name": "stdout",
     "output_type": "stream",
     "text": [
      "PDF 뷰어 URL: https://pcms.samsunglife.com/partnerpage/CustomerPage_Unit.jsp?goodsCode=LP0392008&docType=301&saleDate=20230101&pageGubun=prdt\n",
      "PDF 뷰어 링크(a태그)가 없는 셀입니다.\n"
     ]
    },
    {
     "name": "stderr",
     "output_type": "stream",
     "text": [
      "2024-12-12 21:00:12,521 - INFO - PDF 뷰어 URL: https://pcms.samsunglife.com/partnerpage/CustomerPage_Unit.jsp?goodsCode=LP0392005&docType=401&saleDate=20200401&pageGubun=prdt\n",
      "2024-12-12 21:00:12 - MainThread - INFO - get_pdf_view_url - PDF 뷰어 URL: https://pcms.samsunglife.com/partnerpage/CustomerPage_Unit.jsp?goodsCode=LP0392005&docType=401&saleDate=20200401&pageGubun=prdt\n",
      "2024-12-12 21:00:12,526 - INFO - 방법서 - 파일이 이미 존재합니다: LP0392005_401_20200401_방법서.pdf\n",
      "2024-12-12 21:00:12 - MainThread - INFO - download_pdf - 방법서 - 파일이 이미 존재합니다: LP0392005_401_20200401_방법서.pdf\n"
     ]
    },
    {
     "name": "stdout",
     "output_type": "stream",
     "text": [
      "PDF 뷰어 URL: https://pcms.samsunglife.com/partnerpage/CustomerPage_Unit.jsp?goodsCode=LP0392005&docType=401&saleDate=20200401&pageGubun=prdt\n"
     ]
    },
    {
     "name": "stderr",
     "output_type": "stream",
     "text": [
      "2024-12-12 21:00:13,713 - INFO - PDF 뷰어 URL: https://pcms.samsunglife.com/partnerpage/CustomerPage_Unit.jsp?goodsCode=LP0392005&docType=301&saleDate=20200401&pageGubun=prdt\n",
      "2024-12-12 21:00:13 - MainThread - INFO - get_pdf_view_url - PDF 뷰어 URL: https://pcms.samsunglife.com/partnerpage/CustomerPage_Unit.jsp?goodsCode=LP0392005&docType=301&saleDate=20200401&pageGubun=prdt\n",
      "2024-12-12 21:00:13,716 - INFO - 약관 - 파일이 이미 존재합니다: LP0392005_301_20200401_약관.pdf\n",
      "2024-12-12 21:00:13 - MainThread - INFO - download_pdf - 약관 - 파일이 이미 존재합니다: LP0392005_301_20200401_약관.pdf\n"
     ]
    },
    {
     "name": "stdout",
     "output_type": "stream",
     "text": [
      "PDF 뷰어 URL: https://pcms.samsunglife.com/partnerpage/CustomerPage_Unit.jsp?goodsCode=LP0392005&docType=301&saleDate=20200401&pageGubun=prdt\n"
     ]
    },
    {
     "name": "stderr",
     "output_type": "stream",
     "text": [
      "2024-12-12 21:00:14,893 - INFO - PDF 뷰어 URL: https://pcms.samsunglife.com/partnerpage/CustomerPage_Unit.jsp?goodsCode=LP06870025N02AB021&docType=101&saleDate=20241202&pageGubun=prdt\n",
      "2024-12-12 21:00:14 - MainThread - INFO - get_pdf_view_url - PDF 뷰어 URL: https://pcms.samsunglife.com/partnerpage/CustomerPage_Unit.jsp?goodsCode=LP06870025N02AB021&docType=101&saleDate=20241202&pageGubun=prdt\n",
      "2024-12-12 21:00:14,898 - INFO - 요약서 - 파일이 이미 존재합니다: LP06870025N02AB021_101_20241202_요약서.pdf\n",
      "2024-12-12 21:00:14 - MainThread - INFO - download_pdf - 요약서 - 파일이 이미 존재합니다: LP06870025N02AB021_101_20241202_요약서.pdf\n"
     ]
    },
    {
     "name": "stdout",
     "output_type": "stream",
     "text": [
      "PDF 뷰어 URL: https://pcms.samsunglife.com/partnerpage/CustomerPage_Unit.jsp?goodsCode=LP06870025N02AB021&docType=101&saleDate=20241202&pageGubun=prdt\n"
     ]
    },
    {
     "name": "stderr",
     "output_type": "stream",
     "text": [
      "2024-12-12 21:00:16,041 - INFO - PDF 뷰어 URL: https://pcms.samsunglife.com/partnerpage/CustomerPage_Unit.jsp?goodsCode=LP06870025N02AB021&docType=401&saleDate=20241202&pageGubun=prdt\n",
      "2024-12-12 21:00:16 - MainThread - INFO - get_pdf_view_url - PDF 뷰어 URL: https://pcms.samsunglife.com/partnerpage/CustomerPage_Unit.jsp?goodsCode=LP06870025N02AB021&docType=401&saleDate=20241202&pageGubun=prdt\n",
      "2024-12-12 21:00:16,046 - INFO - 방법서 - 파일이 이미 존재합니다: LP06870025N02AB021_401_20241202_방법서.pdf\n",
      "2024-12-12 21:00:16 - MainThread - INFO - download_pdf - 방법서 - 파일이 이미 존재합니다: LP06870025N02AB021_401_20241202_방법서.pdf\n"
     ]
    },
    {
     "name": "stdout",
     "output_type": "stream",
     "text": [
      "PDF 뷰어 URL: https://pcms.samsunglife.com/partnerpage/CustomerPage_Unit.jsp?goodsCode=LP06870025N02AB021&docType=401&saleDate=20241202&pageGubun=prdt\n"
     ]
    },
    {
     "name": "stderr",
     "output_type": "stream",
     "text": [
      "2024-12-12 21:00:17,197 - INFO - PDF 뷰어 URL: https://pcms.samsunglife.com/partnerpage/CustomerPage_Unit.jsp?goodsCode=LP06870025N02AB021&docType=301&saleDate=20241202&pageGubun=prdt\n",
      "2024-12-12 21:00:17 - MainThread - INFO - get_pdf_view_url - PDF 뷰어 URL: https://pcms.samsunglife.com/partnerpage/CustomerPage_Unit.jsp?goodsCode=LP06870025N02AB021&docType=301&saleDate=20241202&pageGubun=prdt\n",
      "2024-12-12 21:00:17,201 - INFO - 약관 - 파일이 이미 존재합니다: LP06870025N02AB021_301_20241202_약관.pdf\n",
      "2024-12-12 21:00:17 - MainThread - INFO - download_pdf - 약관 - 파일이 이미 존재합니다: LP06870025N02AB021_301_20241202_약관.pdf\n"
     ]
    },
    {
     "name": "stdout",
     "output_type": "stream",
     "text": [
      "PDF 뷰어 URL: https://pcms.samsunglife.com/partnerpage/CustomerPage_Unit.jsp?goodsCode=LP06870025N02AB021&docType=301&saleDate=20241202&pageGubun=prdt\n"
     ]
    },
    {
     "name": "stderr",
     "output_type": "stream",
     "text": [
      "2024-12-12 21:00:18,410 - INFO - PDF 뷰어 URL: https://pcms.samsunglife.com/partnerpage/CustomerPage_Unit.jsp?goodsCode=LP06870025N02AB021&docType=101&saleDate=20241118&pageGubun=prdt\n",
      "2024-12-12 21:00:18 - MainThread - INFO - get_pdf_view_url - PDF 뷰어 URL: https://pcms.samsunglife.com/partnerpage/CustomerPage_Unit.jsp?goodsCode=LP06870025N02AB021&docType=101&saleDate=20241118&pageGubun=prdt\n",
      "2024-12-12 21:00:18,415 - INFO - 요약서 - 파일이 이미 존재합니다: LP06870025N02AB021_101_20241118_요약서.pdf\n",
      "2024-12-12 21:00:18 - MainThread - INFO - download_pdf - 요약서 - 파일이 이미 존재합니다: LP06870025N02AB021_101_20241118_요약서.pdf\n"
     ]
    },
    {
     "name": "stdout",
     "output_type": "stream",
     "text": [
      "PDF 뷰어 URL: https://pcms.samsunglife.com/partnerpage/CustomerPage_Unit.jsp?goodsCode=LP06870025N02AB021&docType=101&saleDate=20241118&pageGubun=prdt\n"
     ]
    },
    {
     "name": "stderr",
     "output_type": "stream",
     "text": [
      "2024-12-12 21:00:19,562 - INFO - PDF 뷰어 URL: https://pcms.samsunglife.com/partnerpage/CustomerPage_Unit.jsp?goodsCode=LP06870025N02AB021&docType=401&saleDate=20241118&pageGubun=prdt\n",
      "2024-12-12 21:00:19 - MainThread - INFO - get_pdf_view_url - PDF 뷰어 URL: https://pcms.samsunglife.com/partnerpage/CustomerPage_Unit.jsp?goodsCode=LP06870025N02AB021&docType=401&saleDate=20241118&pageGubun=prdt\n",
      "2024-12-12 21:00:19,566 - INFO - 방법서 - 파일이 이미 존재합니다: LP06870025N02AB021_401_20241118_방법서.pdf\n",
      "2024-12-12 21:00:19 - MainThread - INFO - download_pdf - 방법서 - 파일이 이미 존재합니다: LP06870025N02AB021_401_20241118_방법서.pdf\n"
     ]
    },
    {
     "name": "stdout",
     "output_type": "stream",
     "text": [
      "PDF 뷰어 URL: https://pcms.samsunglife.com/partnerpage/CustomerPage_Unit.jsp?goodsCode=LP06870025N02AB021&docType=401&saleDate=20241118&pageGubun=prdt\n"
     ]
    },
    {
     "name": "stderr",
     "output_type": "stream",
     "text": [
      "2024-12-12 21:00:20,726 - INFO - PDF 뷰어 URL: https://pcms.samsunglife.com/partnerpage/CustomerPage_Unit.jsp?goodsCode=LP06870025N02AB021&docType=301&saleDate=20241118&pageGubun=prdt\n",
      "2024-12-12 21:00:20 - MainThread - INFO - get_pdf_view_url - PDF 뷰어 URL: https://pcms.samsunglife.com/partnerpage/CustomerPage_Unit.jsp?goodsCode=LP06870025N02AB021&docType=301&saleDate=20241118&pageGubun=prdt\n",
      "2024-12-12 21:00:20,730 - INFO - 약관 - 파일이 이미 존재합니다: LP06870025N02AB021_301_20241118_약관.pdf\n",
      "2024-12-12 21:00:20 - MainThread - INFO - download_pdf - 약관 - 파일이 이미 존재합니다: LP06870025N02AB021_301_20241118_약관.pdf\n"
     ]
    },
    {
     "name": "stdout",
     "output_type": "stream",
     "text": [
      "PDF 뷰어 URL: https://pcms.samsunglife.com/partnerpage/CustomerPage_Unit.jsp?goodsCode=LP06870025N02AB021&docType=301&saleDate=20241118&pageGubun=prdt\n"
     ]
    },
    {
     "name": "stderr",
     "output_type": "stream",
     "text": [
      "2024-12-12 21:00:21,945 - INFO - PDF 뷰어 URL: https://pcms.samsunglife.com/partnerpage/CustomerPage_Unit.jsp?goodsCode=LP06870025N02AB021&docType=101&saleDate=20241016&pageGubun=prdt\n",
      "2024-12-12 21:00:21 - MainThread - INFO - get_pdf_view_url - PDF 뷰어 URL: https://pcms.samsunglife.com/partnerpage/CustomerPage_Unit.jsp?goodsCode=LP06870025N02AB021&docType=101&saleDate=20241016&pageGubun=prdt\n",
      "2024-12-12 21:00:21,949 - INFO - 요약서 - 파일이 이미 존재합니다: LP06870025N02AB021_101_20241016_요약서.pdf\n",
      "2024-12-12 21:00:21 - MainThread - INFO - download_pdf - 요약서 - 파일이 이미 존재합니다: LP06870025N02AB021_101_20241016_요약서.pdf\n"
     ]
    },
    {
     "name": "stdout",
     "output_type": "stream",
     "text": [
      "PDF 뷰어 URL: https://pcms.samsunglife.com/partnerpage/CustomerPage_Unit.jsp?goodsCode=LP06870025N02AB021&docType=101&saleDate=20241016&pageGubun=prdt\n"
     ]
    },
    {
     "name": "stderr",
     "output_type": "stream",
     "text": [
      "2024-12-12 21:00:23,093 - INFO - PDF 뷰어 URL: https://pcms.samsunglife.com/partnerpage/CustomerPage_Unit.jsp?goodsCode=LP06870025N02AB021&docType=401&saleDate=20241016&pageGubun=prdt\n",
      "2024-12-12 21:00:23 - MainThread - INFO - get_pdf_view_url - PDF 뷰어 URL: https://pcms.samsunglife.com/partnerpage/CustomerPage_Unit.jsp?goodsCode=LP06870025N02AB021&docType=401&saleDate=20241016&pageGubun=prdt\n",
      "2024-12-12 21:00:23,097 - INFO - 방법서 - 파일이 이미 존재합니다: LP06870025N02AB021_401_20241016_방법서.pdf\n",
      "2024-12-12 21:00:23 - MainThread - INFO - download_pdf - 방법서 - 파일이 이미 존재합니다: LP06870025N02AB021_401_20241016_방법서.pdf\n"
     ]
    },
    {
     "name": "stdout",
     "output_type": "stream",
     "text": [
      "PDF 뷰어 URL: https://pcms.samsunglife.com/partnerpage/CustomerPage_Unit.jsp?goodsCode=LP06870025N02AB021&docType=401&saleDate=20241016&pageGubun=prdt\n"
     ]
    },
    {
     "name": "stderr",
     "output_type": "stream",
     "text": [
      "2024-12-12 21:00:24,253 - INFO - PDF 뷰어 URL: https://pcms.samsunglife.com/partnerpage/CustomerPage_Unit.jsp?goodsCode=LP06870025N02AB021&docType=301&saleDate=20241016&pageGubun=prdt\n",
      "2024-12-12 21:00:24 - MainThread - INFO - get_pdf_view_url - PDF 뷰어 URL: https://pcms.samsunglife.com/partnerpage/CustomerPage_Unit.jsp?goodsCode=LP06870025N02AB021&docType=301&saleDate=20241016&pageGubun=prdt\n",
      "2024-12-12 21:00:24,258 - INFO - 약관 - 파일이 이미 존재합니다: LP06870025N02AB021_301_20241016_약관.pdf\n",
      "2024-12-12 21:00:24 - MainThread - INFO - download_pdf - 약관 - 파일이 이미 존재합니다: LP06870025N02AB021_301_20241016_약관.pdf\n"
     ]
    },
    {
     "name": "stdout",
     "output_type": "stream",
     "text": [
      "PDF 뷰어 URL: https://pcms.samsunglife.com/partnerpage/CustomerPage_Unit.jsp?goodsCode=LP06870025N02AB021&docType=301&saleDate=20241016&pageGubun=prdt\n"
     ]
    },
    {
     "name": "stderr",
     "output_type": "stream",
     "text": [
      "2024-12-12 21:00:25,479 - INFO - PDF 뷰어 URL: https://pcms.samsunglife.com/partnerpage/CustomerPage_Unit.jsp?goodsCode=LP06870025N02AB021&docType=101&saleDate=20241002&pageGubun=prdt\n",
      "2024-12-12 21:00:25 - MainThread - INFO - get_pdf_view_url - PDF 뷰어 URL: https://pcms.samsunglife.com/partnerpage/CustomerPage_Unit.jsp?goodsCode=LP06870025N02AB021&docType=101&saleDate=20241002&pageGubun=prdt\n",
      "2024-12-12 21:00:25,483 - INFO - 요약서 - 파일이 이미 존재합니다: LP06870025N02AB021_101_20241002_요약서.pdf\n",
      "2024-12-12 21:00:25 - MainThread - INFO - download_pdf - 요약서 - 파일이 이미 존재합니다: LP06870025N02AB021_101_20241002_요약서.pdf\n"
     ]
    },
    {
     "name": "stdout",
     "output_type": "stream",
     "text": [
      "PDF 뷰어 URL: https://pcms.samsunglife.com/partnerpage/CustomerPage_Unit.jsp?goodsCode=LP06870025N02AB021&docType=101&saleDate=20241002&pageGubun=prdt\n"
     ]
    },
    {
     "name": "stderr",
     "output_type": "stream",
     "text": [
      "2024-12-12 21:00:26,620 - INFO - PDF 뷰어 URL: https://pcms.samsunglife.com/partnerpage/CustomerPage_Unit.jsp?goodsCode=LP06870025N02AB021&docType=401&saleDate=20241002&pageGubun=prdt\n",
      "2024-12-12 21:00:26 - MainThread - INFO - get_pdf_view_url - PDF 뷰어 URL: https://pcms.samsunglife.com/partnerpage/CustomerPage_Unit.jsp?goodsCode=LP06870025N02AB021&docType=401&saleDate=20241002&pageGubun=prdt\n",
      "2024-12-12 21:00:26,626 - INFO - 방법서 - 파일이 이미 존재합니다: LP06870025N02AB021_401_20241002_방법서.pdf\n",
      "2024-12-12 21:00:26 - MainThread - INFO - download_pdf - 방법서 - 파일이 이미 존재합니다: LP06870025N02AB021_401_20241002_방법서.pdf\n"
     ]
    },
    {
     "name": "stdout",
     "output_type": "stream",
     "text": [
      "PDF 뷰어 URL: https://pcms.samsunglife.com/partnerpage/CustomerPage_Unit.jsp?goodsCode=LP06870025N02AB021&docType=401&saleDate=20241002&pageGubun=prdt\n"
     ]
    },
    {
     "name": "stderr",
     "output_type": "stream",
     "text": [
      "2024-12-12 21:00:27,760 - INFO - PDF 뷰어 URL: https://pcms.samsunglife.com/partnerpage/CustomerPage_Unit.jsp?goodsCode=LP06870025N02AB021&docType=301&saleDate=20241002&pageGubun=prdt\n",
      "2024-12-12 21:00:27 - MainThread - INFO - get_pdf_view_url - PDF 뷰어 URL: https://pcms.samsunglife.com/partnerpage/CustomerPage_Unit.jsp?goodsCode=LP06870025N02AB021&docType=301&saleDate=20241002&pageGubun=prdt\n",
      "2024-12-12 21:00:27,766 - INFO - 약관 - 파일이 이미 존재합니다: LP06870025N02AB021_301_20241002_약관.pdf\n",
      "2024-12-12 21:00:27 - MainThread - INFO - download_pdf - 약관 - 파일이 이미 존재합니다: LP06870025N02AB021_301_20241002_약관.pdf\n"
     ]
    },
    {
     "name": "stdout",
     "output_type": "stream",
     "text": [
      "PDF 뷰어 URL: https://pcms.samsunglife.com/partnerpage/CustomerPage_Unit.jsp?goodsCode=LP06870025N02AB021&docType=301&saleDate=20241002&pageGubun=prdt\n"
     ]
    },
    {
     "name": "stderr",
     "output_type": "stream",
     "text": [
      "2024-12-12 21:00:29,060 - INFO - PDF 뷰어 URL: https://pcms.samsunglife.com/partnerpage/CustomerPage_Unit.jsp?goodsCode=LP06870025N02AB021&docType=101&saleDate=20240919&pageGubun=prdt\n",
      "2024-12-12 21:00:29 - MainThread - INFO - get_pdf_view_url - PDF 뷰어 URL: https://pcms.samsunglife.com/partnerpage/CustomerPage_Unit.jsp?goodsCode=LP06870025N02AB021&docType=101&saleDate=20240919&pageGubun=prdt\n",
      "2024-12-12 21:00:29,064 - INFO - 요약서 - 파일이 이미 존재합니다: LP06870025N02AB021_101_20240919_요약서.pdf\n",
      "2024-12-12 21:00:29 - MainThread - INFO - download_pdf - 요약서 - 파일이 이미 존재합니다: LP06870025N02AB021_101_20240919_요약서.pdf\n"
     ]
    },
    {
     "name": "stdout",
     "output_type": "stream",
     "text": [
      "PDF 뷰어 URL: https://pcms.samsunglife.com/partnerpage/CustomerPage_Unit.jsp?goodsCode=LP06870025N02AB021&docType=101&saleDate=20240919&pageGubun=prdt\n"
     ]
    },
    {
     "name": "stderr",
     "output_type": "stream",
     "text": [
      "2024-12-12 21:00:30,200 - INFO - PDF 뷰어 URL: https://pcms.samsunglife.com/partnerpage/CustomerPage_Unit.jsp?goodsCode=LP06870025N02AB021&docType=401&saleDate=20240919&pageGubun=prdt\n",
      "2024-12-12 21:00:30 - MainThread - INFO - get_pdf_view_url - PDF 뷰어 URL: https://pcms.samsunglife.com/partnerpage/CustomerPage_Unit.jsp?goodsCode=LP06870025N02AB021&docType=401&saleDate=20240919&pageGubun=prdt\n",
      "2024-12-12 21:00:30,205 - INFO - 방법서 - 파일이 이미 존재합니다: LP06870025N02AB021_401_20240919_방법서.pdf\n",
      "2024-12-12 21:00:30 - MainThread - INFO - download_pdf - 방법서 - 파일이 이미 존재합니다: LP06870025N02AB021_401_20240919_방법서.pdf\n"
     ]
    },
    {
     "name": "stdout",
     "output_type": "stream",
     "text": [
      "PDF 뷰어 URL: https://pcms.samsunglife.com/partnerpage/CustomerPage_Unit.jsp?goodsCode=LP06870025N02AB021&docType=401&saleDate=20240919&pageGubun=prdt\n"
     ]
    },
    {
     "name": "stderr",
     "output_type": "stream",
     "text": [
      "2024-12-12 21:00:31,351 - INFO - PDF 뷰어 URL: https://pcms.samsunglife.com/partnerpage/CustomerPage_Unit.jsp?goodsCode=LP06870025N02AB021&docType=301&saleDate=20240919&pageGubun=prdt\n",
      "2024-12-12 21:00:31 - MainThread - INFO - get_pdf_view_url - PDF 뷰어 URL: https://pcms.samsunglife.com/partnerpage/CustomerPage_Unit.jsp?goodsCode=LP06870025N02AB021&docType=301&saleDate=20240919&pageGubun=prdt\n",
      "2024-12-12 21:00:31,355 - INFO - 약관 - 파일이 이미 존재합니다: LP06870025N02AB021_301_20240919_약관.pdf\n",
      "2024-12-12 21:00:31 - MainThread - INFO - download_pdf - 약관 - 파일이 이미 존재합니다: LP06870025N02AB021_301_20240919_약관.pdf\n",
      "2024-12-12 21:00:31,441 - INFO - 현재 페이지: 3 페이지 수집완료...\n",
      "2024-12-12 21:00:31 - MainThread - INFO - scrape_samsung_life_products - 현재 페이지: 3 페이지 수집완료...\n"
     ]
    },
    {
     "name": "stdout",
     "output_type": "stream",
     "text": [
      "PDF 뷰어 URL: https://pcms.samsunglife.com/partnerpage/CustomerPage_Unit.jsp?goodsCode=LP06870025N02AB021&docType=301&saleDate=20240919&pageGubun=prdt\n"
     ]
    },
    {
     "name": "stderr",
     "output_type": "stream",
     "text": [
      "2024-12-12 21:00:33,530 - INFO - 현재 페이지에서 10개의 행을 찾았습니다.\n",
      "2024-12-12 21:00:33 - MainThread - INFO - scrape_samsung_life_products - 현재 페이지에서 10개의 행을 찾았습니다.\n",
      "2024-12-12 21:00:34,689 - INFO - PDF 뷰어 URL: https://pcms.samsunglife.com/partnerpage/CustomerPage_Unit.jsp?goodsCode=LP06870025N02AB021&docType=101&saleDate=20240816&pageGubun=prdt\n",
      "2024-12-12 21:00:34 - MainThread - INFO - get_pdf_view_url - PDF 뷰어 URL: https://pcms.samsunglife.com/partnerpage/CustomerPage_Unit.jsp?goodsCode=LP06870025N02AB021&docType=101&saleDate=20240816&pageGubun=prdt\n",
      "2024-12-12 21:00:34,694 - INFO - 요약서 - 파일이 이미 존재합니다: LP06870025N02AB021_101_20240816_요약서.pdf\n",
      "2024-12-12 21:00:34 - MainThread - INFO - download_pdf - 요약서 - 파일이 이미 존재합니다: LP06870025N02AB021_101_20240816_요약서.pdf\n"
     ]
    },
    {
     "name": "stdout",
     "output_type": "stream",
     "text": [
      "PDF 뷰어 URL: https://pcms.samsunglife.com/partnerpage/CustomerPage_Unit.jsp?goodsCode=LP06870025N02AB021&docType=101&saleDate=20240816&pageGubun=prdt\n"
     ]
    },
    {
     "name": "stderr",
     "output_type": "stream",
     "text": [
      "2024-12-12 21:00:35,832 - INFO - PDF 뷰어 URL: https://pcms.samsunglife.com/partnerpage/CustomerPage_Unit.jsp?goodsCode=LP06870025N02AB021&docType=401&saleDate=20240816&pageGubun=prdt\n",
      "2024-12-12 21:00:35 - MainThread - INFO - get_pdf_view_url - PDF 뷰어 URL: https://pcms.samsunglife.com/partnerpage/CustomerPage_Unit.jsp?goodsCode=LP06870025N02AB021&docType=401&saleDate=20240816&pageGubun=prdt\n",
      "2024-12-12 21:00:35,836 - INFO - 방법서 - 파일이 이미 존재합니다: LP06870025N02AB021_401_20240816_방법서.pdf\n",
      "2024-12-12 21:00:35 - MainThread - INFO - download_pdf - 방법서 - 파일이 이미 존재합니다: LP06870025N02AB021_401_20240816_방법서.pdf\n"
     ]
    },
    {
     "name": "stdout",
     "output_type": "stream",
     "text": [
      "PDF 뷰어 URL: https://pcms.samsunglife.com/partnerpage/CustomerPage_Unit.jsp?goodsCode=LP06870025N02AB021&docType=401&saleDate=20240816&pageGubun=prdt\n"
     ]
    },
    {
     "name": "stderr",
     "output_type": "stream",
     "text": [
      "2024-12-12 21:00:36,980 - INFO - PDF 뷰어 URL: https://pcms.samsunglife.com/partnerpage/CustomerPage_Unit.jsp?goodsCode=LP06870025N02AB021&docType=301&saleDate=20240816&pageGubun=prdt\n",
      "2024-12-12 21:00:36 - MainThread - INFO - get_pdf_view_url - PDF 뷰어 URL: https://pcms.samsunglife.com/partnerpage/CustomerPage_Unit.jsp?goodsCode=LP06870025N02AB021&docType=301&saleDate=20240816&pageGubun=prdt\n",
      "2024-12-12 21:00:36,984 - INFO - 약관 - 파일이 이미 존재합니다: LP06870025N02AB021_301_20240816_약관.pdf\n",
      "2024-12-12 21:00:36 - MainThread - INFO - download_pdf - 약관 - 파일이 이미 존재합니다: LP06870025N02AB021_301_20240816_약관.pdf\n"
     ]
    },
    {
     "name": "stdout",
     "output_type": "stream",
     "text": [
      "PDF 뷰어 URL: https://pcms.samsunglife.com/partnerpage/CustomerPage_Unit.jsp?goodsCode=LP06870025N02AB021&docType=301&saleDate=20240816&pageGubun=prdt\n"
     ]
    },
    {
     "name": "stderr",
     "output_type": "stream",
     "text": [
      "2024-12-12 21:00:38,193 - INFO - PDF 뷰어 URL: https://pcms.samsunglife.com/partnerpage/CustomerPage_Unit.jsp?goodsCode=LP06870025N02AB021&docType=101&saleDate=20240801&pageGubun=prdt\n",
      "2024-12-12 21:00:38 - MainThread - INFO - get_pdf_view_url - PDF 뷰어 URL: https://pcms.samsunglife.com/partnerpage/CustomerPage_Unit.jsp?goodsCode=LP06870025N02AB021&docType=101&saleDate=20240801&pageGubun=prdt\n",
      "2024-12-12 21:00:38,200 - INFO - 요약서 - 파일이 이미 존재합니다: LP06870025N02AB021_101_20240801_요약서.pdf\n",
      "2024-12-12 21:00:38 - MainThread - INFO - download_pdf - 요약서 - 파일이 이미 존재합니다: LP06870025N02AB021_101_20240801_요약서.pdf\n"
     ]
    },
    {
     "name": "stdout",
     "output_type": "stream",
     "text": [
      "PDF 뷰어 URL: https://pcms.samsunglife.com/partnerpage/CustomerPage_Unit.jsp?goodsCode=LP06870025N02AB021&docType=101&saleDate=20240801&pageGubun=prdt\n"
     ]
    },
    {
     "name": "stderr",
     "output_type": "stream",
     "text": [
      "2024-12-12 21:00:39,344 - INFO - PDF 뷰어 URL: https://pcms.samsunglife.com/partnerpage/CustomerPage_Unit.jsp?goodsCode=LP06870025N02AB021&docType=401&saleDate=20240801&pageGubun=prdt\n",
      "2024-12-12 21:00:39 - MainThread - INFO - get_pdf_view_url - PDF 뷰어 URL: https://pcms.samsunglife.com/partnerpage/CustomerPage_Unit.jsp?goodsCode=LP06870025N02AB021&docType=401&saleDate=20240801&pageGubun=prdt\n",
      "2024-12-12 21:00:39,349 - INFO - 방법서 - 파일이 이미 존재합니다: LP06870025N02AB021_401_20240801_방법서.pdf\n",
      "2024-12-12 21:00:39 - MainThread - INFO - download_pdf - 방법서 - 파일이 이미 존재합니다: LP06870025N02AB021_401_20240801_방법서.pdf\n"
     ]
    },
    {
     "name": "stdout",
     "output_type": "stream",
     "text": [
      "PDF 뷰어 URL: https://pcms.samsunglife.com/partnerpage/CustomerPage_Unit.jsp?goodsCode=LP06870025N02AB021&docType=401&saleDate=20240801&pageGubun=prdt\n"
     ]
    },
    {
     "name": "stderr",
     "output_type": "stream",
     "text": [
      "2024-12-12 21:00:40,501 - INFO - PDF 뷰어 URL: https://pcms.samsunglife.com/partnerpage/CustomerPage_Unit.jsp?goodsCode=LP06870025N02AB021&docType=301&saleDate=20240801&pageGubun=prdt\n",
      "2024-12-12 21:00:40 - MainThread - INFO - get_pdf_view_url - PDF 뷰어 URL: https://pcms.samsunglife.com/partnerpage/CustomerPage_Unit.jsp?goodsCode=LP06870025N02AB021&docType=301&saleDate=20240801&pageGubun=prdt\n",
      "2024-12-12 21:00:40,504 - INFO - 약관 - 파일이 이미 존재합니다: LP06870025N02AB021_301_20240801_약관.pdf\n",
      "2024-12-12 21:00:40 - MainThread - INFO - download_pdf - 약관 - 파일이 이미 존재합니다: LP06870025N02AB021_301_20240801_약관.pdf\n"
     ]
    },
    {
     "name": "stdout",
     "output_type": "stream",
     "text": [
      "PDF 뷰어 URL: https://pcms.samsunglife.com/partnerpage/CustomerPage_Unit.jsp?goodsCode=LP06870025N02AB021&docType=301&saleDate=20240801&pageGubun=prdt\n"
     ]
    },
    {
     "name": "stderr",
     "output_type": "stream",
     "text": [
      "2024-12-12 21:00:41,694 - INFO - PDF 뷰어 URL: https://pcms.samsunglife.com/partnerpage/CustomerPage_Unit.jsp?goodsCode=LP06870025N02AB021&docType=101&saleDate=20240701&pageGubun=prdt\n",
      "2024-12-12 21:00:41 - MainThread - INFO - get_pdf_view_url - PDF 뷰어 URL: https://pcms.samsunglife.com/partnerpage/CustomerPage_Unit.jsp?goodsCode=LP06870025N02AB021&docType=101&saleDate=20240701&pageGubun=prdt\n",
      "2024-12-12 21:00:41,698 - INFO - 요약서 - 파일이 이미 존재합니다: LP06870025N02AB021_101_20240701_요약서.pdf\n",
      "2024-12-12 21:00:41 - MainThread - INFO - download_pdf - 요약서 - 파일이 이미 존재합니다: LP06870025N02AB021_101_20240701_요약서.pdf\n"
     ]
    },
    {
     "name": "stdout",
     "output_type": "stream",
     "text": [
      "PDF 뷰어 URL: https://pcms.samsunglife.com/partnerpage/CustomerPage_Unit.jsp?goodsCode=LP06870025N02AB021&docType=101&saleDate=20240701&pageGubun=prdt\n"
     ]
    },
    {
     "name": "stderr",
     "output_type": "stream",
     "text": [
      "2024-12-12 21:00:42,831 - INFO - PDF 뷰어 URL: https://pcms.samsunglife.com/partnerpage/CustomerPage_Unit.jsp?goodsCode=LP06870025N02AB021&docType=401&saleDate=20240701&pageGubun=prdt\n",
      "2024-12-12 21:00:42 - MainThread - INFO - get_pdf_view_url - PDF 뷰어 URL: https://pcms.samsunglife.com/partnerpage/CustomerPage_Unit.jsp?goodsCode=LP06870025N02AB021&docType=401&saleDate=20240701&pageGubun=prdt\n",
      "2024-12-12 21:00:42,835 - INFO - 방법서 - 파일이 이미 존재합니다: LP06870025N02AB021_401_20240701_방법서.pdf\n",
      "2024-12-12 21:00:42 - MainThread - INFO - download_pdf - 방법서 - 파일이 이미 존재합니다: LP06870025N02AB021_401_20240701_방법서.pdf\n"
     ]
    },
    {
     "name": "stdout",
     "output_type": "stream",
     "text": [
      "PDF 뷰어 URL: https://pcms.samsunglife.com/partnerpage/CustomerPage_Unit.jsp?goodsCode=LP06870025N02AB021&docType=401&saleDate=20240701&pageGubun=prdt\n"
     ]
    },
    {
     "name": "stderr",
     "output_type": "stream",
     "text": [
      "2024-12-12 21:00:43,974 - INFO - PDF 뷰어 URL: https://pcms.samsunglife.com/partnerpage/CustomerPage_Unit.jsp?goodsCode=LP06870025N02AB021&docType=301&saleDate=20240701&pageGubun=prdt\n",
      "2024-12-12 21:00:43 - MainThread - INFO - get_pdf_view_url - PDF 뷰어 URL: https://pcms.samsunglife.com/partnerpage/CustomerPage_Unit.jsp?goodsCode=LP06870025N02AB021&docType=301&saleDate=20240701&pageGubun=prdt\n",
      "2024-12-12 21:00:43,979 - INFO - 약관 - 파일이 이미 존재합니다: LP06870025N02AB021_301_20240701_약관.pdf\n",
      "2024-12-12 21:00:43 - MainThread - INFO - download_pdf - 약관 - 파일이 이미 존재합니다: LP06870025N02AB021_301_20240701_약관.pdf\n"
     ]
    },
    {
     "name": "stdout",
     "output_type": "stream",
     "text": [
      "PDF 뷰어 URL: https://pcms.samsunglife.com/partnerpage/CustomerPage_Unit.jsp?goodsCode=LP06870025N02AB021&docType=301&saleDate=20240701&pageGubun=prdt\n"
     ]
    },
    {
     "name": "stderr",
     "output_type": "stream",
     "text": [
      "2024-12-12 21:00:45,203 - INFO - PDF 뷰어 URL: https://pcms.samsunglife.com/partnerpage/CustomerPage_Unit.jsp?goodsCode=LP06870025N02AB021&docType=101&saleDate=20240603&pageGubun=prdt\n",
      "2024-12-12 21:00:45 - MainThread - INFO - get_pdf_view_url - PDF 뷰어 URL: https://pcms.samsunglife.com/partnerpage/CustomerPage_Unit.jsp?goodsCode=LP06870025N02AB021&docType=101&saleDate=20240603&pageGubun=prdt\n",
      "2024-12-12 21:00:45,211 - INFO - 요약서 - 파일이 이미 존재합니다: LP06870025N02AB021_101_20240603_요약서.pdf\n",
      "2024-12-12 21:00:45 - MainThread - INFO - download_pdf - 요약서 - 파일이 이미 존재합니다: LP06870025N02AB021_101_20240603_요약서.pdf\n"
     ]
    },
    {
     "name": "stdout",
     "output_type": "stream",
     "text": [
      "PDF 뷰어 URL: https://pcms.samsunglife.com/partnerpage/CustomerPage_Unit.jsp?goodsCode=LP06870025N02AB021&docType=101&saleDate=20240603&pageGubun=prdt\n"
     ]
    },
    {
     "name": "stderr",
     "output_type": "stream",
     "text": [
      "2024-12-12 21:00:46,322 - INFO - PDF 뷰어 URL: https://pcms.samsunglife.com/partnerpage/CustomerPage_Unit.jsp?goodsCode=LP06870025N02AB021&docType=401&saleDate=20240603&pageGubun=prdt\n",
      "2024-12-12 21:00:46 - MainThread - INFO - get_pdf_view_url - PDF 뷰어 URL: https://pcms.samsunglife.com/partnerpage/CustomerPage_Unit.jsp?goodsCode=LP06870025N02AB021&docType=401&saleDate=20240603&pageGubun=prdt\n",
      "2024-12-12 21:00:46,330 - INFO - 방법서 - 파일이 이미 존재합니다: LP06870025N02AB021_401_20240603_방법서.pdf\n",
      "2024-12-12 21:00:46 - MainThread - INFO - download_pdf - 방법서 - 파일이 이미 존재합니다: LP06870025N02AB021_401_20240603_방법서.pdf\n"
     ]
    },
    {
     "name": "stdout",
     "output_type": "stream",
     "text": [
      "PDF 뷰어 URL: https://pcms.samsunglife.com/partnerpage/CustomerPage_Unit.jsp?goodsCode=LP06870025N02AB021&docType=401&saleDate=20240603&pageGubun=prdt\n"
     ]
    },
    {
     "name": "stderr",
     "output_type": "stream",
     "text": [
      "2024-12-12 21:00:47,514 - INFO - PDF 뷰어 URL: https://pcms.samsunglife.com/partnerpage/CustomerPage_Unit.jsp?goodsCode=LP06870025N02AB021&docType=301&saleDate=20240603&pageGubun=prdt\n",
      "2024-12-12 21:00:47 - MainThread - INFO - get_pdf_view_url - PDF 뷰어 URL: https://pcms.samsunglife.com/partnerpage/CustomerPage_Unit.jsp?goodsCode=LP06870025N02AB021&docType=301&saleDate=20240603&pageGubun=prdt\n",
      "2024-12-12 21:00:47,518 - INFO - 약관 - 파일이 이미 존재합니다: LP06870025N02AB021_301_20240603_약관.pdf\n",
      "2024-12-12 21:00:47 - MainThread - INFO - download_pdf - 약관 - 파일이 이미 존재합니다: LP06870025N02AB021_301_20240603_약관.pdf\n"
     ]
    },
    {
     "name": "stdout",
     "output_type": "stream",
     "text": [
      "PDF 뷰어 URL: https://pcms.samsunglife.com/partnerpage/CustomerPage_Unit.jsp?goodsCode=LP06870025N02AB021&docType=301&saleDate=20240603&pageGubun=prdt\n"
     ]
    },
    {
     "name": "stderr",
     "output_type": "stream",
     "text": [
      "2024-12-12 21:00:48,722 - INFO - PDF 뷰어 URL: https://pcms.samsunglife.com/partnerpage/CustomerPage_Unit.jsp?goodsCode=LP06870025N02AB021&docType=101&saleDate=20240401&pageGubun=prdt\n",
      "2024-12-12 21:00:48 - MainThread - INFO - get_pdf_view_url - PDF 뷰어 URL: https://pcms.samsunglife.com/partnerpage/CustomerPage_Unit.jsp?goodsCode=LP06870025N02AB021&docType=101&saleDate=20240401&pageGubun=prdt\n",
      "2024-12-12 21:00:48,727 - INFO - 요약서 - 파일이 이미 존재합니다: LP06870025N02AB021_101_20240401_요약서.pdf\n",
      "2024-12-12 21:00:48 - MainThread - INFO - download_pdf - 요약서 - 파일이 이미 존재합니다: LP06870025N02AB021_101_20240401_요약서.pdf\n"
     ]
    },
    {
     "name": "stdout",
     "output_type": "stream",
     "text": [
      "PDF 뷰어 URL: https://pcms.samsunglife.com/partnerpage/CustomerPage_Unit.jsp?goodsCode=LP06870025N02AB021&docType=101&saleDate=20240401&pageGubun=prdt\n"
     ]
    },
    {
     "name": "stderr",
     "output_type": "stream",
     "text": [
      "2024-12-12 21:00:49,871 - INFO - PDF 뷰어 URL: https://pcms.samsunglife.com/partnerpage/CustomerPage_Unit.jsp?goodsCode=LP06870025N02AB021&docType=401&saleDate=20240401&pageGubun=prdt\n",
      "2024-12-12 21:00:49 - MainThread - INFO - get_pdf_view_url - PDF 뷰어 URL: https://pcms.samsunglife.com/partnerpage/CustomerPage_Unit.jsp?goodsCode=LP06870025N02AB021&docType=401&saleDate=20240401&pageGubun=prdt\n",
      "2024-12-12 21:00:49,877 - INFO - 방법서 - 파일이 이미 존재합니다: LP06870025N02AB021_401_20240401_방법서.pdf\n",
      "2024-12-12 21:00:49 - MainThread - INFO - download_pdf - 방법서 - 파일이 이미 존재합니다: LP06870025N02AB021_401_20240401_방법서.pdf\n"
     ]
    },
    {
     "name": "stdout",
     "output_type": "stream",
     "text": [
      "PDF 뷰어 URL: https://pcms.samsunglife.com/partnerpage/CustomerPage_Unit.jsp?goodsCode=LP06870025N02AB021&docType=401&saleDate=20240401&pageGubun=prdt\n"
     ]
    },
    {
     "name": "stderr",
     "output_type": "stream",
     "text": [
      "2024-12-12 21:00:51,029 - INFO - PDF 뷰어 URL: https://pcms.samsunglife.com/partnerpage/CustomerPage_Unit.jsp?goodsCode=LP06870025N02AB021&docType=301&saleDate=20240401&pageGubun=prdt\n",
      "2024-12-12 21:00:51 - MainThread - INFO - get_pdf_view_url - PDF 뷰어 URL: https://pcms.samsunglife.com/partnerpage/CustomerPage_Unit.jsp?goodsCode=LP06870025N02AB021&docType=301&saleDate=20240401&pageGubun=prdt\n",
      "2024-12-12 21:00:51,034 - INFO - 약관 - 파일이 이미 존재합니다: LP06870025N02AB021_301_20240401_약관.pdf\n",
      "2024-12-12 21:00:51 - MainThread - INFO - download_pdf - 약관 - 파일이 이미 존재합니다: LP06870025N02AB021_301_20240401_약관.pdf\n"
     ]
    },
    {
     "name": "stdout",
     "output_type": "stream",
     "text": [
      "PDF 뷰어 URL: https://pcms.samsunglife.com/partnerpage/CustomerPage_Unit.jsp?goodsCode=LP06870025N02AB021&docType=301&saleDate=20240401&pageGubun=prdt\n"
     ]
    },
    {
     "name": "stderr",
     "output_type": "stream",
     "text": [
      "2024-12-12 21:00:52,374 - INFO - PDF 뷰어 URL: https://pcms.samsunglife.com/partnerpage/CustomerPage_Unit.jsp?goodsCode=LP06890025N021&docType=101&saleDate=20241202&pageGubun=prdt\n",
      "2024-12-12 21:00:52 - MainThread - INFO - get_pdf_view_url - PDF 뷰어 URL: https://pcms.samsunglife.com/partnerpage/CustomerPage_Unit.jsp?goodsCode=LP06890025N021&docType=101&saleDate=20241202&pageGubun=prdt\n",
      "2024-12-12 21:00:52,380 - INFO - 요약서 - 파일이 이미 존재합니다: LP06890025N021_101_20241202_요약서.pdf\n",
      "2024-12-12 21:00:52 - MainThread - INFO - download_pdf - 요약서 - 파일이 이미 존재합니다: LP06890025N021_101_20241202_요약서.pdf\n"
     ]
    },
    {
     "name": "stdout",
     "output_type": "stream",
     "text": [
      "PDF 뷰어 URL: https://pcms.samsunglife.com/partnerpage/CustomerPage_Unit.jsp?goodsCode=LP06890025N021&docType=101&saleDate=20241202&pageGubun=prdt\n"
     ]
    },
    {
     "name": "stderr",
     "output_type": "stream",
     "text": [
      "2024-12-12 21:00:53,572 - INFO - PDF 뷰어 URL: https://pcms.samsunglife.com/partnerpage/CustomerPage_Unit.jsp?goodsCode=LP06890025N021&docType=401&saleDate=20241202&pageGubun=prdt\n",
      "2024-12-12 21:00:53 - MainThread - INFO - get_pdf_view_url - PDF 뷰어 URL: https://pcms.samsunglife.com/partnerpage/CustomerPage_Unit.jsp?goodsCode=LP06890025N021&docType=401&saleDate=20241202&pageGubun=prdt\n",
      "2024-12-12 21:00:53,578 - INFO - 방법서 - 파일이 이미 존재합니다: LP06890025N021_401_20241202_방법서.pdf\n",
      "2024-12-12 21:00:53 - MainThread - INFO - download_pdf - 방법서 - 파일이 이미 존재합니다: LP06890025N021_401_20241202_방법서.pdf\n"
     ]
    },
    {
     "name": "stdout",
     "output_type": "stream",
     "text": [
      "PDF 뷰어 URL: https://pcms.samsunglife.com/partnerpage/CustomerPage_Unit.jsp?goodsCode=LP06890025N021&docType=401&saleDate=20241202&pageGubun=prdt\n"
     ]
    },
    {
     "name": "stderr",
     "output_type": "stream",
     "text": [
      "2024-12-12 21:00:54,725 - INFO - PDF 뷰어 URL: https://pcms.samsunglife.com/partnerpage/CustomerPage_Unit.jsp?goodsCode=LP06890025N021&docType=301&saleDate=20241202&pageGubun=prdt\n",
      "2024-12-12 21:00:54 - MainThread - INFO - get_pdf_view_url - PDF 뷰어 URL: https://pcms.samsunglife.com/partnerpage/CustomerPage_Unit.jsp?goodsCode=LP06890025N021&docType=301&saleDate=20241202&pageGubun=prdt\n",
      "2024-12-12 21:00:54,729 - INFO - 약관 - 파일이 이미 존재합니다: LP06890025N021_301_20241202_약관.pdf\n",
      "2024-12-12 21:00:54 - MainThread - INFO - download_pdf - 약관 - 파일이 이미 존재합니다: LP06890025N021_301_20241202_약관.pdf\n"
     ]
    },
    {
     "name": "stdout",
     "output_type": "stream",
     "text": [
      "PDF 뷰어 URL: https://pcms.samsunglife.com/partnerpage/CustomerPage_Unit.jsp?goodsCode=LP06890025N021&docType=301&saleDate=20241202&pageGubun=prdt\n"
     ]
    },
    {
     "name": "stderr",
     "output_type": "stream",
     "text": [
      "2024-12-12 21:00:55,981 - INFO - PDF 뷰어 URL: https://pcms.samsunglife.com/partnerpage/CustomerPage_Unit.jsp?goodsCode=LP06890025N021&docType=101&saleDate=20241118&pageGubun=prdt\n",
      "2024-12-12 21:00:55 - MainThread - INFO - get_pdf_view_url - PDF 뷰어 URL: https://pcms.samsunglife.com/partnerpage/CustomerPage_Unit.jsp?goodsCode=LP06890025N021&docType=101&saleDate=20241118&pageGubun=prdt\n",
      "2024-12-12 21:00:55,987 - INFO - 요약서 - 파일이 이미 존재합니다: LP06890025N021_101_20241118_요약서.pdf\n",
      "2024-12-12 21:00:55 - MainThread - INFO - download_pdf - 요약서 - 파일이 이미 존재합니다: LP06890025N021_101_20241118_요약서.pdf\n"
     ]
    },
    {
     "name": "stdout",
     "output_type": "stream",
     "text": [
      "PDF 뷰어 URL: https://pcms.samsunglife.com/partnerpage/CustomerPage_Unit.jsp?goodsCode=LP06890025N021&docType=101&saleDate=20241118&pageGubun=prdt\n"
     ]
    },
    {
     "name": "stderr",
     "output_type": "stream",
     "text": [
      "2024-12-12 21:00:57,144 - INFO - PDF 뷰어 URL: https://pcms.samsunglife.com/partnerpage/CustomerPage_Unit.jsp?goodsCode=LP06890025N021&docType=401&saleDate=20241118&pageGubun=prdt\n",
      "2024-12-12 21:00:57 - MainThread - INFO - get_pdf_view_url - PDF 뷰어 URL: https://pcms.samsunglife.com/partnerpage/CustomerPage_Unit.jsp?goodsCode=LP06890025N021&docType=401&saleDate=20241118&pageGubun=prdt\n",
      "2024-12-12 21:00:57,148 - INFO - 방법서 - 파일이 이미 존재합니다: LP06890025N021_401_20241118_방법서.pdf\n",
      "2024-12-12 21:00:57 - MainThread - INFO - download_pdf - 방법서 - 파일이 이미 존재합니다: LP06890025N021_401_20241118_방법서.pdf\n"
     ]
    },
    {
     "name": "stdout",
     "output_type": "stream",
     "text": [
      "PDF 뷰어 URL: https://pcms.samsunglife.com/partnerpage/CustomerPage_Unit.jsp?goodsCode=LP06890025N021&docType=401&saleDate=20241118&pageGubun=prdt\n"
     ]
    },
    {
     "name": "stderr",
     "output_type": "stream",
     "text": [
      "2024-12-12 21:00:58,281 - INFO - PDF 뷰어 URL: https://pcms.samsunglife.com/partnerpage/CustomerPage_Unit.jsp?goodsCode=LP06890025N021&docType=301&saleDate=20241118&pageGubun=prdt\n",
      "2024-12-12 21:00:58 - MainThread - INFO - get_pdf_view_url - PDF 뷰어 URL: https://pcms.samsunglife.com/partnerpage/CustomerPage_Unit.jsp?goodsCode=LP06890025N021&docType=301&saleDate=20241118&pageGubun=prdt\n",
      "2024-12-12 21:00:58,285 - INFO - 약관 - 파일이 이미 존재합니다: LP06890025N021_301_20241118_약관.pdf\n",
      "2024-12-12 21:00:58 - MainThread - INFO - download_pdf - 약관 - 파일이 이미 존재합니다: LP06890025N021_301_20241118_약관.pdf\n"
     ]
    },
    {
     "name": "stdout",
     "output_type": "stream",
     "text": [
      "PDF 뷰어 URL: https://pcms.samsunglife.com/partnerpage/CustomerPage_Unit.jsp?goodsCode=LP06890025N021&docType=301&saleDate=20241118&pageGubun=prdt\n"
     ]
    },
    {
     "name": "stderr",
     "output_type": "stream",
     "text": [
      "2024-12-12 21:00:59,479 - INFO - PDF 뷰어 URL: https://pcms.samsunglife.com/partnerpage/CustomerPage_Unit.jsp?goodsCode=LP06890025N021&docType=101&saleDate=20241016&pageGubun=prdt\n",
      "2024-12-12 21:00:59 - MainThread - INFO - get_pdf_view_url - PDF 뷰어 URL: https://pcms.samsunglife.com/partnerpage/CustomerPage_Unit.jsp?goodsCode=LP06890025N021&docType=101&saleDate=20241016&pageGubun=prdt\n",
      "2024-12-12 21:00:59,484 - INFO - 요약서 - 파일이 이미 존재합니다: LP06890025N021_101_20241016_요약서.pdf\n",
      "2024-12-12 21:00:59 - MainThread - INFO - download_pdf - 요약서 - 파일이 이미 존재합니다: LP06890025N021_101_20241016_요약서.pdf\n"
     ]
    },
    {
     "name": "stdout",
     "output_type": "stream",
     "text": [
      "PDF 뷰어 URL: https://pcms.samsunglife.com/partnerpage/CustomerPage_Unit.jsp?goodsCode=LP06890025N021&docType=101&saleDate=20241016&pageGubun=prdt\n"
     ]
    },
    {
     "name": "stderr",
     "output_type": "stream",
     "text": [
      "2024-12-12 21:01:00,631 - INFO - PDF 뷰어 URL: https://pcms.samsunglife.com/partnerpage/CustomerPage_Unit.jsp?goodsCode=LP06890025N021&docType=401&saleDate=20241016&pageGubun=prdt\n",
      "2024-12-12 21:01:00 - MainThread - INFO - get_pdf_view_url - PDF 뷰어 URL: https://pcms.samsunglife.com/partnerpage/CustomerPage_Unit.jsp?goodsCode=LP06890025N021&docType=401&saleDate=20241016&pageGubun=prdt\n",
      "2024-12-12 21:01:00,635 - INFO - 방법서 - 파일이 이미 존재합니다: LP06890025N021_401_20241016_방법서.pdf\n",
      "2024-12-12 21:01:00 - MainThread - INFO - download_pdf - 방법서 - 파일이 이미 존재합니다: LP06890025N021_401_20241016_방법서.pdf\n"
     ]
    },
    {
     "name": "stdout",
     "output_type": "stream",
     "text": [
      "PDF 뷰어 URL: https://pcms.samsunglife.com/partnerpage/CustomerPage_Unit.jsp?goodsCode=LP06890025N021&docType=401&saleDate=20241016&pageGubun=prdt\n"
     ]
    },
    {
     "name": "stderr",
     "output_type": "stream",
     "text": [
      "2024-12-12 21:01:01,784 - INFO - PDF 뷰어 URL: https://pcms.samsunglife.com/partnerpage/CustomerPage_Unit.jsp?goodsCode=LP06890025N021&docType=301&saleDate=20241016&pageGubun=prdt\n",
      "2024-12-12 21:01:01 - MainThread - INFO - get_pdf_view_url - PDF 뷰어 URL: https://pcms.samsunglife.com/partnerpage/CustomerPage_Unit.jsp?goodsCode=LP06890025N021&docType=301&saleDate=20241016&pageGubun=prdt\n",
      "2024-12-12 21:01:01,789 - INFO - 약관 - 파일이 이미 존재합니다: LP06890025N021_301_20241016_약관.pdf\n",
      "2024-12-12 21:01:01 - MainThread - INFO - download_pdf - 약관 - 파일이 이미 존재합니다: LP06890025N021_301_20241016_약관.pdf\n"
     ]
    },
    {
     "name": "stdout",
     "output_type": "stream",
     "text": [
      "PDF 뷰어 URL: https://pcms.samsunglife.com/partnerpage/CustomerPage_Unit.jsp?goodsCode=LP06890025N021&docType=301&saleDate=20241016&pageGubun=prdt\n"
     ]
    },
    {
     "name": "stderr",
     "output_type": "stream",
     "text": [
      "2024-12-12 21:01:02,983 - INFO - PDF 뷰어 URL: https://pcms.samsunglife.com/partnerpage/CustomerPage_Unit.jsp?goodsCode=LP06890025N021&docType=101&saleDate=20241002&pageGubun=prdt\n",
      "2024-12-12 21:01:02 - MainThread - INFO - get_pdf_view_url - PDF 뷰어 URL: https://pcms.samsunglife.com/partnerpage/CustomerPage_Unit.jsp?goodsCode=LP06890025N021&docType=101&saleDate=20241002&pageGubun=prdt\n",
      "2024-12-12 21:01:02,988 - INFO - 요약서 - 파일이 이미 존재합니다: LP06890025N021_101_20241002_요약서.pdf\n",
      "2024-12-12 21:01:02 - MainThread - INFO - download_pdf - 요약서 - 파일이 이미 존재합니다: LP06890025N021_101_20241002_요약서.pdf\n"
     ]
    },
    {
     "name": "stdout",
     "output_type": "stream",
     "text": [
      "PDF 뷰어 URL: https://pcms.samsunglife.com/partnerpage/CustomerPage_Unit.jsp?goodsCode=LP06890025N021&docType=101&saleDate=20241002&pageGubun=prdt\n"
     ]
    },
    {
     "name": "stderr",
     "output_type": "stream",
     "text": [
      "2024-12-12 21:01:04,178 - INFO - PDF 뷰어 URL: https://pcms.samsunglife.com/partnerpage/CustomerPage_Unit.jsp?goodsCode=LP06890025N021&docType=401&saleDate=20241002&pageGubun=prdt\n",
      "2024-12-12 21:01:04 - MainThread - INFO - get_pdf_view_url - PDF 뷰어 URL: https://pcms.samsunglife.com/partnerpage/CustomerPage_Unit.jsp?goodsCode=LP06890025N021&docType=401&saleDate=20241002&pageGubun=prdt\n",
      "2024-12-12 21:01:04,183 - INFO - 방법서 - 파일이 이미 존재합니다: LP06890025N021_401_20241002_방법서.pdf\n",
      "2024-12-12 21:01:04 - MainThread - INFO - download_pdf - 방법서 - 파일이 이미 존재합니다: LP06890025N021_401_20241002_방법서.pdf\n"
     ]
    },
    {
     "name": "stdout",
     "output_type": "stream",
     "text": [
      "PDF 뷰어 URL: https://pcms.samsunglife.com/partnerpage/CustomerPage_Unit.jsp?goodsCode=LP06890025N021&docType=401&saleDate=20241002&pageGubun=prdt\n"
     ]
    },
    {
     "name": "stderr",
     "output_type": "stream",
     "text": [
      "2024-12-12 21:01:05,328 - INFO - PDF 뷰어 URL: https://pcms.samsunglife.com/partnerpage/CustomerPage_Unit.jsp?goodsCode=LP06890025N021&docType=301&saleDate=20241002&pageGubun=prdt\n",
      "2024-12-12 21:01:05 - MainThread - INFO - get_pdf_view_url - PDF 뷰어 URL: https://pcms.samsunglife.com/partnerpage/CustomerPage_Unit.jsp?goodsCode=LP06890025N021&docType=301&saleDate=20241002&pageGubun=prdt\n",
      "2024-12-12 21:01:05,333 - INFO - 약관 - 파일이 이미 존재합니다: LP06890025N021_301_20241002_약관.pdf\n",
      "2024-12-12 21:01:05 - MainThread - INFO - download_pdf - 약관 - 파일이 이미 존재합니다: LP06890025N021_301_20241002_약관.pdf\n"
     ]
    },
    {
     "name": "stdout",
     "output_type": "stream",
     "text": [
      "PDF 뷰어 URL: https://pcms.samsunglife.com/partnerpage/CustomerPage_Unit.jsp?goodsCode=LP06890025N021&docType=301&saleDate=20241002&pageGubun=prdt\n"
     ]
    },
    {
     "name": "stderr",
     "output_type": "stream",
     "text": [
      "2024-12-12 21:01:06,562 - INFO - PDF 뷰어 URL: https://pcms.samsunglife.com/partnerpage/CustomerPage_Unit.jsp?goodsCode=LP06890025N021&docType=101&saleDate=20240919&pageGubun=prdt\n",
      "2024-12-12 21:01:06 - MainThread - INFO - get_pdf_view_url - PDF 뷰어 URL: https://pcms.samsunglife.com/partnerpage/CustomerPage_Unit.jsp?goodsCode=LP06890025N021&docType=101&saleDate=20240919&pageGubun=prdt\n",
      "2024-12-12 21:01:06,567 - INFO - 요약서 - 파일이 이미 존재합니다: LP06890025N021_101_20240919_요약서.pdf\n",
      "2024-12-12 21:01:06 - MainThread - INFO - download_pdf - 요약서 - 파일이 이미 존재합니다: LP06890025N021_101_20240919_요약서.pdf\n"
     ]
    },
    {
     "name": "stdout",
     "output_type": "stream",
     "text": [
      "PDF 뷰어 URL: https://pcms.samsunglife.com/partnerpage/CustomerPage_Unit.jsp?goodsCode=LP06890025N021&docType=101&saleDate=20240919&pageGubun=prdt\n"
     ]
    },
    {
     "name": "stderr",
     "output_type": "stream",
     "text": [
      "2024-12-12 21:01:07,714 - INFO - PDF 뷰어 URL: https://pcms.samsunglife.com/partnerpage/CustomerPage_Unit.jsp?goodsCode=LP06890025N021&docType=401&saleDate=20240919&pageGubun=prdt\n",
      "2024-12-12 21:01:07 - MainThread - INFO - get_pdf_view_url - PDF 뷰어 URL: https://pcms.samsunglife.com/partnerpage/CustomerPage_Unit.jsp?goodsCode=LP06890025N021&docType=401&saleDate=20240919&pageGubun=prdt\n",
      "2024-12-12 21:01:07,719 - INFO - 방법서 - 파일이 이미 존재합니다: LP06890025N021_401_20240919_방법서.pdf\n",
      "2024-12-12 21:01:07 - MainThread - INFO - download_pdf - 방법서 - 파일이 이미 존재합니다: LP06890025N021_401_20240919_방법서.pdf\n"
     ]
    },
    {
     "name": "stdout",
     "output_type": "stream",
     "text": [
      "PDF 뷰어 URL: https://pcms.samsunglife.com/partnerpage/CustomerPage_Unit.jsp?goodsCode=LP06890025N021&docType=401&saleDate=20240919&pageGubun=prdt\n"
     ]
    },
    {
     "name": "stderr",
     "output_type": "stream",
     "text": [
      "2024-12-12 21:01:08,876 - INFO - PDF 뷰어 URL: https://pcms.samsunglife.com/partnerpage/CustomerPage_Unit.jsp?goodsCode=LP06890025N021&docType=301&saleDate=20240919&pageGubun=prdt\n",
      "2024-12-12 21:01:08 - MainThread - INFO - get_pdf_view_url - PDF 뷰어 URL: https://pcms.samsunglife.com/partnerpage/CustomerPage_Unit.jsp?goodsCode=LP06890025N021&docType=301&saleDate=20240919&pageGubun=prdt\n",
      "2024-12-12 21:01:08,881 - INFO - 약관 - 파일이 이미 존재합니다: LP06890025N021_301_20240919_약관.pdf\n",
      "2024-12-12 21:01:08 - MainThread - INFO - download_pdf - 약관 - 파일이 이미 존재합니다: LP06890025N021_301_20240919_약관.pdf\n",
      "2024-12-12 21:01:08,959 - INFO - 현재 페이지: 4 페이지 수집완료...\n",
      "2024-12-12 21:01:08 - MainThread - INFO - scrape_samsung_life_products - 현재 페이지: 4 페이지 수집완료...\n"
     ]
    },
    {
     "name": "stdout",
     "output_type": "stream",
     "text": [
      "PDF 뷰어 URL: https://pcms.samsunglife.com/partnerpage/CustomerPage_Unit.jsp?goodsCode=LP06890025N021&docType=301&saleDate=20240919&pageGubun=prdt\n"
     ]
    },
    {
     "name": "stderr",
     "output_type": "stream",
     "text": [
      "2024-12-12 21:01:11,039 - INFO - 현재 페이지에서 10개의 행을 찾았습니다.\n",
      "2024-12-12 21:01:11 - MainThread - INFO - scrape_samsung_life_products - 현재 페이지에서 10개의 행을 찾았습니다.\n",
      "2024-12-12 21:01:12,226 - INFO - PDF 뷰어 URL: https://pcms.samsunglife.com/partnerpage/CustomerPage_Unit.jsp?goodsCode=LP06890025N021&docType=101&saleDate=20240816&pageGubun=prdt\n",
      "2024-12-12 21:01:12 - MainThread - INFO - get_pdf_view_url - PDF 뷰어 URL: https://pcms.samsunglife.com/partnerpage/CustomerPage_Unit.jsp?goodsCode=LP06890025N021&docType=101&saleDate=20240816&pageGubun=prdt\n",
      "2024-12-12 21:01:12,230 - INFO - 요약서 - 파일이 이미 존재합니다: LP06890025N021_101_20240816_요약서.pdf\n",
      "2024-12-12 21:01:12 - MainThread - INFO - download_pdf - 요약서 - 파일이 이미 존재합니다: LP06890025N021_101_20240816_요약서.pdf\n"
     ]
    },
    {
     "name": "stdout",
     "output_type": "stream",
     "text": [
      "PDF 뷰어 URL: https://pcms.samsunglife.com/partnerpage/CustomerPage_Unit.jsp?goodsCode=LP06890025N021&docType=101&saleDate=20240816&pageGubun=prdt\n"
     ]
    },
    {
     "name": "stderr",
     "output_type": "stream",
     "text": [
      "2024-12-12 21:01:13,358 - INFO - PDF 뷰어 URL: https://pcms.samsunglife.com/partnerpage/CustomerPage_Unit.jsp?goodsCode=LP06890025N021&docType=401&saleDate=20240816&pageGubun=prdt\n",
      "2024-12-12 21:01:13 - MainThread - INFO - get_pdf_view_url - PDF 뷰어 URL: https://pcms.samsunglife.com/partnerpage/CustomerPage_Unit.jsp?goodsCode=LP06890025N021&docType=401&saleDate=20240816&pageGubun=prdt\n",
      "2024-12-12 21:01:13,362 - INFO - 방법서 - 파일이 이미 존재합니다: LP06890025N021_401_20240816_방법서.pdf\n",
      "2024-12-12 21:01:13 - MainThread - INFO - download_pdf - 방법서 - 파일이 이미 존재합니다: LP06890025N021_401_20240816_방법서.pdf\n"
     ]
    },
    {
     "name": "stdout",
     "output_type": "stream",
     "text": [
      "PDF 뷰어 URL: https://pcms.samsunglife.com/partnerpage/CustomerPage_Unit.jsp?goodsCode=LP06890025N021&docType=401&saleDate=20240816&pageGubun=prdt\n"
     ]
    },
    {
     "name": "stderr",
     "output_type": "stream",
     "text": [
      "2024-12-12 21:01:14,496 - INFO - PDF 뷰어 URL: https://pcms.samsunglife.com/partnerpage/CustomerPage_Unit.jsp?goodsCode=LP06890025N021&docType=301&saleDate=20240816&pageGubun=prdt\n",
      "2024-12-12 21:01:14 - MainThread - INFO - get_pdf_view_url - PDF 뷰어 URL: https://pcms.samsunglife.com/partnerpage/CustomerPage_Unit.jsp?goodsCode=LP06890025N021&docType=301&saleDate=20240816&pageGubun=prdt\n",
      "2024-12-12 21:01:14,500 - INFO - 약관 - 파일이 이미 존재합니다: LP06890025N021_301_20240816_약관.pdf\n",
      "2024-12-12 21:01:14 - MainThread - INFO - download_pdf - 약관 - 파일이 이미 존재합니다: LP06890025N021_301_20240816_약관.pdf\n"
     ]
    },
    {
     "name": "stdout",
     "output_type": "stream",
     "text": [
      "PDF 뷰어 URL: https://pcms.samsunglife.com/partnerpage/CustomerPage_Unit.jsp?goodsCode=LP06890025N021&docType=301&saleDate=20240816&pageGubun=prdt\n"
     ]
    },
    {
     "name": "stderr",
     "output_type": "stream",
     "text": [
      "2024-12-12 21:01:15,692 - INFO - PDF 뷰어 URL: https://pcms.samsunglife.com/partnerpage/CustomerPage_Unit.jsp?goodsCode=LP06890025N021&docType=101&saleDate=20240801&pageGubun=prdt\n",
      "2024-12-12 21:01:15 - MainThread - INFO - get_pdf_view_url - PDF 뷰어 URL: https://pcms.samsunglife.com/partnerpage/CustomerPage_Unit.jsp?goodsCode=LP06890025N021&docType=101&saleDate=20240801&pageGubun=prdt\n",
      "2024-12-12 21:01:15,696 - INFO - 요약서 - 파일이 이미 존재합니다: LP06890025N021_101_20240801_요약서.pdf\n",
      "2024-12-12 21:01:15 - MainThread - INFO - download_pdf - 요약서 - 파일이 이미 존재합니다: LP06890025N021_101_20240801_요약서.pdf\n"
     ]
    },
    {
     "name": "stdout",
     "output_type": "stream",
     "text": [
      "PDF 뷰어 URL: https://pcms.samsunglife.com/partnerpage/CustomerPage_Unit.jsp?goodsCode=LP06890025N021&docType=101&saleDate=20240801&pageGubun=prdt\n"
     ]
    },
    {
     "name": "stderr",
     "output_type": "stream",
     "text": [
      "2024-12-12 21:01:16,874 - INFO - PDF 뷰어 URL: https://pcms.samsunglife.com/partnerpage/CustomerPage_Unit.jsp?goodsCode=LP06890025N021&docType=401&saleDate=20240801&pageGubun=prdt\n",
      "2024-12-12 21:01:16 - MainThread - INFO - get_pdf_view_url - PDF 뷰어 URL: https://pcms.samsunglife.com/partnerpage/CustomerPage_Unit.jsp?goodsCode=LP06890025N021&docType=401&saleDate=20240801&pageGubun=prdt\n",
      "2024-12-12 21:01:16,880 - INFO - 방법서 - 파일이 이미 존재합니다: LP06890025N021_401_20240801_방법서.pdf\n",
      "2024-12-12 21:01:16 - MainThread - INFO - download_pdf - 방법서 - 파일이 이미 존재합니다: LP06890025N021_401_20240801_방법서.pdf\n"
     ]
    },
    {
     "name": "stdout",
     "output_type": "stream",
     "text": [
      "PDF 뷰어 URL: https://pcms.samsunglife.com/partnerpage/CustomerPage_Unit.jsp?goodsCode=LP06890025N021&docType=401&saleDate=20240801&pageGubun=prdt\n"
     ]
    },
    {
     "name": "stderr",
     "output_type": "stream",
     "text": [
      "2024-12-12 21:01:18,024 - INFO - PDF 뷰어 URL: https://pcms.samsunglife.com/partnerpage/CustomerPage_Unit.jsp?goodsCode=LP06890025N021&docType=301&saleDate=20240801&pageGubun=prdt\n",
      "2024-12-12 21:01:18 - MainThread - INFO - get_pdf_view_url - PDF 뷰어 URL: https://pcms.samsunglife.com/partnerpage/CustomerPage_Unit.jsp?goodsCode=LP06890025N021&docType=301&saleDate=20240801&pageGubun=prdt\n",
      "2024-12-12 21:01:18,028 - INFO - 약관 - 파일이 이미 존재합니다: LP06890025N021_301_20240801_약관.pdf\n",
      "2024-12-12 21:01:18 - MainThread - INFO - download_pdf - 약관 - 파일이 이미 존재합니다: LP06890025N021_301_20240801_약관.pdf\n"
     ]
    },
    {
     "name": "stdout",
     "output_type": "stream",
     "text": [
      "PDF 뷰어 URL: https://pcms.samsunglife.com/partnerpage/CustomerPage_Unit.jsp?goodsCode=LP06890025N021&docType=301&saleDate=20240801&pageGubun=prdt\n"
     ]
    },
    {
     "name": "stderr",
     "output_type": "stream",
     "text": [
      "2024-12-12 21:01:19,215 - INFO - PDF 뷰어 URL: https://pcms.samsunglife.com/partnerpage/CustomerPage_Unit.jsp?goodsCode=LP06890025N021&docType=101&saleDate=20240701&pageGubun=prdt\n",
      "2024-12-12 21:01:19 - MainThread - INFO - get_pdf_view_url - PDF 뷰어 URL: https://pcms.samsunglife.com/partnerpage/CustomerPage_Unit.jsp?goodsCode=LP06890025N021&docType=101&saleDate=20240701&pageGubun=prdt\n",
      "2024-12-12 21:01:19,220 - INFO - 요약서 - 파일이 이미 존재합니다: LP06890025N021_101_20240701_요약서.pdf\n",
      "2024-12-12 21:01:19 - MainThread - INFO - download_pdf - 요약서 - 파일이 이미 존재합니다: LP06890025N021_101_20240701_요약서.pdf\n"
     ]
    },
    {
     "name": "stdout",
     "output_type": "stream",
     "text": [
      "PDF 뷰어 URL: https://pcms.samsunglife.com/partnerpage/CustomerPage_Unit.jsp?goodsCode=LP06890025N021&docType=101&saleDate=20240701&pageGubun=prdt\n"
     ]
    },
    {
     "name": "stderr",
     "output_type": "stream",
     "text": [
      "2024-12-12 21:01:20,393 - INFO - PDF 뷰어 URL: https://pcms.samsunglife.com/partnerpage/CustomerPage_Unit.jsp?goodsCode=LP06890025N021&docType=401&saleDate=20240701&pageGubun=prdt\n",
      "2024-12-12 21:01:20 - MainThread - INFO - get_pdf_view_url - PDF 뷰어 URL: https://pcms.samsunglife.com/partnerpage/CustomerPage_Unit.jsp?goodsCode=LP06890025N021&docType=401&saleDate=20240701&pageGubun=prdt\n",
      "2024-12-12 21:01:20,398 - INFO - 방법서 - 파일이 이미 존재합니다: LP06890025N021_401_20240701_방법서.pdf\n",
      "2024-12-12 21:01:20 - MainThread - INFO - download_pdf - 방법서 - 파일이 이미 존재합니다: LP06890025N021_401_20240701_방법서.pdf\n"
     ]
    },
    {
     "name": "stdout",
     "output_type": "stream",
     "text": [
      "PDF 뷰어 URL: https://pcms.samsunglife.com/partnerpage/CustomerPage_Unit.jsp?goodsCode=LP06890025N021&docType=401&saleDate=20240701&pageGubun=prdt\n"
     ]
    },
    {
     "name": "stderr",
     "output_type": "stream",
     "text": [
      "2024-12-12 21:01:21,541 - INFO - PDF 뷰어 URL: https://pcms.samsunglife.com/partnerpage/CustomerPage_Unit.jsp?goodsCode=LP06890025N021&docType=301&saleDate=20240701&pageGubun=prdt\n",
      "2024-12-12 21:01:21 - MainThread - INFO - get_pdf_view_url - PDF 뷰어 URL: https://pcms.samsunglife.com/partnerpage/CustomerPage_Unit.jsp?goodsCode=LP06890025N021&docType=301&saleDate=20240701&pageGubun=prdt\n",
      "2024-12-12 21:01:21,545 - INFO - 약관 - 파일이 이미 존재합니다: LP06890025N021_301_20240701_약관.pdf\n",
      "2024-12-12 21:01:21 - MainThread - INFO - download_pdf - 약관 - 파일이 이미 존재합니다: LP06890025N021_301_20240701_약관.pdf\n"
     ]
    },
    {
     "name": "stdout",
     "output_type": "stream",
     "text": [
      "PDF 뷰어 URL: https://pcms.samsunglife.com/partnerpage/CustomerPage_Unit.jsp?goodsCode=LP06890025N021&docType=301&saleDate=20240701&pageGubun=prdt\n"
     ]
    },
    {
     "name": "stderr",
     "output_type": "stream",
     "text": [
      "2024-12-12 21:01:22,756 - INFO - PDF 뷰어 URL: https://pcms.samsunglife.com/partnerpage/CustomerPage_Unit.jsp?goodsCode=LP06890025N021&docType=101&saleDate=20240603&pageGubun=prdt\n",
      "2024-12-12 21:01:22 - MainThread - INFO - get_pdf_view_url - PDF 뷰어 URL: https://pcms.samsunglife.com/partnerpage/CustomerPage_Unit.jsp?goodsCode=LP06890025N021&docType=101&saleDate=20240603&pageGubun=prdt\n",
      "2024-12-12 21:01:22,762 - INFO - 요약서 - 파일이 이미 존재합니다: LP06890025N021_101_20240603_요약서.pdf\n",
      "2024-12-12 21:01:22 - MainThread - INFO - download_pdf - 요약서 - 파일이 이미 존재합니다: LP06890025N021_101_20240603_요약서.pdf\n"
     ]
    },
    {
     "name": "stdout",
     "output_type": "stream",
     "text": [
      "PDF 뷰어 URL: https://pcms.samsunglife.com/partnerpage/CustomerPage_Unit.jsp?goodsCode=LP06890025N021&docType=101&saleDate=20240603&pageGubun=prdt\n"
     ]
    },
    {
     "name": "stderr",
     "output_type": "stream",
     "text": [
      "2024-12-12 21:01:23,911 - INFO - PDF 뷰어 URL: https://pcms.samsunglife.com/partnerpage/CustomerPage_Unit.jsp?goodsCode=LP06890025N021&docType=401&saleDate=20240603&pageGubun=prdt\n",
      "2024-12-12 21:01:23 - MainThread - INFO - get_pdf_view_url - PDF 뷰어 URL: https://pcms.samsunglife.com/partnerpage/CustomerPage_Unit.jsp?goodsCode=LP06890025N021&docType=401&saleDate=20240603&pageGubun=prdt\n",
      "2024-12-12 21:01:23,914 - INFO - 방법서 - 파일이 이미 존재합니다: LP06890025N021_401_20240603_방법서.pdf\n",
      "2024-12-12 21:01:23 - MainThread - INFO - download_pdf - 방법서 - 파일이 이미 존재합니다: LP06890025N021_401_20240603_방법서.pdf\n"
     ]
    },
    {
     "name": "stdout",
     "output_type": "stream",
     "text": [
      "PDF 뷰어 URL: https://pcms.samsunglife.com/partnerpage/CustomerPage_Unit.jsp?goodsCode=LP06890025N021&docType=401&saleDate=20240603&pageGubun=prdt\n"
     ]
    },
    {
     "name": "stderr",
     "output_type": "stream",
     "text": [
      "2024-12-12 21:01:25,060 - INFO - PDF 뷰어 URL: https://pcms.samsunglife.com/partnerpage/CustomerPage_Unit.jsp?goodsCode=LP06890025N021&docType=301&saleDate=20240603&pageGubun=prdt\n",
      "2024-12-12 21:01:25 - MainThread - INFO - get_pdf_view_url - PDF 뷰어 URL: https://pcms.samsunglife.com/partnerpage/CustomerPage_Unit.jsp?goodsCode=LP06890025N021&docType=301&saleDate=20240603&pageGubun=prdt\n",
      "2024-12-12 21:01:25,064 - INFO - 약관 - 파일이 이미 존재합니다: LP06890025N021_301_20240603_약관.pdf\n",
      "2024-12-12 21:01:25 - MainThread - INFO - download_pdf - 약관 - 파일이 이미 존재합니다: LP06890025N021_301_20240603_약관.pdf\n"
     ]
    },
    {
     "name": "stdout",
     "output_type": "stream",
     "text": [
      "PDF 뷰어 URL: https://pcms.samsunglife.com/partnerpage/CustomerPage_Unit.jsp?goodsCode=LP06890025N021&docType=301&saleDate=20240603&pageGubun=prdt\n"
     ]
    },
    {
     "name": "stderr",
     "output_type": "stream",
     "text": [
      "2024-12-12 21:01:26,249 - INFO - PDF 뷰어 URL: https://pcms.samsunglife.com/partnerpage/CustomerPage_Unit.jsp?goodsCode=LP06890025N021&docType=101&saleDate=20240401&pageGubun=prdt\n",
      "2024-12-12 21:01:26 - MainThread - INFO - get_pdf_view_url - PDF 뷰어 URL: https://pcms.samsunglife.com/partnerpage/CustomerPage_Unit.jsp?goodsCode=LP06890025N021&docType=101&saleDate=20240401&pageGubun=prdt\n",
      "2024-12-12 21:01:26,254 - INFO - 요약서 - 파일이 이미 존재합니다: LP06890025N021_101_20240401_요약서.pdf\n",
      "2024-12-12 21:01:26 - MainThread - INFO - download_pdf - 요약서 - 파일이 이미 존재합니다: LP06890025N021_101_20240401_요약서.pdf\n"
     ]
    },
    {
     "name": "stdout",
     "output_type": "stream",
     "text": [
      "PDF 뷰어 URL: https://pcms.samsunglife.com/partnerpage/CustomerPage_Unit.jsp?goodsCode=LP06890025N021&docType=101&saleDate=20240401&pageGubun=prdt\n"
     ]
    },
    {
     "name": "stderr",
     "output_type": "stream",
     "text": [
      "2024-12-12 21:01:27,398 - INFO - PDF 뷰어 URL: https://pcms.samsunglife.com/partnerpage/CustomerPage_Unit.jsp?goodsCode=LP06890025N021&docType=401&saleDate=20240401&pageGubun=prdt\n",
      "2024-12-12 21:01:27 - MainThread - INFO - get_pdf_view_url - PDF 뷰어 URL: https://pcms.samsunglife.com/partnerpage/CustomerPage_Unit.jsp?goodsCode=LP06890025N021&docType=401&saleDate=20240401&pageGubun=prdt\n",
      "2024-12-12 21:01:27,401 - INFO - 방법서 - 파일이 이미 존재합니다: LP06890025N021_401_20240401_방법서.pdf\n",
      "2024-12-12 21:01:27 - MainThread - INFO - download_pdf - 방법서 - 파일이 이미 존재합니다: LP06890025N021_401_20240401_방법서.pdf\n"
     ]
    },
    {
     "name": "stdout",
     "output_type": "stream",
     "text": [
      "PDF 뷰어 URL: https://pcms.samsunglife.com/partnerpage/CustomerPage_Unit.jsp?goodsCode=LP06890025N021&docType=401&saleDate=20240401&pageGubun=prdt\n"
     ]
    },
    {
     "name": "stderr",
     "output_type": "stream",
     "text": [
      "2024-12-12 21:01:28,550 - INFO - PDF 뷰어 URL: https://pcms.samsunglife.com/partnerpage/CustomerPage_Unit.jsp?goodsCode=LP06890025N021&docType=301&saleDate=20240401&pageGubun=prdt\n",
      "2024-12-12 21:01:28 - MainThread - INFO - get_pdf_view_url - PDF 뷰어 URL: https://pcms.samsunglife.com/partnerpage/CustomerPage_Unit.jsp?goodsCode=LP06890025N021&docType=301&saleDate=20240401&pageGubun=prdt\n",
      "2024-12-12 21:01:28,554 - INFO - 약관 - 파일이 이미 존재합니다: LP06890025N021_301_20240401_약관.pdf\n",
      "2024-12-12 21:01:28 - MainThread - INFO - download_pdf - 약관 - 파일이 이미 존재합니다: LP06890025N021_301_20240401_약관.pdf\n"
     ]
    },
    {
     "name": "stdout",
     "output_type": "stream",
     "text": [
      "PDF 뷰어 URL: https://pcms.samsunglife.com/partnerpage/CustomerPage_Unit.jsp?goodsCode=LP06890025N021&docType=301&saleDate=20240401&pageGubun=prdt\n"
     ]
    },
    {
     "name": "stderr",
     "output_type": "stream",
     "text": [
      "2024-12-12 21:01:29,810 - INFO - PDF 뷰어 URL: https://pcms.samsunglife.com/partnerpage/CustomerPage_Unit.jsp?goodsCode=LP0649002AS01&docType=101&saleDate=20240923&pageGubun=prdt\n",
      "2024-12-12 21:01:29 - MainThread - INFO - get_pdf_view_url - PDF 뷰어 URL: https://pcms.samsunglife.com/partnerpage/CustomerPage_Unit.jsp?goodsCode=LP0649002AS01&docType=101&saleDate=20240923&pageGubun=prdt\n",
      "2024-12-12 21:01:29,815 - INFO - 요약서 - 파일이 이미 존재합니다: LP0649002AS01_101_20240923_요약서.pdf\n",
      "2024-12-12 21:01:29 - MainThread - INFO - download_pdf - 요약서 - 파일이 이미 존재합니다: LP0649002AS01_101_20240923_요약서.pdf\n"
     ]
    },
    {
     "name": "stdout",
     "output_type": "stream",
     "text": [
      "PDF 뷰어 URL: https://pcms.samsunglife.com/partnerpage/CustomerPage_Unit.jsp?goodsCode=LP0649002AS01&docType=101&saleDate=20240923&pageGubun=prdt\n"
     ]
    },
    {
     "name": "stderr",
     "output_type": "stream",
     "text": [
      "2024-12-12 21:01:30,965 - INFO - PDF 뷰어 URL: https://pcms.samsunglife.com/partnerpage/CustomerPage_Unit.jsp?goodsCode=LP0649002AS01&docType=401&saleDate=20240923&pageGubun=prdt\n",
      "2024-12-12 21:01:30 - MainThread - INFO - get_pdf_view_url - PDF 뷰어 URL: https://pcms.samsunglife.com/partnerpage/CustomerPage_Unit.jsp?goodsCode=LP0649002AS01&docType=401&saleDate=20240923&pageGubun=prdt\n",
      "2024-12-12 21:01:30,968 - INFO - 방법서 - 파일이 이미 존재합니다: LP0649002AS01_401_20240923_방법서.pdf\n",
      "2024-12-12 21:01:30 - MainThread - INFO - download_pdf - 방법서 - 파일이 이미 존재합니다: LP0649002AS01_401_20240923_방법서.pdf\n"
     ]
    },
    {
     "name": "stdout",
     "output_type": "stream",
     "text": [
      "PDF 뷰어 URL: https://pcms.samsunglife.com/partnerpage/CustomerPage_Unit.jsp?goodsCode=LP0649002AS01&docType=401&saleDate=20240923&pageGubun=prdt\n"
     ]
    },
    {
     "name": "stderr",
     "output_type": "stream",
     "text": [
      "2024-12-12 21:01:32,108 - INFO - PDF 뷰어 URL: https://pcms.samsunglife.com/partnerpage/CustomerPage_Unit.jsp?goodsCode=LP0649002AS01&docType=301&saleDate=20240923&pageGubun=prdt\n",
      "2024-12-12 21:01:32 - MainThread - INFO - get_pdf_view_url - PDF 뷰어 URL: https://pcms.samsunglife.com/partnerpage/CustomerPage_Unit.jsp?goodsCode=LP0649002AS01&docType=301&saleDate=20240923&pageGubun=prdt\n",
      "2024-12-12 21:01:32,112 - INFO - 약관 - 파일이 이미 존재합니다: LP0649002AS01_301_20240923_약관.pdf\n",
      "2024-12-12 21:01:32 - MainThread - INFO - download_pdf - 약관 - 파일이 이미 존재합니다: LP0649002AS01_301_20240923_약관.pdf\n"
     ]
    },
    {
     "name": "stdout",
     "output_type": "stream",
     "text": [
      "PDF 뷰어 URL: https://pcms.samsunglife.com/partnerpage/CustomerPage_Unit.jsp?goodsCode=LP0649002AS01&docType=301&saleDate=20240923&pageGubun=prdt\n"
     ]
    },
    {
     "name": "stderr",
     "output_type": "stream",
     "text": [
      "2024-12-12 21:01:33,346 - INFO - PDF 뷰어 URL: https://pcms.samsunglife.com/partnerpage/CustomerPage_Unit.jsp?goodsCode=LP0649002AS01&docType=101&saleDate=20240401&pageGubun=prdt\n",
      "2024-12-12 21:01:33 - MainThread - INFO - get_pdf_view_url - PDF 뷰어 URL: https://pcms.samsunglife.com/partnerpage/CustomerPage_Unit.jsp?goodsCode=LP0649002AS01&docType=101&saleDate=20240401&pageGubun=prdt\n",
      "2024-12-12 21:01:33,350 - INFO - 요약서 - 파일이 이미 존재합니다: LP0649002AS01_101_20240401_요약서.pdf\n",
      "2024-12-12 21:01:33 - MainThread - INFO - download_pdf - 요약서 - 파일이 이미 존재합니다: LP0649002AS01_101_20240401_요약서.pdf\n"
     ]
    },
    {
     "name": "stdout",
     "output_type": "stream",
     "text": [
      "PDF 뷰어 URL: https://pcms.samsunglife.com/partnerpage/CustomerPage_Unit.jsp?goodsCode=LP0649002AS01&docType=101&saleDate=20240401&pageGubun=prdt\n"
     ]
    },
    {
     "name": "stderr",
     "output_type": "stream",
     "text": [
      "2024-12-12 21:01:34,499 - INFO - PDF 뷰어 URL: https://pcms.samsunglife.com/partnerpage/CustomerPage_Unit.jsp?goodsCode=LP0649002AS01&docType=401&saleDate=20240401&pageGubun=prdt\n",
      "2024-12-12 21:01:34 - MainThread - INFO - get_pdf_view_url - PDF 뷰어 URL: https://pcms.samsunglife.com/partnerpage/CustomerPage_Unit.jsp?goodsCode=LP0649002AS01&docType=401&saleDate=20240401&pageGubun=prdt\n",
      "2024-12-12 21:01:34,503 - INFO - 방법서 - 파일이 이미 존재합니다: LP0649002AS01_401_20240401_방법서.pdf\n",
      "2024-12-12 21:01:34 - MainThread - INFO - download_pdf - 방법서 - 파일이 이미 존재합니다: LP0649002AS01_401_20240401_방법서.pdf\n"
     ]
    },
    {
     "name": "stdout",
     "output_type": "stream",
     "text": [
      "PDF 뷰어 URL: https://pcms.samsunglife.com/partnerpage/CustomerPage_Unit.jsp?goodsCode=LP0649002AS01&docType=401&saleDate=20240401&pageGubun=prdt\n"
     ]
    },
    {
     "name": "stderr",
     "output_type": "stream",
     "text": [
      "2024-12-12 21:01:35,654 - INFO - PDF 뷰어 URL: https://pcms.samsunglife.com/partnerpage/CustomerPage_Unit.jsp?goodsCode=LP0649002AS01&docType=301&saleDate=20240401&pageGubun=prdt\n",
      "2024-12-12 21:01:35 - MainThread - INFO - get_pdf_view_url - PDF 뷰어 URL: https://pcms.samsunglife.com/partnerpage/CustomerPage_Unit.jsp?goodsCode=LP0649002AS01&docType=301&saleDate=20240401&pageGubun=prdt\n",
      "2024-12-12 21:01:35,659 - INFO - 약관 - 파일이 이미 존재합니다: LP0649002AS01_301_20240401_약관.pdf\n",
      "2024-12-12 21:01:35 - MainThread - INFO - download_pdf - 약관 - 파일이 이미 존재합니다: LP0649002AS01_301_20240401_약관.pdf\n"
     ]
    },
    {
     "name": "stdout",
     "output_type": "stream",
     "text": [
      "PDF 뷰어 URL: https://pcms.samsunglife.com/partnerpage/CustomerPage_Unit.jsp?goodsCode=LP0649002AS01&docType=301&saleDate=20240401&pageGubun=prdt\n"
     ]
    },
    {
     "name": "stderr",
     "output_type": "stream",
     "text": [
      "2024-12-12 21:01:36,843 - INFO - PDF 뷰어 URL: https://pcms.samsunglife.com/partnerpage/CustomerPage_Unit.jsp?goodsCode=LP07490015N03AB02&docType=101&saleDate=20240522&pageGubun=prdt\n",
      "2024-12-12 21:01:36 - MainThread - INFO - get_pdf_view_url - PDF 뷰어 URL: https://pcms.samsunglife.com/partnerpage/CustomerPage_Unit.jsp?goodsCode=LP07490015N03AB02&docType=101&saleDate=20240522&pageGubun=prdt\n",
      "2024-12-12 21:01:36,848 - INFO - 요약서 - 파일이 이미 존재합니다: LP07490015N03AB02_101_20240522_요약서.pdf\n",
      "2024-12-12 21:01:36 - MainThread - INFO - download_pdf - 요약서 - 파일이 이미 존재합니다: LP07490015N03AB02_101_20240522_요약서.pdf\n"
     ]
    },
    {
     "name": "stdout",
     "output_type": "stream",
     "text": [
      "PDF 뷰어 URL: https://pcms.samsunglife.com/partnerpage/CustomerPage_Unit.jsp?goodsCode=LP07490015N03AB02&docType=101&saleDate=20240522&pageGubun=prdt\n"
     ]
    },
    {
     "name": "stderr",
     "output_type": "stream",
     "text": [
      "2024-12-12 21:01:37,993 - INFO - PDF 뷰어 URL: https://pcms.samsunglife.com/partnerpage/CustomerPage_Unit.jsp?goodsCode=LP07490015N03AB02&docType=401&saleDate=20240522&pageGubun=prdt\n",
      "2024-12-12 21:01:37 - MainThread - INFO - get_pdf_view_url - PDF 뷰어 URL: https://pcms.samsunglife.com/partnerpage/CustomerPage_Unit.jsp?goodsCode=LP07490015N03AB02&docType=401&saleDate=20240522&pageGubun=prdt\n",
      "2024-12-12 21:01:37,997 - INFO - 방법서 - 파일이 이미 존재합니다: LP07490015N03AB02_401_20240522_방법서.pdf\n",
      "2024-12-12 21:01:37 - MainThread - INFO - download_pdf - 방법서 - 파일이 이미 존재합니다: LP07490015N03AB02_401_20240522_방법서.pdf\n"
     ]
    },
    {
     "name": "stdout",
     "output_type": "stream",
     "text": [
      "PDF 뷰어 URL: https://pcms.samsunglife.com/partnerpage/CustomerPage_Unit.jsp?goodsCode=LP07490015N03AB02&docType=401&saleDate=20240522&pageGubun=prdt\n"
     ]
    },
    {
     "name": "stderr",
     "output_type": "stream",
     "text": [
      "2024-12-12 21:01:39,127 - INFO - PDF 뷰어 URL: https://pcms.samsunglife.com/partnerpage/CustomerPage_Unit.jsp?goodsCode=LP07490015N03AB02&docType=301&saleDate=20240522&pageGubun=prdt\n",
      "2024-12-12 21:01:39 - MainThread - INFO - get_pdf_view_url - PDF 뷰어 URL: https://pcms.samsunglife.com/partnerpage/CustomerPage_Unit.jsp?goodsCode=LP07490015N03AB02&docType=301&saleDate=20240522&pageGubun=prdt\n",
      "2024-12-12 21:01:39,130 - INFO - 약관 - 파일이 이미 존재합니다: LP07490015N03AB02_301_20240522_약관.pdf\n",
      "2024-12-12 21:01:39 - MainThread - INFO - download_pdf - 약관 - 파일이 이미 존재합니다: LP07490015N03AB02_301_20240522_약관.pdf\n"
     ]
    },
    {
     "name": "stdout",
     "output_type": "stream",
     "text": [
      "PDF 뷰어 URL: https://pcms.samsunglife.com/partnerpage/CustomerPage_Unit.jsp?goodsCode=LP07490015N03AB02&docType=301&saleDate=20240522&pageGubun=prdt\n"
     ]
    },
    {
     "name": "stderr",
     "output_type": "stream",
     "text": [
      "2024-12-12 21:01:40,412 - INFO - PDF 뷰어 URL: https://pcms.samsunglife.com/partnerpage/CustomerPage_Unit.jsp?goodsCode=LP0753002AB01&docType=101&saleDate=20241121&pageGubun=prdt\n",
      "2024-12-12 21:01:40 - MainThread - INFO - get_pdf_view_url - PDF 뷰어 URL: https://pcms.samsunglife.com/partnerpage/CustomerPage_Unit.jsp?goodsCode=LP0753002AB01&docType=101&saleDate=20241121&pageGubun=prdt\n",
      "2024-12-12 21:01:40,415 - INFO - 요약서 - 파일이 이미 존재합니다: LP0753002AB01_101_20241121_요약서.pdf\n",
      "2024-12-12 21:01:40 - MainThread - INFO - download_pdf - 요약서 - 파일이 이미 존재합니다: LP0753002AB01_101_20241121_요약서.pdf\n"
     ]
    },
    {
     "name": "stdout",
     "output_type": "stream",
     "text": [
      "PDF 뷰어 URL: https://pcms.samsunglife.com/partnerpage/CustomerPage_Unit.jsp?goodsCode=LP0753002AB01&docType=101&saleDate=20241121&pageGubun=prdt\n"
     ]
    },
    {
     "name": "stderr",
     "output_type": "stream",
     "text": [
      "2024-12-12 21:01:41,555 - INFO - PDF 뷰어 URL: https://pcms.samsunglife.com/partnerpage/CustomerPage_Unit.jsp?goodsCode=LP0753002AB01&docType=401&saleDate=20241121&pageGubun=prdt\n",
      "2024-12-12 21:01:41 - MainThread - INFO - get_pdf_view_url - PDF 뷰어 URL: https://pcms.samsunglife.com/partnerpage/CustomerPage_Unit.jsp?goodsCode=LP0753002AB01&docType=401&saleDate=20241121&pageGubun=prdt\n",
      "2024-12-12 21:01:41,562 - INFO - 방법서 - 파일이 이미 존재합니다: LP0753002AB01_401_20241121_방법서.pdf\n",
      "2024-12-12 21:01:41 - MainThread - INFO - download_pdf - 방법서 - 파일이 이미 존재합니다: LP0753002AB01_401_20241121_방법서.pdf\n"
     ]
    },
    {
     "name": "stdout",
     "output_type": "stream",
     "text": [
      "PDF 뷰어 URL: https://pcms.samsunglife.com/partnerpage/CustomerPage_Unit.jsp?goodsCode=LP0753002AB01&docType=401&saleDate=20241121&pageGubun=prdt\n"
     ]
    },
    {
     "name": "stderr",
     "output_type": "stream",
     "text": [
      "2024-12-12 21:01:42,701 - INFO - PDF 뷰어 URL: https://pcms.samsunglife.com/partnerpage/CustomerPage_Unit.jsp?goodsCode=LP0753002AB01&docType=301&saleDate=20241121&pageGubun=prdt\n",
      "2024-12-12 21:01:42 - MainThread - INFO - get_pdf_view_url - PDF 뷰어 URL: https://pcms.samsunglife.com/partnerpage/CustomerPage_Unit.jsp?goodsCode=LP0753002AB01&docType=301&saleDate=20241121&pageGubun=prdt\n",
      "2024-12-12 21:01:42,706 - INFO - 약관 - 파일이 이미 존재합니다: LP0753002AB01_301_20241121_약관.pdf\n",
      "2024-12-12 21:01:42 - MainThread - INFO - download_pdf - 약관 - 파일이 이미 존재합니다: LP0753002AB01_301_20241121_약관.pdf\n"
     ]
    },
    {
     "name": "stdout",
     "output_type": "stream",
     "text": [
      "PDF 뷰어 URL: https://pcms.samsunglife.com/partnerpage/CustomerPage_Unit.jsp?goodsCode=LP0753002AB01&docType=301&saleDate=20241121&pageGubun=prdt\n"
     ]
    },
    {
     "name": "stderr",
     "output_type": "stream",
     "text": [
      "2024-12-12 21:01:43,899 - INFO - PDF 뷰어 URL: https://pcms.samsunglife.com/partnerpage/CustomerPage_Unit.jsp?goodsCode=LP0755001AB01&docType=101&saleDate=20241121&pageGubun=prdt\n",
      "2024-12-12 21:01:43 - MainThread - INFO - get_pdf_view_url - PDF 뷰어 URL: https://pcms.samsunglife.com/partnerpage/CustomerPage_Unit.jsp?goodsCode=LP0755001AB01&docType=101&saleDate=20241121&pageGubun=prdt\n",
      "2024-12-12 21:01:43,902 - INFO - 요약서 - 파일이 이미 존재합니다: LP0755001AB01_101_20241121_요약서.pdf\n",
      "2024-12-12 21:01:43 - MainThread - INFO - download_pdf - 요약서 - 파일이 이미 존재합니다: LP0755001AB01_101_20241121_요약서.pdf\n"
     ]
    },
    {
     "name": "stdout",
     "output_type": "stream",
     "text": [
      "PDF 뷰어 URL: https://pcms.samsunglife.com/partnerpage/CustomerPage_Unit.jsp?goodsCode=LP0755001AB01&docType=101&saleDate=20241121&pageGubun=prdt\n"
     ]
    },
    {
     "name": "stderr",
     "output_type": "stream",
     "text": [
      "2024-12-12 21:01:45,052 - INFO - PDF 뷰어 URL: https://pcms.samsunglife.com/partnerpage/CustomerPage_Unit.jsp?goodsCode=LP0755001AB01&docType=401&saleDate=20241121&pageGubun=prdt\n",
      "2024-12-12 21:01:45 - MainThread - INFO - get_pdf_view_url - PDF 뷰어 URL: https://pcms.samsunglife.com/partnerpage/CustomerPage_Unit.jsp?goodsCode=LP0755001AB01&docType=401&saleDate=20241121&pageGubun=prdt\n",
      "2024-12-12 21:01:45,057 - INFO - 방법서 - 파일이 이미 존재합니다: LP0755001AB01_401_20241121_방법서.pdf\n",
      "2024-12-12 21:01:45 - MainThread - INFO - download_pdf - 방법서 - 파일이 이미 존재합니다: LP0755001AB01_401_20241121_방법서.pdf\n"
     ]
    },
    {
     "name": "stdout",
     "output_type": "stream",
     "text": [
      "PDF 뷰어 URL: https://pcms.samsunglife.com/partnerpage/CustomerPage_Unit.jsp?goodsCode=LP0755001AB01&docType=401&saleDate=20241121&pageGubun=prdt\n"
     ]
    },
    {
     "name": "stderr",
     "output_type": "stream",
     "text": [
      "2024-12-12 21:01:46,200 - INFO - PDF 뷰어 URL: https://pcms.samsunglife.com/partnerpage/CustomerPage_Unit.jsp?goodsCode=LP0755001AB01&docType=301&saleDate=20241121&pageGubun=prdt\n",
      "2024-12-12 21:01:46 - MainThread - INFO - get_pdf_view_url - PDF 뷰어 URL: https://pcms.samsunglife.com/partnerpage/CustomerPage_Unit.jsp?goodsCode=LP0755001AB01&docType=301&saleDate=20241121&pageGubun=prdt\n",
      "2024-12-12 21:01:46,205 - INFO - 약관 - 파일이 이미 존재합니다: LP0755001AB01_301_20241121_약관.pdf\n",
      "2024-12-12 21:01:46 - MainThread - INFO - download_pdf - 약관 - 파일이 이미 존재합니다: LP0755001AB01_301_20241121_약관.pdf\n",
      "2024-12-12 21:01:46,290 - INFO - 현재 페이지: 5 페이지 수집완료...\n",
      "2024-12-12 21:01:46 - MainThread - INFO - scrape_samsung_life_products - 현재 페이지: 5 페이지 수집완료...\n"
     ]
    },
    {
     "name": "stdout",
     "output_type": "stream",
     "text": [
      "PDF 뷰어 URL: https://pcms.samsunglife.com/partnerpage/CustomerPage_Unit.jsp?goodsCode=LP0755001AB01&docType=301&saleDate=20241121&pageGubun=prdt\n"
     ]
    },
    {
     "name": "stderr",
     "output_type": "stream",
     "text": [
      "2024-12-12 21:01:48,378 - INFO - 현재 페이지에서 10개의 행을 찾았습니다.\n",
      "2024-12-12 21:01:48 - MainThread - INFO - scrape_samsung_life_products - 현재 페이지에서 10개의 행을 찾았습니다.\n",
      "2024-12-12 21:01:49,548 - INFO - PDF 뷰어 URL: https://pcms.samsunglife.com/partnerpage/CustomerPage_Unit.jsp?goodsCode=LP06870025N02AB02&docType=101&saleDate=20240318&pageGubun=prdt\n",
      "2024-12-12 21:01:49 - MainThread - INFO - get_pdf_view_url - PDF 뷰어 URL: https://pcms.samsunglife.com/partnerpage/CustomerPage_Unit.jsp?goodsCode=LP06870025N02AB02&docType=101&saleDate=20240318&pageGubun=prdt\n",
      "2024-12-12 21:01:49,552 - INFO - 요약서 - 파일이 이미 존재합니다: LP06870025N02AB02_101_20240318_요약서.pdf\n",
      "2024-12-12 21:01:49 - MainThread - INFO - download_pdf - 요약서 - 파일이 이미 존재합니다: LP06870025N02AB02_101_20240318_요약서.pdf\n"
     ]
    },
    {
     "name": "stdout",
     "output_type": "stream",
     "text": [
      "PDF 뷰어 URL: https://pcms.samsunglife.com/partnerpage/CustomerPage_Unit.jsp?goodsCode=LP06870025N02AB02&docType=101&saleDate=20240318&pageGubun=prdt\n"
     ]
    },
    {
     "name": "stderr",
     "output_type": "stream",
     "text": [
      "2024-12-12 21:01:50,696 - INFO - PDF 뷰어 URL: https://pcms.samsunglife.com/partnerpage/CustomerPage_Unit.jsp?goodsCode=LP06870025N02AB02&docType=401&saleDate=20240318&pageGubun=prdt\n",
      "2024-12-12 21:01:50 - MainThread - INFO - get_pdf_view_url - PDF 뷰어 URL: https://pcms.samsunglife.com/partnerpage/CustomerPage_Unit.jsp?goodsCode=LP06870025N02AB02&docType=401&saleDate=20240318&pageGubun=prdt\n",
      "2024-12-12 21:01:50,701 - INFO - 방법서 - 파일이 이미 존재합니다: LP06870025N02AB02_401_20240318_방법서.pdf\n",
      "2024-12-12 21:01:50 - MainThread - INFO - download_pdf - 방법서 - 파일이 이미 존재합니다: LP06870025N02AB02_401_20240318_방법서.pdf\n"
     ]
    },
    {
     "name": "stdout",
     "output_type": "stream",
     "text": [
      "PDF 뷰어 URL: https://pcms.samsunglife.com/partnerpage/CustomerPage_Unit.jsp?goodsCode=LP06870025N02AB02&docType=401&saleDate=20240318&pageGubun=prdt\n"
     ]
    },
    {
     "name": "stderr",
     "output_type": "stream",
     "text": [
      "2024-12-12 21:01:51,832 - INFO - PDF 뷰어 URL: https://pcms.samsunglife.com/partnerpage/CustomerPage_Unit.jsp?goodsCode=LP06870025N02AB02&docType=301&saleDate=20240318&pageGubun=prdt\n",
      "2024-12-12 21:01:51 - MainThread - INFO - get_pdf_view_url - PDF 뷰어 URL: https://pcms.samsunglife.com/partnerpage/CustomerPage_Unit.jsp?goodsCode=LP06870025N02AB02&docType=301&saleDate=20240318&pageGubun=prdt\n",
      "2024-12-12 21:01:51,837 - INFO - 약관 - 파일이 이미 존재합니다: LP06870025N02AB02_301_20240318_약관.pdf\n",
      "2024-12-12 21:01:51 - MainThread - INFO - download_pdf - 약관 - 파일이 이미 존재합니다: LP06870025N02AB02_301_20240318_약관.pdf\n"
     ]
    },
    {
     "name": "stdout",
     "output_type": "stream",
     "text": [
      "PDF 뷰어 URL: https://pcms.samsunglife.com/partnerpage/CustomerPage_Unit.jsp?goodsCode=LP06870025N02AB02&docType=301&saleDate=20240318&pageGubun=prdt\n"
     ]
    },
    {
     "name": "stderr",
     "output_type": "stream",
     "text": [
      "2024-12-12 21:01:53,031 - INFO - PDF 뷰어 URL: https://pcms.samsunglife.com/partnerpage/CustomerPage_Unit.jsp?goodsCode=LP06870025N02AB02&docType=101&saleDate=20240304&pageGubun=prdt\n",
      "2024-12-12 21:01:53 - MainThread - INFO - get_pdf_view_url - PDF 뷰어 URL: https://pcms.samsunglife.com/partnerpage/CustomerPage_Unit.jsp?goodsCode=LP06870025N02AB02&docType=101&saleDate=20240304&pageGubun=prdt\n",
      "2024-12-12 21:01:53,037 - INFO - 요약서 - 파일이 이미 존재합니다: LP06870025N02AB02_101_20240304_요약서.pdf\n",
      "2024-12-12 21:01:53 - MainThread - INFO - download_pdf - 요약서 - 파일이 이미 존재합니다: LP06870025N02AB02_101_20240304_요약서.pdf\n"
     ]
    },
    {
     "name": "stdout",
     "output_type": "stream",
     "text": [
      "PDF 뷰어 URL: https://pcms.samsunglife.com/partnerpage/CustomerPage_Unit.jsp?goodsCode=LP06870025N02AB02&docType=101&saleDate=20240304&pageGubun=prdt\n"
     ]
    },
    {
     "name": "stderr",
     "output_type": "stream",
     "text": [
      "2024-12-12 21:01:54,197 - INFO - PDF 뷰어 URL: https://pcms.samsunglife.com/partnerpage/CustomerPage_Unit.jsp?goodsCode=LP06870025N02AB02&docType=401&saleDate=20240304&pageGubun=prdt\n",
      "2024-12-12 21:01:54 - MainThread - INFO - get_pdf_view_url - PDF 뷰어 URL: https://pcms.samsunglife.com/partnerpage/CustomerPage_Unit.jsp?goodsCode=LP06870025N02AB02&docType=401&saleDate=20240304&pageGubun=prdt\n",
      "2024-12-12 21:01:54,201 - INFO - 방법서 - 파일이 이미 존재합니다: LP06870025N02AB02_401_20240304_방법서.pdf\n",
      "2024-12-12 21:01:54 - MainThread - INFO - download_pdf - 방법서 - 파일이 이미 존재합니다: LP06870025N02AB02_401_20240304_방법서.pdf\n"
     ]
    },
    {
     "name": "stdout",
     "output_type": "stream",
     "text": [
      "PDF 뷰어 URL: https://pcms.samsunglife.com/partnerpage/CustomerPage_Unit.jsp?goodsCode=LP06870025N02AB02&docType=401&saleDate=20240304&pageGubun=prdt\n"
     ]
    },
    {
     "name": "stderr",
     "output_type": "stream",
     "text": [
      "2024-12-12 21:01:55,392 - INFO - PDF 뷰어 URL: https://pcms.samsunglife.com/partnerpage/CustomerPage_Unit.jsp?goodsCode=LP06870025N02AB02&docType=301&saleDate=20240304&pageGubun=prdt\n",
      "2024-12-12 21:01:55 - MainThread - INFO - get_pdf_view_url - PDF 뷰어 URL: https://pcms.samsunglife.com/partnerpage/CustomerPage_Unit.jsp?goodsCode=LP06870025N02AB02&docType=301&saleDate=20240304&pageGubun=prdt\n",
      "2024-12-12 21:01:55,397 - INFO - 약관 - 파일이 이미 존재합니다: LP06870025N02AB02_301_20240304_약관.pdf\n",
      "2024-12-12 21:01:55 - MainThread - INFO - download_pdf - 약관 - 파일이 이미 존재합니다: LP06870025N02AB02_301_20240304_약관.pdf\n"
     ]
    },
    {
     "name": "stdout",
     "output_type": "stream",
     "text": [
      "PDF 뷰어 URL: https://pcms.samsunglife.com/partnerpage/CustomerPage_Unit.jsp?goodsCode=LP06870025N02AB02&docType=301&saleDate=20240304&pageGubun=prdt\n"
     ]
    },
    {
     "name": "stderr",
     "output_type": "stream",
     "text": [
      "2024-12-12 21:01:56,559 - INFO - PDF 뷰어 URL: https://pcms.samsunglife.com/partnerpage/CustomerPage_Unit.jsp?goodsCode=LP06870025N02AB02&docType=101&saleDate=20240116&pageGubun=prdt\n",
      "2024-12-12 21:01:56 - MainThread - INFO - get_pdf_view_url - PDF 뷰어 URL: https://pcms.samsunglife.com/partnerpage/CustomerPage_Unit.jsp?goodsCode=LP06870025N02AB02&docType=101&saleDate=20240116&pageGubun=prdt\n",
      "2024-12-12 21:01:56,564 - INFO - 요약서 - 파일이 이미 존재합니다: LP06870025N02AB02_101_20240116_요약서.pdf\n",
      "2024-12-12 21:01:56 - MainThread - INFO - download_pdf - 요약서 - 파일이 이미 존재합니다: LP06870025N02AB02_101_20240116_요약서.pdf\n"
     ]
    },
    {
     "name": "stdout",
     "output_type": "stream",
     "text": [
      "PDF 뷰어 URL: https://pcms.samsunglife.com/partnerpage/CustomerPage_Unit.jsp?goodsCode=LP06870025N02AB02&docType=101&saleDate=20240116&pageGubun=prdt\n"
     ]
    },
    {
     "name": "stderr",
     "output_type": "stream",
     "text": [
      "2024-12-12 21:01:57,739 - INFO - PDF 뷰어 URL: https://pcms.samsunglife.com/partnerpage/CustomerPage_Unit.jsp?goodsCode=LP06870025N02AB02&docType=401&saleDate=20240116&pageGubun=prdt\n",
      "2024-12-12 21:01:57 - MainThread - INFO - get_pdf_view_url - PDF 뷰어 URL: https://pcms.samsunglife.com/partnerpage/CustomerPage_Unit.jsp?goodsCode=LP06870025N02AB02&docType=401&saleDate=20240116&pageGubun=prdt\n",
      "2024-12-12 21:01:57,744 - INFO - 방법서 - 파일이 이미 존재합니다: LP06870025N02AB02_401_20240116_방법서.pdf\n",
      "2024-12-12 21:01:57 - MainThread - INFO - download_pdf - 방법서 - 파일이 이미 존재합니다: LP06870025N02AB02_401_20240116_방법서.pdf\n"
     ]
    },
    {
     "name": "stdout",
     "output_type": "stream",
     "text": [
      "PDF 뷰어 URL: https://pcms.samsunglife.com/partnerpage/CustomerPage_Unit.jsp?goodsCode=LP06870025N02AB02&docType=401&saleDate=20240116&pageGubun=prdt\n"
     ]
    },
    {
     "name": "stderr",
     "output_type": "stream",
     "text": [
      "2024-12-12 21:01:58,890 - INFO - PDF 뷰어 URL: https://pcms.samsunglife.com/partnerpage/CustomerPage_Unit.jsp?goodsCode=LP06870025N02AB02&docType=301&saleDate=20240116&pageGubun=prdt\n",
      "2024-12-12 21:01:58 - MainThread - INFO - get_pdf_view_url - PDF 뷰어 URL: https://pcms.samsunglife.com/partnerpage/CustomerPage_Unit.jsp?goodsCode=LP06870025N02AB02&docType=301&saleDate=20240116&pageGubun=prdt\n",
      "2024-12-12 21:01:58,894 - INFO - 약관 - 파일이 이미 존재합니다: LP06870025N02AB02_301_20240116_약관.pdf\n",
      "2024-12-12 21:01:58 - MainThread - INFO - download_pdf - 약관 - 파일이 이미 존재합니다: LP06870025N02AB02_301_20240116_약관.pdf\n"
     ]
    },
    {
     "name": "stdout",
     "output_type": "stream",
     "text": [
      "PDF 뷰어 URL: https://pcms.samsunglife.com/partnerpage/CustomerPage_Unit.jsp?goodsCode=LP06870025N02AB02&docType=301&saleDate=20240116&pageGubun=prdt\n"
     ]
    },
    {
     "name": "stderr",
     "output_type": "stream",
     "text": [
      "2024-12-12 21:02:00,103 - INFO - PDF 뷰어 URL: https://pcms.samsunglife.com/partnerpage/CustomerPage_Unit.jsp?goodsCode=LP06870025N02AB02&docType=101&saleDate=20240101&pageGubun=prdt\n",
      "2024-12-12 21:02:00 - MainThread - INFO - get_pdf_view_url - PDF 뷰어 URL: https://pcms.samsunglife.com/partnerpage/CustomerPage_Unit.jsp?goodsCode=LP06870025N02AB02&docType=101&saleDate=20240101&pageGubun=prdt\n",
      "2024-12-12 21:02:00,107 - INFO - 요약서 - 파일이 이미 존재합니다: LP06870025N02AB02_101_20240101_요약서.pdf\n",
      "2024-12-12 21:02:00 - MainThread - INFO - download_pdf - 요약서 - 파일이 이미 존재합니다: LP06870025N02AB02_101_20240101_요약서.pdf\n"
     ]
    },
    {
     "name": "stdout",
     "output_type": "stream",
     "text": [
      "PDF 뷰어 URL: https://pcms.samsunglife.com/partnerpage/CustomerPage_Unit.jsp?goodsCode=LP06870025N02AB02&docType=101&saleDate=20240101&pageGubun=prdt\n"
     ]
    },
    {
     "name": "stderr",
     "output_type": "stream",
     "text": [
      "2024-12-12 21:02:01,263 - INFO - PDF 뷰어 URL: https://pcms.samsunglife.com/partnerpage/CustomerPage_Unit.jsp?goodsCode=LP06870025N02AB02&docType=401&saleDate=20240101&pageGubun=prdt\n",
      "2024-12-12 21:02:01 - MainThread - INFO - get_pdf_view_url - PDF 뷰어 URL: https://pcms.samsunglife.com/partnerpage/CustomerPage_Unit.jsp?goodsCode=LP06870025N02AB02&docType=401&saleDate=20240101&pageGubun=prdt\n",
      "2024-12-12 21:02:01,267 - INFO - 방법서 - 파일이 이미 존재합니다: LP06870025N02AB02_401_20240101_방법서.pdf\n",
      "2024-12-12 21:02:01 - MainThread - INFO - download_pdf - 방법서 - 파일이 이미 존재합니다: LP06870025N02AB02_401_20240101_방법서.pdf\n"
     ]
    },
    {
     "name": "stdout",
     "output_type": "stream",
     "text": [
      "PDF 뷰어 URL: https://pcms.samsunglife.com/partnerpage/CustomerPage_Unit.jsp?goodsCode=LP06870025N02AB02&docType=401&saleDate=20240101&pageGubun=prdt\n"
     ]
    },
    {
     "name": "stderr",
     "output_type": "stream",
     "text": [
      "2024-12-12 21:02:02,411 - INFO - PDF 뷰어 URL: https://pcms.samsunglife.com/partnerpage/CustomerPage_Unit.jsp?goodsCode=LP06870025N02AB02&docType=301&saleDate=20240101&pageGubun=prdt\n",
      "2024-12-12 21:02:02 - MainThread - INFO - get_pdf_view_url - PDF 뷰어 URL: https://pcms.samsunglife.com/partnerpage/CustomerPage_Unit.jsp?goodsCode=LP06870025N02AB02&docType=301&saleDate=20240101&pageGubun=prdt\n",
      "2024-12-12 21:02:02,415 - INFO - 약관 - 파일이 이미 존재합니다: LP06870025N02AB02_301_20240101_약관.pdf\n",
      "2024-12-12 21:02:02 - MainThread - INFO - download_pdf - 약관 - 파일이 이미 존재합니다: LP06870025N02AB02_301_20240101_약관.pdf\n"
     ]
    },
    {
     "name": "stdout",
     "output_type": "stream",
     "text": [
      "PDF 뷰어 URL: https://pcms.samsunglife.com/partnerpage/CustomerPage_Unit.jsp?goodsCode=LP06870025N02AB02&docType=301&saleDate=20240101&pageGubun=prdt\n"
     ]
    },
    {
     "name": "stderr",
     "output_type": "stream",
     "text": [
      "2024-12-12 21:02:03,645 - INFO - PDF 뷰어 URL: https://pcms.samsunglife.com/partnerpage/CustomerPage_Unit.jsp?goodsCode=LP06890025N02&docType=101&saleDate=20240318&pageGubun=prdt\n",
      "2024-12-12 21:02:03 - MainThread - INFO - get_pdf_view_url - PDF 뷰어 URL: https://pcms.samsunglife.com/partnerpage/CustomerPage_Unit.jsp?goodsCode=LP06890025N02&docType=101&saleDate=20240318&pageGubun=prdt\n",
      "2024-12-12 21:02:03,648 - INFO - 요약서 - 파일이 이미 존재합니다: LP06890025N02_101_20240318_요약서.pdf\n",
      "2024-12-12 21:02:03 - MainThread - INFO - download_pdf - 요약서 - 파일이 이미 존재합니다: LP06890025N02_101_20240318_요약서.pdf\n"
     ]
    },
    {
     "name": "stdout",
     "output_type": "stream",
     "text": [
      "PDF 뷰어 URL: https://pcms.samsunglife.com/partnerpage/CustomerPage_Unit.jsp?goodsCode=LP06890025N02&docType=101&saleDate=20240318&pageGubun=prdt\n"
     ]
    },
    {
     "name": "stderr",
     "output_type": "stream",
     "text": [
      "2024-12-12 21:02:04,785 - INFO - PDF 뷰어 URL: https://pcms.samsunglife.com/partnerpage/CustomerPage_Unit.jsp?goodsCode=LP06890025N02&docType=401&saleDate=20240318&pageGubun=prdt\n",
      "2024-12-12 21:02:04 - MainThread - INFO - get_pdf_view_url - PDF 뷰어 URL: https://pcms.samsunglife.com/partnerpage/CustomerPage_Unit.jsp?goodsCode=LP06890025N02&docType=401&saleDate=20240318&pageGubun=prdt\n",
      "2024-12-12 21:02:04,790 - INFO - 방법서 - 파일이 이미 존재합니다: LP06890025N02_401_20240318_방법서.pdf\n",
      "2024-12-12 21:02:04 - MainThread - INFO - download_pdf - 방법서 - 파일이 이미 존재합니다: LP06890025N02_401_20240318_방법서.pdf\n"
     ]
    },
    {
     "name": "stdout",
     "output_type": "stream",
     "text": [
      "PDF 뷰어 URL: https://pcms.samsunglife.com/partnerpage/CustomerPage_Unit.jsp?goodsCode=LP06890025N02&docType=401&saleDate=20240318&pageGubun=prdt\n"
     ]
    },
    {
     "name": "stderr",
     "output_type": "stream",
     "text": [
      "2024-12-12 21:02:05,918 - INFO - PDF 뷰어 URL: https://pcms.samsunglife.com/partnerpage/CustomerPage_Unit.jsp?goodsCode=LP06890025N02&docType=301&saleDate=20240318&pageGubun=prdt\n",
      "2024-12-12 21:02:05 - MainThread - INFO - get_pdf_view_url - PDF 뷰어 URL: https://pcms.samsunglife.com/partnerpage/CustomerPage_Unit.jsp?goodsCode=LP06890025N02&docType=301&saleDate=20240318&pageGubun=prdt\n",
      "2024-12-12 21:02:05,923 - INFO - 약관 - 파일이 이미 존재합니다: LP06890025N02_301_20240318_약관.pdf\n",
      "2024-12-12 21:02:05 - MainThread - INFO - download_pdf - 약관 - 파일이 이미 존재합니다: LP06890025N02_301_20240318_약관.pdf\n"
     ]
    },
    {
     "name": "stdout",
     "output_type": "stream",
     "text": [
      "PDF 뷰어 URL: https://pcms.samsunglife.com/partnerpage/CustomerPage_Unit.jsp?goodsCode=LP06890025N02&docType=301&saleDate=20240318&pageGubun=prdt\n"
     ]
    },
    {
     "name": "stderr",
     "output_type": "stream",
     "text": [
      "2024-12-12 21:02:07,443 - INFO - PDF 뷰어 URL: https://pcms.samsunglife.com/partnerpage/CustomerPage_Unit.jsp?goodsCode=LP06890025N02&docType=101&saleDate=20240304&pageGubun=prdt\n",
      "2024-12-12 21:02:07 - MainThread - INFO - get_pdf_view_url - PDF 뷰어 URL: https://pcms.samsunglife.com/partnerpage/CustomerPage_Unit.jsp?goodsCode=LP06890025N02&docType=101&saleDate=20240304&pageGubun=prdt\n",
      "2024-12-12 21:02:07,447 - INFO - 요약서 - 파일이 이미 존재합니다: LP06890025N02_101_20240304_요약서.pdf\n",
      "2024-12-12 21:02:07 - MainThread - INFO - download_pdf - 요약서 - 파일이 이미 존재합니다: LP06890025N02_101_20240304_요약서.pdf\n"
     ]
    },
    {
     "name": "stdout",
     "output_type": "stream",
     "text": [
      "PDF 뷰어 URL: https://pcms.samsunglife.com/partnerpage/CustomerPage_Unit.jsp?goodsCode=LP06890025N02&docType=101&saleDate=20240304&pageGubun=prdt\n"
     ]
    },
    {
     "name": "stderr",
     "output_type": "stream",
     "text": [
      "2024-12-12 21:02:08,585 - INFO - PDF 뷰어 URL: https://pcms.samsunglife.com/partnerpage/CustomerPage_Unit.jsp?goodsCode=LP06890025N02&docType=401&saleDate=20240304&pageGubun=prdt\n",
      "2024-12-12 21:02:08 - MainThread - INFO - get_pdf_view_url - PDF 뷰어 URL: https://pcms.samsunglife.com/partnerpage/CustomerPage_Unit.jsp?goodsCode=LP06890025N02&docType=401&saleDate=20240304&pageGubun=prdt\n",
      "2024-12-12 21:02:08,592 - INFO - 방법서 - 파일이 이미 존재합니다: LP06890025N02_401_20240304_방법서.pdf\n",
      "2024-12-12 21:02:08 - MainThread - INFO - download_pdf - 방법서 - 파일이 이미 존재합니다: LP06890025N02_401_20240304_방법서.pdf\n"
     ]
    },
    {
     "name": "stdout",
     "output_type": "stream",
     "text": [
      "PDF 뷰어 URL: https://pcms.samsunglife.com/partnerpage/CustomerPage_Unit.jsp?goodsCode=LP06890025N02&docType=401&saleDate=20240304&pageGubun=prdt\n"
     ]
    },
    {
     "name": "stderr",
     "output_type": "stream",
     "text": [
      "2024-12-12 21:02:09,729 - INFO - PDF 뷰어 URL: https://pcms.samsunglife.com/partnerpage/CustomerPage_Unit.jsp?goodsCode=LP06890025N02&docType=301&saleDate=20240304&pageGubun=prdt\n",
      "2024-12-12 21:02:09 - MainThread - INFO - get_pdf_view_url - PDF 뷰어 URL: https://pcms.samsunglife.com/partnerpage/CustomerPage_Unit.jsp?goodsCode=LP06890025N02&docType=301&saleDate=20240304&pageGubun=prdt\n",
      "2024-12-12 21:02:09,732 - INFO - 약관 - 파일이 이미 존재합니다: LP06890025N02_301_20240304_약관.pdf\n",
      "2024-12-12 21:02:09 - MainThread - INFO - download_pdf - 약관 - 파일이 이미 존재합니다: LP06890025N02_301_20240304_약관.pdf\n"
     ]
    },
    {
     "name": "stdout",
     "output_type": "stream",
     "text": [
      "PDF 뷰어 URL: https://pcms.samsunglife.com/partnerpage/CustomerPage_Unit.jsp?goodsCode=LP06890025N02&docType=301&saleDate=20240304&pageGubun=prdt\n"
     ]
    },
    {
     "name": "stderr",
     "output_type": "stream",
     "text": [
      "2024-12-12 21:02:10,925 - INFO - PDF 뷰어 URL: https://pcms.samsunglife.com/partnerpage/CustomerPage_Unit.jsp?goodsCode=LP06890025N02&docType=101&saleDate=20240116&pageGubun=prdt\n",
      "2024-12-12 21:02:10 - MainThread - INFO - get_pdf_view_url - PDF 뷰어 URL: https://pcms.samsunglife.com/partnerpage/CustomerPage_Unit.jsp?goodsCode=LP06890025N02&docType=101&saleDate=20240116&pageGubun=prdt\n",
      "2024-12-12 21:02:10,930 - INFO - 요약서 - 파일이 이미 존재합니다: LP06890025N02_101_20240116_요약서.pdf\n",
      "2024-12-12 21:02:10 - MainThread - INFO - download_pdf - 요약서 - 파일이 이미 존재합니다: LP06890025N02_101_20240116_요약서.pdf\n"
     ]
    },
    {
     "name": "stdout",
     "output_type": "stream",
     "text": [
      "PDF 뷰어 URL: https://pcms.samsunglife.com/partnerpage/CustomerPage_Unit.jsp?goodsCode=LP06890025N02&docType=101&saleDate=20240116&pageGubun=prdt\n"
     ]
    },
    {
     "name": "stderr",
     "output_type": "stream",
     "text": [
      "2024-12-12 21:02:12,061 - INFO - PDF 뷰어 URL: https://pcms.samsunglife.com/partnerpage/CustomerPage_Unit.jsp?goodsCode=LP06890025N02&docType=401&saleDate=20240116&pageGubun=prdt\n",
      "2024-12-12 21:02:12 - MainThread - INFO - get_pdf_view_url - PDF 뷰어 URL: https://pcms.samsunglife.com/partnerpage/CustomerPage_Unit.jsp?goodsCode=LP06890025N02&docType=401&saleDate=20240116&pageGubun=prdt\n",
      "2024-12-12 21:02:12,066 - INFO - 방법서 - 파일이 이미 존재합니다: LP06890025N02_401_20240116_방법서.pdf\n",
      "2024-12-12 21:02:12 - MainThread - INFO - download_pdf - 방법서 - 파일이 이미 존재합니다: LP06890025N02_401_20240116_방법서.pdf\n"
     ]
    },
    {
     "name": "stdout",
     "output_type": "stream",
     "text": [
      "PDF 뷰어 URL: https://pcms.samsunglife.com/partnerpage/CustomerPage_Unit.jsp?goodsCode=LP06890025N02&docType=401&saleDate=20240116&pageGubun=prdt\n"
     ]
    },
    {
     "name": "stderr",
     "output_type": "stream",
     "text": [
      "2024-12-12 21:02:13,205 - INFO - PDF 뷰어 URL: https://pcms.samsunglife.com/partnerpage/CustomerPage_Unit.jsp?goodsCode=LP06890025N02&docType=301&saleDate=20240116&pageGubun=prdt\n",
      "2024-12-12 21:02:13 - MainThread - INFO - get_pdf_view_url - PDF 뷰어 URL: https://pcms.samsunglife.com/partnerpage/CustomerPage_Unit.jsp?goodsCode=LP06890025N02&docType=301&saleDate=20240116&pageGubun=prdt\n",
      "2024-12-12 21:02:13,210 - INFO - 약관 - 파일이 이미 존재합니다: LP06890025N02_301_20240116_약관.pdf\n",
      "2024-12-12 21:02:13 - MainThread - INFO - download_pdf - 약관 - 파일이 이미 존재합니다: LP06890025N02_301_20240116_약관.pdf\n"
     ]
    },
    {
     "name": "stdout",
     "output_type": "stream",
     "text": [
      "PDF 뷰어 URL: https://pcms.samsunglife.com/partnerpage/CustomerPage_Unit.jsp?goodsCode=LP06890025N02&docType=301&saleDate=20240116&pageGubun=prdt\n"
     ]
    },
    {
     "name": "stderr",
     "output_type": "stream",
     "text": [
      "2024-12-12 21:02:14,396 - INFO - PDF 뷰어 URL: https://pcms.samsunglife.com/partnerpage/CustomerPage_Unit.jsp?goodsCode=LP06890025N02&docType=101&saleDate=20240101&pageGubun=prdt\n",
      "2024-12-12 21:02:14 - MainThread - INFO - get_pdf_view_url - PDF 뷰어 URL: https://pcms.samsunglife.com/partnerpage/CustomerPage_Unit.jsp?goodsCode=LP06890025N02&docType=101&saleDate=20240101&pageGubun=prdt\n",
      "2024-12-12 21:02:14,400 - INFO - 요약서 - 파일이 이미 존재합니다: LP06890025N02_101_20240101_요약서.pdf\n",
      "2024-12-12 21:02:14 - MainThread - INFO - download_pdf - 요약서 - 파일이 이미 존재합니다: LP06890025N02_101_20240101_요약서.pdf\n"
     ]
    },
    {
     "name": "stdout",
     "output_type": "stream",
     "text": [
      "PDF 뷰어 URL: https://pcms.samsunglife.com/partnerpage/CustomerPage_Unit.jsp?goodsCode=LP06890025N02&docType=101&saleDate=20240101&pageGubun=prdt\n"
     ]
    },
    {
     "name": "stderr",
     "output_type": "stream",
     "text": [
      "2024-12-12 21:02:15,532 - INFO - PDF 뷰어 URL: https://pcms.samsunglife.com/partnerpage/CustomerPage_Unit.jsp?goodsCode=LP06890025N02&docType=401&saleDate=20240101&pageGubun=prdt\n",
      "2024-12-12 21:02:15 - MainThread - INFO - get_pdf_view_url - PDF 뷰어 URL: https://pcms.samsunglife.com/partnerpage/CustomerPage_Unit.jsp?goodsCode=LP06890025N02&docType=401&saleDate=20240101&pageGubun=prdt\n",
      "2024-12-12 21:02:15,537 - INFO - 방법서 - 파일이 이미 존재합니다: LP06890025N02_401_20240101_방법서.pdf\n",
      "2024-12-12 21:02:15 - MainThread - INFO - download_pdf - 방법서 - 파일이 이미 존재합니다: LP06890025N02_401_20240101_방법서.pdf\n"
     ]
    },
    {
     "name": "stdout",
     "output_type": "stream",
     "text": [
      "PDF 뷰어 URL: https://pcms.samsunglife.com/partnerpage/CustomerPage_Unit.jsp?goodsCode=LP06890025N02&docType=401&saleDate=20240101&pageGubun=prdt\n"
     ]
    },
    {
     "name": "stderr",
     "output_type": "stream",
     "text": [
      "2024-12-12 21:02:16,665 - INFO - PDF 뷰어 URL: https://pcms.samsunglife.com/partnerpage/CustomerPage_Unit.jsp?goodsCode=LP06890025N02&docType=301&saleDate=20240101&pageGubun=prdt\n",
      "2024-12-12 21:02:16 - MainThread - INFO - get_pdf_view_url - PDF 뷰어 URL: https://pcms.samsunglife.com/partnerpage/CustomerPage_Unit.jsp?goodsCode=LP06890025N02&docType=301&saleDate=20240101&pageGubun=prdt\n",
      "2024-12-12 21:02:16,670 - INFO - 약관 - 파일이 이미 존재합니다: LP06890025N02_301_20240101_약관.pdf\n",
      "2024-12-12 21:02:16 - MainThread - INFO - download_pdf - 약관 - 파일이 이미 존재합니다: LP06890025N02_301_20240101_약관.pdf\n"
     ]
    },
    {
     "name": "stdout",
     "output_type": "stream",
     "text": [
      "PDF 뷰어 URL: https://pcms.samsunglife.com/partnerpage/CustomerPage_Unit.jsp?goodsCode=LP06890025N02&docType=301&saleDate=20240101&pageGubun=prdt\n"
     ]
    },
    {
     "name": "stderr",
     "output_type": "stream",
     "text": [
      "2024-12-12 21:02:17,905 - INFO - PDF 뷰어 URL: https://pcms.samsunglife.com/partnerpage/CustomerPage_Unit.jsp?goodsCode=LP0750001&docType=101&saleDate=20240923&pageGubun=prdt\n",
      "2024-12-12 21:02:17 - MainThread - INFO - get_pdf_view_url - PDF 뷰어 URL: https://pcms.samsunglife.com/partnerpage/CustomerPage_Unit.jsp?goodsCode=LP0750001&docType=101&saleDate=20240923&pageGubun=prdt\n",
      "2024-12-12 21:02:17,909 - INFO - 요약서 - 파일이 이미 존재합니다: LP0750001_101_20240923_요약서.pdf\n",
      "2024-12-12 21:02:17 - MainThread - INFO - download_pdf - 요약서 - 파일이 이미 존재합니다: LP0750001_101_20240923_요약서.pdf\n"
     ]
    },
    {
     "name": "stdout",
     "output_type": "stream",
     "text": [
      "PDF 뷰어 URL: https://pcms.samsunglife.com/partnerpage/CustomerPage_Unit.jsp?goodsCode=LP0750001&docType=101&saleDate=20240923&pageGubun=prdt\n"
     ]
    },
    {
     "name": "stderr",
     "output_type": "stream",
     "text": [
      "2024-12-12 21:02:19,083 - INFO - PDF 뷰어 URL: https://pcms.samsunglife.com/partnerpage/CustomerPage_Unit.jsp?goodsCode=LP0750001&docType=401&saleDate=20240923&pageGubun=prdt\n",
      "2024-12-12 21:02:19 - MainThread - INFO - get_pdf_view_url - PDF 뷰어 URL: https://pcms.samsunglife.com/partnerpage/CustomerPage_Unit.jsp?goodsCode=LP0750001&docType=401&saleDate=20240923&pageGubun=prdt\n",
      "2024-12-12 21:02:19,088 - INFO - 방법서 - 파일이 이미 존재합니다: LP0750001_401_20240923_방법서.pdf\n",
      "2024-12-12 21:02:19 - MainThread - INFO - download_pdf - 방법서 - 파일이 이미 존재합니다: LP0750001_401_20240923_방법서.pdf\n"
     ]
    },
    {
     "name": "stdout",
     "output_type": "stream",
     "text": [
      "PDF 뷰어 URL: https://pcms.samsunglife.com/partnerpage/CustomerPage_Unit.jsp?goodsCode=LP0750001&docType=401&saleDate=20240923&pageGubun=prdt\n"
     ]
    },
    {
     "name": "stderr",
     "output_type": "stream",
     "text": [
      "2024-12-12 21:02:20,240 - INFO - PDF 뷰어 URL: https://pcms.samsunglife.com/partnerpage/CustomerPage_Unit.jsp?goodsCode=LP0750001&docType=301&saleDate=20240923&pageGubun=prdt\n",
      "2024-12-12 21:02:20 - MainThread - INFO - get_pdf_view_url - PDF 뷰어 URL: https://pcms.samsunglife.com/partnerpage/CustomerPage_Unit.jsp?goodsCode=LP0750001&docType=301&saleDate=20240923&pageGubun=prdt\n",
      "2024-12-12 21:02:20,244 - INFO - 약관 - 파일이 이미 존재합니다: LP0750001_301_20240923_약관.pdf\n",
      "2024-12-12 21:02:20 - MainThread - INFO - download_pdf - 약관 - 파일이 이미 존재합니다: LP0750001_301_20240923_약관.pdf\n"
     ]
    },
    {
     "name": "stdout",
     "output_type": "stream",
     "text": [
      "PDF 뷰어 URL: https://pcms.samsunglife.com/partnerpage/CustomerPage_Unit.jsp?goodsCode=LP0750001&docType=301&saleDate=20240923&pageGubun=prdt\n"
     ]
    },
    {
     "name": "stderr",
     "output_type": "stream",
     "text": [
      "2024-12-12 21:02:21,416 - INFO - PDF 뷰어 URL: https://pcms.samsunglife.com/partnerpage/CustomerPage_Unit.jsp?goodsCode=LP0750001&docType=101&saleDate=20240911&pageGubun=prdt\n",
      "2024-12-12 21:02:21 - MainThread - INFO - get_pdf_view_url - PDF 뷰어 URL: https://pcms.samsunglife.com/partnerpage/CustomerPage_Unit.jsp?goodsCode=LP0750001&docType=101&saleDate=20240911&pageGubun=prdt\n",
      "2024-12-12 21:02:21,423 - INFO - 요약서 - 파일이 이미 존재합니다: LP0750001_101_20240911_요약서.pdf\n",
      "2024-12-12 21:02:21 - MainThread - INFO - download_pdf - 요약서 - 파일이 이미 존재합니다: LP0750001_101_20240911_요약서.pdf\n"
     ]
    },
    {
     "name": "stdout",
     "output_type": "stream",
     "text": [
      "PDF 뷰어 URL: https://pcms.samsunglife.com/partnerpage/CustomerPage_Unit.jsp?goodsCode=LP0750001&docType=101&saleDate=20240911&pageGubun=prdt\n"
     ]
    },
    {
     "name": "stderr",
     "output_type": "stream",
     "text": [
      "2024-12-12 21:02:22,560 - INFO - PDF 뷰어 URL: https://pcms.samsunglife.com/partnerpage/CustomerPage_Unit.jsp?goodsCode=LP0750001&docType=401&saleDate=20240911&pageGubun=prdt\n",
      "2024-12-12 21:02:22 - MainThread - INFO - get_pdf_view_url - PDF 뷰어 URL: https://pcms.samsunglife.com/partnerpage/CustomerPage_Unit.jsp?goodsCode=LP0750001&docType=401&saleDate=20240911&pageGubun=prdt\n",
      "2024-12-12 21:02:22,563 - INFO - 방법서 - 파일이 이미 존재합니다: LP0750001_401_20240911_방법서.pdf\n",
      "2024-12-12 21:02:22 - MainThread - INFO - download_pdf - 방법서 - 파일이 이미 존재합니다: LP0750001_401_20240911_방법서.pdf\n"
     ]
    },
    {
     "name": "stdout",
     "output_type": "stream",
     "text": [
      "PDF 뷰어 URL: https://pcms.samsunglife.com/partnerpage/CustomerPage_Unit.jsp?goodsCode=LP0750001&docType=401&saleDate=20240911&pageGubun=prdt\n"
     ]
    },
    {
     "name": "stderr",
     "output_type": "stream",
     "text": [
      "2024-12-12 21:02:23,693 - INFO - PDF 뷰어 URL: https://pcms.samsunglife.com/partnerpage/CustomerPage_Unit.jsp?goodsCode=LP0750001&docType=301&saleDate=20240911&pageGubun=prdt\n",
      "2024-12-12 21:02:23 - MainThread - INFO - get_pdf_view_url - PDF 뷰어 URL: https://pcms.samsunglife.com/partnerpage/CustomerPage_Unit.jsp?goodsCode=LP0750001&docType=301&saleDate=20240911&pageGubun=prdt\n",
      "2024-12-12 21:02:23,696 - INFO - 약관 - 파일이 이미 존재합니다: LP0750001_301_20240911_약관.pdf\n",
      "2024-12-12 21:02:23 - MainThread - INFO - download_pdf - 약관 - 파일이 이미 존재합니다: LP0750001_301_20240911_약관.pdf\n",
      "2024-12-12 21:02:23,772 - INFO - 현재 페이지: 6 페이지 수집완료...\n",
      "2024-12-12 21:02:23 - MainThread - INFO - scrape_samsung_life_products - 현재 페이지: 6 페이지 수집완료...\n"
     ]
    },
    {
     "name": "stdout",
     "output_type": "stream",
     "text": [
      "PDF 뷰어 URL: https://pcms.samsunglife.com/partnerpage/CustomerPage_Unit.jsp?goodsCode=LP0750001&docType=301&saleDate=20240911&pageGubun=prdt\n"
     ]
    },
    {
     "name": "stderr",
     "output_type": "stream",
     "text": [
      "2024-12-12 21:02:25,850 - INFO - 현재 페이지에서 10개의 행을 찾았습니다.\n",
      "2024-12-12 21:02:25 - MainThread - INFO - scrape_samsung_life_products - 현재 페이지에서 10개의 행을 찾았습니다.\n",
      "2024-12-12 21:02:27,004 - INFO - PDF 뷰어 URL: https://pcms.samsunglife.com/partnerpage/CustomerPage_Unit.jsp?goodsCode=LP0750001&docType=101&saleDate=20240806&pageGubun=prdt\n",
      "2024-12-12 21:02:27 - MainThread - INFO - get_pdf_view_url - PDF 뷰어 URL: https://pcms.samsunglife.com/partnerpage/CustomerPage_Unit.jsp?goodsCode=LP0750001&docType=101&saleDate=20240806&pageGubun=prdt\n",
      "2024-12-12 21:02:27,009 - INFO - 요약서 - 파일이 이미 존재합니다: LP0750001_101_20240806_요약서.pdf\n",
      "2024-12-12 21:02:27 - MainThread - INFO - download_pdf - 요약서 - 파일이 이미 존재합니다: LP0750001_101_20240806_요약서.pdf\n"
     ]
    },
    {
     "name": "stdout",
     "output_type": "stream",
     "text": [
      "PDF 뷰어 URL: https://pcms.samsunglife.com/partnerpage/CustomerPage_Unit.jsp?goodsCode=LP0750001&docType=101&saleDate=20240806&pageGubun=prdt\n"
     ]
    },
    {
     "name": "stderr",
     "output_type": "stream",
     "text": [
      "2024-12-12 21:02:28,143 - INFO - PDF 뷰어 URL: https://pcms.samsunglife.com/partnerpage/CustomerPage_Unit.jsp?goodsCode=LP0750001&docType=401&saleDate=20240806&pageGubun=prdt\n",
      "2024-12-12 21:02:28 - MainThread - INFO - get_pdf_view_url - PDF 뷰어 URL: https://pcms.samsunglife.com/partnerpage/CustomerPage_Unit.jsp?goodsCode=LP0750001&docType=401&saleDate=20240806&pageGubun=prdt\n",
      "2024-12-12 21:02:28,147 - INFO - 방법서 - 파일이 이미 존재합니다: LP0750001_401_20240806_방법서.pdf\n",
      "2024-12-12 21:02:28 - MainThread - INFO - download_pdf - 방법서 - 파일이 이미 존재합니다: LP0750001_401_20240806_방법서.pdf\n"
     ]
    },
    {
     "name": "stdout",
     "output_type": "stream",
     "text": [
      "PDF 뷰어 URL: https://pcms.samsunglife.com/partnerpage/CustomerPage_Unit.jsp?goodsCode=LP0750001&docType=401&saleDate=20240806&pageGubun=prdt\n"
     ]
    },
    {
     "name": "stderr",
     "output_type": "stream",
     "text": [
      "2024-12-12 21:02:29,294 - INFO - PDF 뷰어 URL: https://pcms.samsunglife.com/partnerpage/CustomerPage_Unit.jsp?goodsCode=LP0750001&docType=301&saleDate=20240806&pageGubun=prdt\n",
      "2024-12-12 21:02:29 - MainThread - INFO - get_pdf_view_url - PDF 뷰어 URL: https://pcms.samsunglife.com/partnerpage/CustomerPage_Unit.jsp?goodsCode=LP0750001&docType=301&saleDate=20240806&pageGubun=prdt\n",
      "2024-12-12 21:02:29,298 - INFO - 약관 - 파일이 이미 존재합니다: LP0750001_301_20240806_약관.pdf\n",
      "2024-12-12 21:02:29 - MainThread - INFO - download_pdf - 약관 - 파일이 이미 존재합니다: LP0750001_301_20240806_약관.pdf\n"
     ]
    },
    {
     "name": "stdout",
     "output_type": "stream",
     "text": [
      "PDF 뷰어 URL: https://pcms.samsunglife.com/partnerpage/CustomerPage_Unit.jsp?goodsCode=LP0750001&docType=301&saleDate=20240806&pageGubun=prdt\n"
     ]
    },
    {
     "name": "stderr",
     "output_type": "stream",
     "text": [
      "2024-12-12 21:02:30,498 - INFO - PDF 뷰어 URL: https://pcms.samsunglife.com/partnerpage/CustomerPage_Unit.jsp?goodsCode=LP0750001&docType=101&saleDate=20240604&pageGubun=prdt\n",
      "2024-12-12 21:02:30 - MainThread - INFO - get_pdf_view_url - PDF 뷰어 URL: https://pcms.samsunglife.com/partnerpage/CustomerPage_Unit.jsp?goodsCode=LP0750001&docType=101&saleDate=20240604&pageGubun=prdt\n",
      "2024-12-12 21:02:30,504 - INFO - 요약서 - 파일이 이미 존재합니다: LP0750001_101_20240604_요약서.pdf\n",
      "2024-12-12 21:02:30 - MainThread - INFO - download_pdf - 요약서 - 파일이 이미 존재합니다: LP0750001_101_20240604_요약서.pdf\n"
     ]
    },
    {
     "name": "stdout",
     "output_type": "stream",
     "text": [
      "PDF 뷰어 URL: https://pcms.samsunglife.com/partnerpage/CustomerPage_Unit.jsp?goodsCode=LP0750001&docType=101&saleDate=20240604&pageGubun=prdt\n"
     ]
    },
    {
     "name": "stderr",
     "output_type": "stream",
     "text": [
      "2024-12-12 21:02:31,648 - INFO - PDF 뷰어 URL: https://pcms.samsunglife.com/partnerpage/CustomerPage_Unit.jsp?goodsCode=LP0750001&docType=401&saleDate=20240604&pageGubun=prdt\n",
      "2024-12-12 21:02:31 - MainThread - INFO - get_pdf_view_url - PDF 뷰어 URL: https://pcms.samsunglife.com/partnerpage/CustomerPage_Unit.jsp?goodsCode=LP0750001&docType=401&saleDate=20240604&pageGubun=prdt\n",
      "2024-12-12 21:02:31,652 - INFO - 방법서 - 파일이 이미 존재합니다: LP0750001_401_20240604_방법서.pdf\n",
      "2024-12-12 21:02:31 - MainThread - INFO - download_pdf - 방법서 - 파일이 이미 존재합니다: LP0750001_401_20240604_방법서.pdf\n"
     ]
    },
    {
     "name": "stdout",
     "output_type": "stream",
     "text": [
      "PDF 뷰어 URL: https://pcms.samsunglife.com/partnerpage/CustomerPage_Unit.jsp?goodsCode=LP0750001&docType=401&saleDate=20240604&pageGubun=prdt\n"
     ]
    },
    {
     "name": "stderr",
     "output_type": "stream",
     "text": [
      "2024-12-12 21:02:32,795 - INFO - PDF 뷰어 URL: https://pcms.samsunglife.com/partnerpage/CustomerPage_Unit.jsp?goodsCode=LP0750001&docType=301&saleDate=20240604&pageGubun=prdt\n",
      "2024-12-12 21:02:32 - MainThread - INFO - get_pdf_view_url - PDF 뷰어 URL: https://pcms.samsunglife.com/partnerpage/CustomerPage_Unit.jsp?goodsCode=LP0750001&docType=301&saleDate=20240604&pageGubun=prdt\n",
      "2024-12-12 21:02:32,799 - INFO - 약관 - 파일이 이미 존재합니다: LP0750001_301_20240604_약관.pdf\n",
      "2024-12-12 21:02:32 - MainThread - INFO - download_pdf - 약관 - 파일이 이미 존재합니다: LP0750001_301_20240604_약관.pdf\n"
     ]
    },
    {
     "name": "stdout",
     "output_type": "stream",
     "text": [
      "PDF 뷰어 URL: https://pcms.samsunglife.com/partnerpage/CustomerPage_Unit.jsp?goodsCode=LP0750001&docType=301&saleDate=20240604&pageGubun=prdt\n"
     ]
    },
    {
     "name": "stderr",
     "output_type": "stream",
     "text": [
      "2024-12-12 21:02:34,012 - INFO - PDF 뷰어 URL: https://pcms.samsunglife.com/partnerpage/CustomerPage_Unit.jsp?goodsCode=LP0750001&docType=101&saleDate=20240603&pageGubun=prdt\n",
      "2024-12-12 21:02:34 - MainThread - INFO - get_pdf_view_url - PDF 뷰어 URL: https://pcms.samsunglife.com/partnerpage/CustomerPage_Unit.jsp?goodsCode=LP0750001&docType=101&saleDate=20240603&pageGubun=prdt\n",
      "2024-12-12 21:02:34,018 - INFO - 요약서 - 파일이 이미 존재합니다: LP0750001_101_20240603_요약서.pdf\n",
      "2024-12-12 21:02:34 - MainThread - INFO - download_pdf - 요약서 - 파일이 이미 존재합니다: LP0750001_101_20240603_요약서.pdf\n"
     ]
    },
    {
     "name": "stdout",
     "output_type": "stream",
     "text": [
      "PDF 뷰어 URL: https://pcms.samsunglife.com/partnerpage/CustomerPage_Unit.jsp?goodsCode=LP0750001&docType=101&saleDate=20240603&pageGubun=prdt\n"
     ]
    },
    {
     "name": "stderr",
     "output_type": "stream",
     "text": [
      "2024-12-12 21:02:35,156 - INFO - PDF 뷰어 URL: https://pcms.samsunglife.com/partnerpage/CustomerPage_Unit.jsp?goodsCode=LP0750001&docType=401&saleDate=20240603&pageGubun=prdt\n",
      "2024-12-12 21:02:35 - MainThread - INFO - get_pdf_view_url - PDF 뷰어 URL: https://pcms.samsunglife.com/partnerpage/CustomerPage_Unit.jsp?goodsCode=LP0750001&docType=401&saleDate=20240603&pageGubun=prdt\n",
      "2024-12-12 21:02:35,160 - INFO - 방법서 - 파일이 이미 존재합니다: LP0750001_401_20240603_방법서.pdf\n",
      "2024-12-12 21:02:35 - MainThread - INFO - download_pdf - 방법서 - 파일이 이미 존재합니다: LP0750001_401_20240603_방법서.pdf\n"
     ]
    },
    {
     "name": "stdout",
     "output_type": "stream",
     "text": [
      "PDF 뷰어 URL: https://pcms.samsunglife.com/partnerpage/CustomerPage_Unit.jsp?goodsCode=LP0750001&docType=401&saleDate=20240603&pageGubun=prdt\n"
     ]
    },
    {
     "name": "stderr",
     "output_type": "stream",
     "text": [
      "2024-12-12 21:02:36,293 - INFO - PDF 뷰어 URL: https://pcms.samsunglife.com/partnerpage/CustomerPage_Unit.jsp?goodsCode=LP0750001&docType=301&saleDate=20240603&pageGubun=prdt\n",
      "2024-12-12 21:02:36 - MainThread - INFO - get_pdf_view_url - PDF 뷰어 URL: https://pcms.samsunglife.com/partnerpage/CustomerPage_Unit.jsp?goodsCode=LP0750001&docType=301&saleDate=20240603&pageGubun=prdt\n",
      "2024-12-12 21:02:36,297 - INFO - 약관 - 파일이 이미 존재합니다: LP0750001_301_20240603_약관.pdf\n",
      "2024-12-12 21:02:36 - MainThread - INFO - download_pdf - 약관 - 파일이 이미 존재합니다: LP0750001_301_20240603_약관.pdf\n"
     ]
    },
    {
     "name": "stdout",
     "output_type": "stream",
     "text": [
      "PDF 뷰어 URL: https://pcms.samsunglife.com/partnerpage/CustomerPage_Unit.jsp?goodsCode=LP0750001&docType=301&saleDate=20240603&pageGubun=prdt\n"
     ]
    },
    {
     "name": "stderr",
     "output_type": "stream",
     "text": [
      "2024-12-12 21:02:37,523 - INFO - PDF 뷰어 URL: https://pcms.samsunglife.com/partnerpage/CustomerPage_Unit.jsp?goodsCode=LP070100202AB02K01&docType=101&saleDate=20240401&pageGubun=prdt\n",
      "2024-12-12 21:02:37 - MainThread - INFO - get_pdf_view_url - PDF 뷰어 URL: https://pcms.samsunglife.com/partnerpage/CustomerPage_Unit.jsp?goodsCode=LP070100202AB02K01&docType=101&saleDate=20240401&pageGubun=prdt\n",
      "2024-12-12 21:02:37,527 - INFO - 요약서 - 파일이 이미 존재합니다: LP070100202AB02K01_101_20240401_요약서.pdf\n",
      "2024-12-12 21:02:37 - MainThread - INFO - download_pdf - 요약서 - 파일이 이미 존재합니다: LP070100202AB02K01_101_20240401_요약서.pdf\n"
     ]
    },
    {
     "name": "stdout",
     "output_type": "stream",
     "text": [
      "PDF 뷰어 URL: https://pcms.samsunglife.com/partnerpage/CustomerPage_Unit.jsp?goodsCode=LP070100202AB02K01&docType=101&saleDate=20240401&pageGubun=prdt\n"
     ]
    },
    {
     "name": "stderr",
     "output_type": "stream",
     "text": [
      "2024-12-12 21:02:38,668 - INFO - PDF 뷰어 URL: https://pcms.samsunglife.com/partnerpage/CustomerPage_Unit.jsp?goodsCode=LP070100202AB02K01&docType=401&saleDate=20240401&pageGubun=prdt\n",
      "2024-12-12 21:02:38 - MainThread - INFO - get_pdf_view_url - PDF 뷰어 URL: https://pcms.samsunglife.com/partnerpage/CustomerPage_Unit.jsp?goodsCode=LP070100202AB02K01&docType=401&saleDate=20240401&pageGubun=prdt\n",
      "2024-12-12 21:02:38,673 - INFO - 방법서 - 파일이 이미 존재합니다: LP070100202AB02K01_401_20240401_방법서.pdf\n",
      "2024-12-12 21:02:38 - MainThread - INFO - download_pdf - 방법서 - 파일이 이미 존재합니다: LP070100202AB02K01_401_20240401_방법서.pdf\n"
     ]
    },
    {
     "name": "stdout",
     "output_type": "stream",
     "text": [
      "PDF 뷰어 URL: https://pcms.samsunglife.com/partnerpage/CustomerPage_Unit.jsp?goodsCode=LP070100202AB02K01&docType=401&saleDate=20240401&pageGubun=prdt\n"
     ]
    },
    {
     "name": "stderr",
     "output_type": "stream",
     "text": [
      "2024-12-12 21:02:39,807 - INFO - PDF 뷰어 URL: https://pcms.samsunglife.com/partnerpage/CustomerPage_Unit.jsp?goodsCode=LP070100202AB02K01&docType=301&saleDate=20240401&pageGubun=prdt\n",
      "2024-12-12 21:02:39 - MainThread - INFO - get_pdf_view_url - PDF 뷰어 URL: https://pcms.samsunglife.com/partnerpage/CustomerPage_Unit.jsp?goodsCode=LP070100202AB02K01&docType=301&saleDate=20240401&pageGubun=prdt\n",
      "2024-12-12 21:02:39,810 - INFO - 약관 - 파일이 이미 존재합니다: LP070100202AB02K01_301_20240401_약관.pdf\n",
      "2024-12-12 21:02:39 - MainThread - INFO - download_pdf - 약관 - 파일이 이미 존재합니다: LP070100202AB02K01_301_20240401_약관.pdf\n"
     ]
    },
    {
     "name": "stdout",
     "output_type": "stream",
     "text": [
      "PDF 뷰어 URL: https://pcms.samsunglife.com/partnerpage/CustomerPage_Unit.jsp?goodsCode=LP070100202AB02K01&docType=301&saleDate=20240401&pageGubun=prdt\n"
     ]
    },
    {
     "name": "stderr",
     "output_type": "stream",
     "text": [
      "2024-12-12 21:02:40,977 - INFO - PDF 뷰어 URL: https://pcms.samsunglife.com/partnerpage/CustomerPage_Unit.jsp?goodsCode=LP070100202AB02K01&docType=101&saleDate=20240101&pageGubun=prdt\n",
      "2024-12-12 21:02:40 - MainThread - INFO - get_pdf_view_url - PDF 뷰어 URL: https://pcms.samsunglife.com/partnerpage/CustomerPage_Unit.jsp?goodsCode=LP070100202AB02K01&docType=101&saleDate=20240101&pageGubun=prdt\n",
      "2024-12-12 21:02:40,982 - INFO - 요약서 - 파일이 이미 존재합니다: LP070100202AB02K01_101_20240101_요약서.pdf\n",
      "2024-12-12 21:02:40 - MainThread - INFO - download_pdf - 요약서 - 파일이 이미 존재합니다: LP070100202AB02K01_101_20240101_요약서.pdf\n"
     ]
    },
    {
     "name": "stdout",
     "output_type": "stream",
     "text": [
      "PDF 뷰어 URL: https://pcms.samsunglife.com/partnerpage/CustomerPage_Unit.jsp?goodsCode=LP070100202AB02K01&docType=101&saleDate=20240101&pageGubun=prdt\n"
     ]
    },
    {
     "name": "stderr",
     "output_type": "stream",
     "text": [
      "2024-12-12 21:02:42,126 - INFO - PDF 뷰어 URL: https://pcms.samsunglife.com/partnerpage/CustomerPage_Unit.jsp?goodsCode=LP070100202AB02K01&docType=401&saleDate=20240101&pageGubun=prdt\n",
      "2024-12-12 21:02:42 - MainThread - INFO - get_pdf_view_url - PDF 뷰어 URL: https://pcms.samsunglife.com/partnerpage/CustomerPage_Unit.jsp?goodsCode=LP070100202AB02K01&docType=401&saleDate=20240101&pageGubun=prdt\n",
      "2024-12-12 21:02:42,130 - INFO - 방법서 - 파일이 이미 존재합니다: LP070100202AB02K01_401_20240101_방법서.pdf\n",
      "2024-12-12 21:02:42 - MainThread - INFO - download_pdf - 방법서 - 파일이 이미 존재합니다: LP070100202AB02K01_401_20240101_방법서.pdf\n"
     ]
    },
    {
     "name": "stdout",
     "output_type": "stream",
     "text": [
      "PDF 뷰어 URL: https://pcms.samsunglife.com/partnerpage/CustomerPage_Unit.jsp?goodsCode=LP070100202AB02K01&docType=401&saleDate=20240101&pageGubun=prdt\n"
     ]
    },
    {
     "name": "stderr",
     "output_type": "stream",
     "text": [
      "2024-12-12 21:02:43,253 - INFO - PDF 뷰어 URL: https://pcms.samsunglife.com/partnerpage/CustomerPage_Unit.jsp?goodsCode=LP070100202AB02K01&docType=301&saleDate=20240101&pageGubun=prdt\n",
      "2024-12-12 21:02:43 - MainThread - INFO - get_pdf_view_url - PDF 뷰어 URL: https://pcms.samsunglife.com/partnerpage/CustomerPage_Unit.jsp?goodsCode=LP070100202AB02K01&docType=301&saleDate=20240101&pageGubun=prdt\n",
      "2024-12-12 21:02:43,258 - INFO - 약관 - 파일이 이미 존재합니다: LP070100202AB02K01_301_20240101_약관.pdf\n",
      "2024-12-12 21:02:43 - MainThread - INFO - download_pdf - 약관 - 파일이 이미 존재합니다: LP070100202AB02K01_301_20240101_약관.pdf\n"
     ]
    },
    {
     "name": "stdout",
     "output_type": "stream",
     "text": [
      "PDF 뷰어 URL: https://pcms.samsunglife.com/partnerpage/CustomerPage_Unit.jsp?goodsCode=LP070100202AB02K01&docType=301&saleDate=20240101&pageGubun=prdt\n"
     ]
    },
    {
     "name": "stderr",
     "output_type": "stream",
     "text": [
      "2024-12-12 21:02:44,457 - INFO - PDF 뷰어 URL: https://pcms.samsunglife.com/partnerpage/CustomerPage_Unit.jsp?goodsCode=LP069700202&docType=101&saleDate=20240401&pageGubun=prdt\n",
      "2024-12-12 21:02:44 - MainThread - INFO - get_pdf_view_url - PDF 뷰어 URL: https://pcms.samsunglife.com/partnerpage/CustomerPage_Unit.jsp?goodsCode=LP069700202&docType=101&saleDate=20240401&pageGubun=prdt\n",
      "2024-12-12 21:02:44,462 - INFO - 요약서 - 파일이 이미 존재합니다: LP069700202_101_20240401_요약서.pdf\n",
      "2024-12-12 21:02:44 - MainThread - INFO - download_pdf - 요약서 - 파일이 이미 존재합니다: LP069700202_101_20240401_요약서.pdf\n"
     ]
    },
    {
     "name": "stdout",
     "output_type": "stream",
     "text": [
      "PDF 뷰어 URL: https://pcms.samsunglife.com/partnerpage/CustomerPage_Unit.jsp?goodsCode=LP069700202&docType=101&saleDate=20240401&pageGubun=prdt\n"
     ]
    },
    {
     "name": "stderr",
     "output_type": "stream",
     "text": [
      "2024-12-12 21:02:45,624 - INFO - PDF 뷰어 URL: https://pcms.samsunglife.com/partnerpage/CustomerPage_Unit.jsp?goodsCode=LP069700202&docType=401&saleDate=20240401&pageGubun=prdt\n",
      "2024-12-12 21:02:45 - MainThread - INFO - get_pdf_view_url - PDF 뷰어 URL: https://pcms.samsunglife.com/partnerpage/CustomerPage_Unit.jsp?goodsCode=LP069700202&docType=401&saleDate=20240401&pageGubun=prdt\n",
      "2024-12-12 21:02:45,628 - INFO - 방법서 - 파일이 이미 존재합니다: LP069700202_401_20240401_방법서.pdf\n",
      "2024-12-12 21:02:45 - MainThread - INFO - download_pdf - 방법서 - 파일이 이미 존재합니다: LP069700202_401_20240401_방법서.pdf\n"
     ]
    },
    {
     "name": "stdout",
     "output_type": "stream",
     "text": [
      "PDF 뷰어 URL: https://pcms.samsunglife.com/partnerpage/CustomerPage_Unit.jsp?goodsCode=LP069700202&docType=401&saleDate=20240401&pageGubun=prdt\n"
     ]
    },
    {
     "name": "stderr",
     "output_type": "stream",
     "text": [
      "2024-12-12 21:02:46,774 - INFO - PDF 뷰어 URL: https://pcms.samsunglife.com/partnerpage/CustomerPage_Unit.jsp?goodsCode=LP069700202&docType=301&saleDate=20240401&pageGubun=prdt\n",
      "2024-12-12 21:02:46 - MainThread - INFO - get_pdf_view_url - PDF 뷰어 URL: https://pcms.samsunglife.com/partnerpage/CustomerPage_Unit.jsp?goodsCode=LP069700202&docType=301&saleDate=20240401&pageGubun=prdt\n",
      "2024-12-12 21:02:46,778 - INFO - 약관 - 파일이 이미 존재합니다: LP069700202_301_20240401_약관.pdf\n",
      "2024-12-12 21:02:46 - MainThread - INFO - download_pdf - 약관 - 파일이 이미 존재합니다: LP069700202_301_20240401_약관.pdf\n"
     ]
    },
    {
     "name": "stdout",
     "output_type": "stream",
     "text": [
      "PDF 뷰어 URL: https://pcms.samsunglife.com/partnerpage/CustomerPage_Unit.jsp?goodsCode=LP069700202&docType=301&saleDate=20240401&pageGubun=prdt\n"
     ]
    },
    {
     "name": "stderr",
     "output_type": "stream",
     "text": [
      "2024-12-12 21:02:48,058 - INFO - PDF 뷰어 URL: https://pcms.samsunglife.com/partnerpage/CustomerPage_Unit.jsp?goodsCode=LP069700202&docType=101&saleDate=20240101&pageGubun=prdt\n",
      "2024-12-12 21:02:48 - MainThread - INFO - get_pdf_view_url - PDF 뷰어 URL: https://pcms.samsunglife.com/partnerpage/CustomerPage_Unit.jsp?goodsCode=LP069700202&docType=101&saleDate=20240101&pageGubun=prdt\n",
      "2024-12-12 21:02:48,062 - INFO - 요약서 - 파일이 이미 존재합니다: LP069700202_101_20240101_요약서.pdf\n",
      "2024-12-12 21:02:48 - MainThread - INFO - download_pdf - 요약서 - 파일이 이미 존재합니다: LP069700202_101_20240101_요약서.pdf\n"
     ]
    },
    {
     "name": "stdout",
     "output_type": "stream",
     "text": [
      "PDF 뷰어 URL: https://pcms.samsunglife.com/partnerpage/CustomerPage_Unit.jsp?goodsCode=LP069700202&docType=101&saleDate=20240101&pageGubun=prdt\n"
     ]
    },
    {
     "name": "stderr",
     "output_type": "stream",
     "text": [
      "2024-12-12 21:02:49,222 - INFO - PDF 뷰어 URL: https://pcms.samsunglife.com/partnerpage/CustomerPage_Unit.jsp?goodsCode=LP069700202&docType=401&saleDate=20240101&pageGubun=prdt\n",
      "2024-12-12 21:02:49 - MainThread - INFO - get_pdf_view_url - PDF 뷰어 URL: https://pcms.samsunglife.com/partnerpage/CustomerPage_Unit.jsp?goodsCode=LP069700202&docType=401&saleDate=20240101&pageGubun=prdt\n",
      "2024-12-12 21:02:49,227 - INFO - 방법서 - 파일이 이미 존재합니다: LP069700202_401_20240101_방법서.pdf\n",
      "2024-12-12 21:02:49 - MainThread - INFO - download_pdf - 방법서 - 파일이 이미 존재합니다: LP069700202_401_20240101_방법서.pdf\n"
     ]
    },
    {
     "name": "stdout",
     "output_type": "stream",
     "text": [
      "PDF 뷰어 URL: https://pcms.samsunglife.com/partnerpage/CustomerPage_Unit.jsp?goodsCode=LP069700202&docType=401&saleDate=20240101&pageGubun=prdt\n"
     ]
    },
    {
     "name": "stderr",
     "output_type": "stream",
     "text": [
      "2024-12-12 21:02:50,356 - INFO - PDF 뷰어 URL: https://pcms.samsunglife.com/partnerpage/CustomerPage_Unit.jsp?goodsCode=LP069700202&docType=301&saleDate=20240101&pageGubun=prdt\n",
      "2024-12-12 21:02:50 - MainThread - INFO - get_pdf_view_url - PDF 뷰어 URL: https://pcms.samsunglife.com/partnerpage/CustomerPage_Unit.jsp?goodsCode=LP069700202&docType=301&saleDate=20240101&pageGubun=prdt\n",
      "2024-12-12 21:02:50,360 - INFO - 약관 - 파일이 이미 존재합니다: LP069700202_301_20240101_약관.pdf\n",
      "2024-12-12 21:02:50 - MainThread - INFO - download_pdf - 약관 - 파일이 이미 존재합니다: LP069700202_301_20240101_약관.pdf\n"
     ]
    },
    {
     "name": "stdout",
     "output_type": "stream",
     "text": [
      "PDF 뷰어 URL: https://pcms.samsunglife.com/partnerpage/CustomerPage_Unit.jsp?goodsCode=LP069700202&docType=301&saleDate=20240101&pageGubun=prdt\n"
     ]
    }
   ],
   "source": [
    "def setup_logging():\n",
    "    \"\"\"로깅 설정을 위한 함수\"\"\"\n",
    "    timestamp = datetime.now().strftime('%Y%m%d_%H%M%S')\n",
    "    log_file = os.path.join(LOG_DIR, f\"samsung_life_scraping_{timestamp}.log\")\n",
    "    \n",
    "    # 로그 포맷터 설정\n",
    "    log_formatter = logging.Formatter(\n",
    "        '%(asctime)s - %(threadName)s - %(levelname)s - %(funcName)s - %(message)s',\n",
    "        datefmt='%Y-%m-%d %H:%M:%S'\n",
    "    )\n",
    "    \n",
    "    # 파일 핸들러 설정\n",
    "    file_handler = logging.FileHandler(log_file, encoding='utf-8')\n",
    "    file_handler.setFormatter(log_formatter)\n",
    "    file_handler.setLevel(logging.INFO)\n",
    "    \n",
    "    # 콘솔 핸들러 설정\n",
    "    console_handler = logging.StreamHandler()\n",
    "    console_handler.setFormatter(log_formatter)\n",
    "    console_handler.setLevel(logging.INFO)\n",
    "    \n",
    "    # 로거 설정\n",
    "    logger = logging.getLogger()\n",
    "    logger.setLevel(logging.INFO)\n",
    "    logger.addHandler(file_handler)\n",
    "    logger.addHandler(console_handler)\n",
    "    \n",
    "    return logger\n",
    "\n",
    "def save_results(df, output_dir):\n",
    "    \"\"\"결과 데이터프레임을 저장하는 함수\"\"\"\n",
    "    try:\n",
    "        os.makedirs(output_dir, exist_ok=True)\n",
    "        timestamp = datetime.now().strftime('%Y%m%d_%H%M%S')\n",
    "        output_file = os.path.join(output_dir, f\"samsung_life_products_{timestamp}.xlsx\")\n",
    "        \n",
    "        df.to_excel(output_file, index=False)\n",
    "        logging.info(f\"데이터를 {output_file} 파일로 저장했습니다.\")\n",
    "        logging.info(f\"총 {len(df)} 개의 행이 저장되었습니다.\")\n",
    "        return True\n",
    "    except Exception as e:\n",
    "        logging.error(f\"결과 저장 중 오류 발생: {str(e)}\")\n",
    "        return False\n",
    "\n",
    "def main():\n",
    "    \"\"\"메인 실행 함수\"\"\"\n",
    "    driver_wrapper = None\n",
    "    max_retries = 3\n",
    "    retry_delay = 5  # 재시도 대기 시간(초)\n",
    "    \n",
    "    for attempt in range(max_retries):\n",
    "        try:\n",
    "            # ChromeDriverWrapper 인스턴스 획득\n",
    "            driver_wrapper = ChromeDriverWrapper.get_instance()\n",
    "            logging.info(f\"시도 {attempt + 1}/{max_retries}: Chrome 드라이버 래퍼 초기화 성공\")\n",
    "            \n",
    "            # 컨텍스트 매니저를 통한 드라이버 사용\n",
    "            with driver_wrapper.acquire_driver() as driver:\n",
    "                logging.info(\"Chrome 드라이버 획득 성공\")\n",
    "                \n",
    "                # 스크래핑 실행\n",
    "                df1 = scrape_samsung_life_products()\n",
    "                \n",
    "                if df1 is not None and len(df1) > 0:\n",
    "                    # 결과 저장\n",
    "                    if save_results(df1, \"data/results\"):\n",
    "                        logging.info(\"프로그램 실행 완료\")\n",
    "                        break  # 성공적으로 완료되면 루프 종료\n",
    "                else:\n",
    "                    logging.error(\"수집된 데이터가 없습니다.\")\n",
    "                    if attempt < max_retries - 1:\n",
    "                        logging.info(f\"{retry_delay}초 후 재시도합니다...\")\n",
    "                        time.sleep(retry_delay)\n",
    "                    continue\n",
    "\n",
    "        except Exception as e:\n",
    "            logging.error(f\"시도 {attempt + 1}/{max_retries} 실패: {str(e)}\")\n",
    "            if attempt < max_retries - 1:\n",
    "                logging.info(f\"{retry_delay}초 후 재시도합니다...\")\n",
    "                time.sleep(retry_delay)\n",
    "            else:\n",
    "                logging.error(\"최대 재시도 횟수를 초과했습니다.\")\n",
    "                raise\n",
    "        \n",
    "        finally:\n",
    "            # 드라이버 정리\n",
    "            if driver_wrapper:\n",
    "                try:\n",
    "                    driver_wrapper.quit_driver()\n",
    "                    logging.info(\"Chrome 드라이버 정리 완료\")\n",
    "                except Exception as e:\n",
    "                    logging.error(f\"드라이버 정리 중 오류 발생: {str(e)}\")\n",
    "\n",
    "if __name__ == \"__main__\":\n",
    "    try:\n",
    "        # 필요한 디렉토리 생성\n",
    "        for directory in [PDF_DIR, LOG_DIR]:\n",
    "            try:\n",
    "                os.makedirs(directory, exist_ok=True)\n",
    "                logging.info(f\"디렉토리 생성/확인 완료: {directory}\")\n",
    "            except Exception as e:\n",
    "                logging.error(f\"디렉토리 생성 중 오류 발생: {str(e)}\")\n",
    "                raise\n",
    "        \n",
    "        # 로깅 설정\n",
    "        logger = setup_logging()\n",
    "        logger.info(\"프로그램 시작\")\n",
    "        \n",
    "        # 메인 함수 실행\n",
    "        main()\n",
    "        \n",
    "    except KeyboardInterrupt:\n",
    "        logger.warning(\"사용자에 의해 프로그램이 중단되었습니다.\")\n",
    "    except Exception as e:\n",
    "        logger.error(f\"예기치 않은 오류 발생: {str(e)}\", exc_info=True)\n",
    "    finally:\n",
    "        logger.info(\"프로그램 종료\")"
   ]
  }
 ],
 "metadata": {
  "kernelspec": {
   "display_name": "venv",
   "language": "python",
   "name": "python3"
  },
  "language_info": {
   "codemirror_mode": {
    "name": "ipython",
    "version": 3
   },
   "file_extension": ".py",
   "mimetype": "text/x-python",
   "name": "python",
   "nbconvert_exporter": "python",
   "pygments_lexer": "ipython3",
   "version": "3.10.12"
  }
 },
 "nbformat": 4,
 "nbformat_minor": 2
}
