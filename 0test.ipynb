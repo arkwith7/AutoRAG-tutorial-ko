{
 "cells": [
  {
   "cell_type": "code",
   "execution_count": 1,
   "metadata": {},
   "outputs": [
    {
     "name": "stdout",
     "output_type": "stream",
     "text": [
      "https://pcms.samsunglife.com/uploadDir/doc/2024/0401/LP0345010/301/1711698169038.pdf\n"
     ]
    }
   ],
   "source": [
    "from selenium import webdriver\n",
    "from selenium.webdriver.common.by import By\n",
    "from selenium.webdriver.chrome.service import Service\n",
    "from selenium.webdriver.chrome.options import Options\n",
    "from webdriver_manager.chrome import ChromeDriverManager\n",
    "import logging\n",
    "import re\n",
    "from urllib.parse import urljoin\n",
    "\n",
    "def get_real_pdf_url(viewer_url):\n",
    "    try:\n",
    "        # Chrome 옵션 설정\n",
    "        chrome_options = Options()\n",
    "        chrome_options.add_argument(\"--headless\")  # 브라우저 창을 띄우지 않음\n",
    "        chrome_options.add_argument(\"--no-sandbox\")\n",
    "        chrome_options.add_argument(\"--disable-dev-shm-usage\")\n",
    "\n",
    "        # Chrome 드라이버 설정\n",
    "        driver = webdriver.Chrome(service=Service(ChromeDriverManager().install()), options=chrome_options)\n",
    "        \n",
    "        # 페이지 로드\n",
    "        driver.get(viewer_url)\n",
    "        \n",
    "        # iframe 요소 찾기\n",
    "        iframe = driver.find_element(By.ID, 'viewerFrame')\n",
    "        src = iframe.get_attribute('src')\n",
    "        \n",
    "        if not src:\n",
    "            logging.error(\"iframe의 src 속성을 찾을 수 없습니다\")\n",
    "            return None\n",
    "        \n",
    "        # src URL 절대 경로 변환\n",
    "        iframe_url = urljoin('https://pcms.samsunglife.com', src)\n",
    "        logging.info(f\"iframe URL: {iframe_url}\")\n",
    "        \n",
    "        # iframe 페이지로 이동\n",
    "        driver.get(iframe_url)\n",
    "        \n",
    "        # 페이지 소스에서 PDF 경로 찾기\n",
    "        page_source = driver.page_source\n",
    "        patterns = [\n",
    "            r'\"filepath\"\\s*:\\s*[\\'\"](.+?\\.pdf)[\\'\"]',\n",
    "            r'\"downloadURL\"\\s*:\\s*[\\'\"](.+?\\.pdf)[\\'\"]'\n",
    "        ]\n",
    "        \n",
    "        for pattern in patterns:\n",
    "            match = re.search(pattern, page_source)\n",
    "            if match:\n",
    "                pdf_path = match.group(1)\n",
    "                pdf_url = urljoin('https://pcms.samsunglife.com', pdf_path)\n",
    "                logging.info(f\"PDF 다운로드 URL 찾음: {pdf_url}\")\n",
    "                return pdf_url\n",
    "        \n",
    "        logging.error(\"PDF 파일 경로를 찾을 수 없음\")\n",
    "        return None\n",
    "        \n",
    "    except Exception as e:\n",
    "        logging.error(f\"PDF URL 추출 중 오류 발생: {str(e)}\")\n",
    "        return None\n",
    "    finally:\n",
    "        driver.quit()\n",
    "\n",
    "# 사용 예시\n",
    "viewer_url = \"https://pcms.samsunglife.com/partnerpage/CustomerPage_Unit.jsp?goodsCode=LP0345010&docType=301&saleDate=20240401&pageGubun=prdt\"\n",
    "pdf_url = get_real_pdf_url(viewer_url)\n",
    "print(pdf_url)"
   ]
  }
 ],
 "metadata": {
  "kernelspec": {
   "display_name": "doc_env",
   "language": "python",
   "name": "python3"
  },
  "language_info": {
   "codemirror_mode": {
    "name": "ipython",
    "version": 3
   },
   "file_extension": ".py",
   "mimetype": "text/x-python",
   "name": "python",
   "nbconvert_exporter": "python",
   "pygments_lexer": "ipython3",
   "version": "3.10.12"
  }
 },
 "nbformat": 4,
 "nbformat_minor": 2
}
