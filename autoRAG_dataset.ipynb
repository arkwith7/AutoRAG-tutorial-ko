{
 "cells": [
  {
   "cell_type": "code",
   "execution_count": 1,
   "metadata": {},
   "outputs": [
    {
     "data": {
      "text/html": [
       "<div>\n",
       "<style scoped>\n",
       "    .dataframe tbody tr th:only-of-type {\n",
       "        vertical-align: middle;\n",
       "    }\n",
       "\n",
       "    .dataframe tbody tr th {\n",
       "        vertical-align: top;\n",
       "    }\n",
       "\n",
       "    .dataframe thead th {\n",
       "        text-align: right;\n",
       "    }\n",
       "</style>\n",
       "<table border=\"1\" class=\"dataframe\">\n",
       "  <thead>\n",
       "    <tr style=\"text-align: right;\">\n",
       "      <th></th>\n",
       "      <th>doc_id</th>\n",
       "      <th>contents</th>\n",
       "      <th>metadata</th>\n",
       "    </tr>\n",
       "  </thead>\n",
       "  <tbody>\n",
       "    <tr>\n",
       "      <th>0</th>\n",
       "      <td>93d3e6e1-c19b-4a69-8f95-cec32a7cb34e</td>\n",
       "      <td>Advertisement\\n문화문화일반\\n[현장 ] 데뷔  23개 월  만에  도 ...</td>\n",
       "      <td>{'creation_date': '2024-08-20', 'file_name': '...</td>\n",
       "    </tr>\n",
       "    <tr>\n",
       "      <th>1</th>\n",
       "      <td>230b353f-c906-41de-b4fb-11e260c6440d</td>\n",
       "      <td>뉴진스 , 월드투어  기대감  키웠다\\nhttps://www.hani.co.kr/a...</td>\n",
       "      <td>{'creation_date': '2024-08-20', 'file_name': '...</td>\n",
       "    </tr>\n",
       "    <tr>\n",
       "      <th>2</th>\n",
       "      <td>4777a8f6-076a-4d02-9b17-801f7aed41ea</td>\n",
       "      <td>곧이어  뉴진 스 멤버 들 이 첫  곡  ‘ 어 텐 션 ’ 을  부 르며  등 장 ...</td>\n",
       "      <td>{'creation_date': '2024-08-20', 'file_name': '...</td>\n",
       "    </tr>\n",
       "    <tr>\n",
       "      <th>3</th>\n",
       "      <td>9abec3bd-758e-4478-8e7c-008fe34ecf47</td>\n",
       "      <td>익숙한  노래들을  새 롭 게  들 려 주 고 보여주는  시 도 가 잇 따 랐 다....</td>\n",
       "      <td>{'creation_date': '2024-08-20', 'file_name': '...</td>\n",
       "    </tr>\n",
       "    <tr>\n",
       "      <th>4</th>\n",
       "      <td>e356add9-15ed-48f4-8b60-94e741758f48</td>\n",
       "      <td>뉴진스 , 월드투어  기대감  키웠다\\nhttps://www.hani.co.kr/a...</td>\n",
       "      <td>{'creation_date': '2024-08-20', 'file_name': '...</td>\n",
       "    </tr>\n",
       "  </tbody>\n",
       "</table>\n",
       "</div>"
      ],
      "text/plain": [
       "                                 doc_id  \\\n",
       "0  93d3e6e1-c19b-4a69-8f95-cec32a7cb34e   \n",
       "1  230b353f-c906-41de-b4fb-11e260c6440d   \n",
       "2  4777a8f6-076a-4d02-9b17-801f7aed41ea   \n",
       "3  9abec3bd-758e-4478-8e7c-008fe34ecf47   \n",
       "4  e356add9-15ed-48f4-8b60-94e741758f48   \n",
       "\n",
       "                                            contents  \\\n",
       "0  Advertisement\\n문화문화일반\\n[현장 ] 데뷔  23개 월  만에  도 ...   \n",
       "1  뉴진스 , 월드투어  기대감  키웠다\\nhttps://www.hani.co.kr/a...   \n",
       "2  곧이어  뉴진 스 멤버 들 이 첫  곡  ‘ 어 텐 션 ’ 을  부 르며  등 장 ...   \n",
       "3  익숙한  노래들을  새 롭 게  들 려 주 고 보여주는  시 도 가 잇 따 랐 다....   \n",
       "4  뉴진스 , 월드투어  기대감  키웠다\\nhttps://www.hani.co.kr/a...   \n",
       "\n",
       "                                            metadata  \n",
       "0  {'creation_date': '2024-08-20', 'file_name': '...  \n",
       "1  {'creation_date': '2024-08-20', 'file_name': '...  \n",
       "2  {'creation_date': '2024-08-20', 'file_name': '...  \n",
       "3  {'creation_date': '2024-08-20', 'file_name': '...  \n",
       "4  {'creation_date': '2024-08-20', 'file_name': '...  "
      ]
     },
     "execution_count": 1,
     "metadata": {},
     "output_type": "execute_result"
    }
   ],
   "source": [
    "import pandas as pd\n",
    "\n",
    "df = pd.read_parquet('data/corpus_new.parquet')\n",
    "\n",
    "df.head()"
   ]
  }
 ],
 "metadata": {
  "kernelspec": {
   "display_name": "venv",
   "language": "python",
   "name": "python3"
  },
  "language_info": {
   "codemirror_mode": {
    "name": "ipython",
    "version": 3
   },
   "file_extension": ".py",
   "mimetype": "text/x-python",
   "name": "python",
   "nbconvert_exporter": "python",
   "pygments_lexer": "ipython3",
   "version": "3.11.1"
  }
 },
 "nbformat": 4,
 "nbformat_minor": 2
}
