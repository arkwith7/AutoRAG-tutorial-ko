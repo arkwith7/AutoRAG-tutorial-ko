{
 "cells": [
  {
   "cell_type": "code",
   "execution_count": 1,
   "metadata": {},
   "outputs": [],
   "source": [
    "import tiktoken\n",
    "from PyPDF2 import PdfReader"
   ]
  },
  {
   "cell_type": "code",
   "execution_count": 2,
   "metadata": {},
   "outputs": [
    {
     "name": "stdout",
     "output_type": "stream",
     "text": [
      "단순 분리 방식으로 토큰화한 결과: 1718개의 토큰\n"
     ]
    }
   ],
   "source": [
    "# Load the PDF\n",
    "file_path = './raw_docs/temp/038.사업방법서_신한윈윈플러스보험Ⅲ(무배당)_240401_v2_P10.pdf'\n",
    "reader = PdfReader(file_path)\n",
    "\n",
    "# Extract the text\n",
    "text = \"\"\n",
    "for page in reader.pages:\n",
    "    text += page.extract_text()\n",
    "\n",
    "# Count the number of tokens (words in this case, for simplicity)\n",
    "tokens = text.split()\n",
    "token_count = len(tokens)\n",
    "\n",
    "print(f\"단순 분리 방식으로 토큰화한 결과: {token_count}개의 토큰\")"
   ]
  },
  {
   "cell_type": "code",
   "execution_count": 3,
   "metadata": {},
   "outputs": [
    {
     "name": "stdout",
     "output_type": "stream",
     "text": [
      "BPE 방식으로 토큰화한 결과: 15656개의 토큰\n"
     ]
    }
   ],
   "source": [
    "# GPT-2의 BPE 방식 토크나이저 불러오기\n",
    "encoding = tiktoken.get_encoding(\"gpt2\")\n",
    "\n",
    "# PDF에서 추출한 텍스트를 BPE 방식으로 토큰화\n",
    "tokens_bpe = encoding.encode(text)\n",
    "\n",
    "# 토큰 수 계산\n",
    "bpe_token_count = len(tokens_bpe)\n",
    "\n",
    "print(f\"BPE 방식으로 토큰화한 결과: {bpe_token_count}개의 토큰\")"
   ]
  }
 ],
 "metadata": {
  "kernelspec": {
   "display_name": "venv",
   "language": "python",
   "name": "python3"
  },
  "language_info": {
   "codemirror_mode": {
    "name": "ipython",
    "version": 3
   },
   "file_extension": ".py",
   "mimetype": "text/x-python",
   "name": "python",
   "nbconvert_exporter": "python",
   "pygments_lexer": "ipython3",
   "version": "3.11.1"
  }
 },
 "nbformat": 4,
 "nbformat_minor": 2
}
